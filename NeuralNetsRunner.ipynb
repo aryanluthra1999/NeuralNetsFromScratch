{
 "cells": [
  {
   "cell_type": "code",
   "execution_count": 3,
   "metadata": {},
   "outputs": [],
   "source": [
    "from IPython.display import Image\n",
    "%load_ext autoreload\n",
    "%autoreload 2\n",
    "import numpy as np\n",
    "from neural_networks.utils.grad_check import check_gradients\n",
    "from neural_networks.layers import FullyConnected, Elman, Conv2D\n",
    "from neural_networks.activations import Linear, Sigmoid, TanH, ReLU, SoftMax"
   ]
  },
  {
   "cell_type": "markdown",
   "metadata": {},
   "source": [
    "# Honor Code\n",
    "\n",
    "# “I certify that all solutions are entirely in my own words and that I have not looked at another student’s solutions. I have given credit to all external sources I consulted.”\n"
   ]
  },
  {
   "cell_type": "markdown",
   "metadata": {},
   "source": [
    "# 3.1"
   ]
  },
  {
   "cell_type": "markdown",
   "metadata": {},
   "source": [
    "## Gradient Checker\n",
    "### Linear Activation"
   ]
  },
  {
   "cell_type": "code",
   "execution_count": 2,
   "metadata": {},
   "outputs": [
    {
     "name": "stdout",
     "output_type": "stream",
     "text": [
      "Relative error for linear activation: 1.668681370207644e-11\n"
     ]
    }
   ],
   "source": [
    "X = np.random.randn(2, 3)\n",
    "dLdY = np.random.randn(2, 3)\n",
    "\n",
    "# initialize a fully connected layer\n",
    "# and perform a forward and backward pass\n",
    "linear_activation = Linear()\n",
    "_ = linear_activation.forward(X)\n",
    "grad = linear_activation.backward(X, dLdY)\n",
    "\n",
    "# check the gradients w.r.t. each parameter\n",
    "print(\n",
    "    \n",
    "    f\"Relative error for linear activation:\",\n",
    "    \n",
    "    check_gradients(\n",
    "        fn=linear_activation.forward,  # the function we are checking\n",
    "        grad=grad,  # the analytically computed gradient\n",
    "        x=X,        # the variable w.r.t. which we are taking the gradient\n",
    "        dLdf=dLdY,  # gradient at previous layer\n",
    "    )\n",
    ")"
   ]
  },
  {
   "cell_type": "markdown",
   "metadata": {},
   "source": [
    "### Sigmoid Activation"
   ]
  },
  {
   "cell_type": "code",
   "execution_count": 3,
   "metadata": {},
   "outputs": [
    {
     "name": "stdout",
     "output_type": "stream",
     "text": [
      "Relative error for sigmoid activation: 9.171022379629733e-11\n"
     ]
    }
   ],
   "source": [
    "X = np.random.randn(2, 3)\n",
    "dLdY = np.random.randn(2, 3)\n",
    "\n",
    "# initialize a fully connected layer\n",
    "# and perform a forward and backward pass\n",
    "sigmoid_activation = Sigmoid()\n",
    "_ = sigmoid_activation.forward(X)\n",
    "grad = sigmoid_activation.backward(X, dLdY)\n",
    "\n",
    "# check the gradients w.r.t. each parameter\n",
    "print(\n",
    "    f\"Relative error for sigmoid activation:\",\n",
    "    check_gradients(\n",
    "        fn=sigmoid_activation.forward,  # the function we are checking\n",
    "        grad=grad,  # the analytically computed gradient\n",
    "        x=X,        # the variable w.r.t. which we are taking the gradient\n",
    "        dLdf=dLdY,  # gradient at previous layer\n",
    "    )\n",
    ")"
   ]
  },
  {
   "cell_type": "markdown",
   "metadata": {},
   "source": [
    "### Tanh Activation"
   ]
  },
  {
   "cell_type": "code",
   "execution_count": 4,
   "metadata": {},
   "outputs": [
    {
     "name": "stdout",
     "output_type": "stream",
     "text": [
      "Relative error for tanh activation: 3.5061254997548696e-11\n"
     ]
    }
   ],
   "source": [
    "X = np.random.randn(2, 3)\n",
    "dLdY = np.random.randn(2, 3)\n",
    "\n",
    "# initialize a fully connected layer\n",
    "# and perform a forward and backward pass\n",
    "tanh_activation = TanH()\n",
    "_ = tanh_activation.forward(X)\n",
    "grad = tanh_activation.backward(X, dLdY)\n",
    "\n",
    "# check the gradients w.r.t. each parameter\n",
    "print(\n",
    "    f\"Relative error for tanh activation:\",\n",
    "    check_gradients(\n",
    "        fn=tanh_activation.forward,  # the function we are checking\n",
    "        grad=grad,  # the analytically computed gradient\n",
    "        x=X,        # the variable w.r.t. which we are taking the gradient\n",
    "        dLdf=dLdY,  # gradient at previous layer\n",
    "    )\n",
    ")"
   ]
  },
  {
   "cell_type": "markdown",
   "metadata": {},
   "source": [
    "### Relu Activation"
   ]
  },
  {
   "cell_type": "code",
   "execution_count": 5,
   "metadata": {},
   "outputs": [
    {
     "name": "stdout",
     "output_type": "stream",
     "text": [
      "Relative error for relu activation: 3.490277181680821e-11\n"
     ]
    }
   ],
   "source": [
    "X = np.random.randn(2, 3)\n",
    "dLdY = np.random.randn(2, 3)\n",
    "\n",
    "# initialize a fully connected layer\n",
    "# and perform a forward and backward pass\n",
    "relu_activation = ReLU()\n",
    "out = relu_activation.forward(X)\n",
    "grad = relu_activation.backward(X, dLdY)\n",
    "\n",
    "# check the gradients w.r.t. each parameter\n",
    "print(\n",
    "    f\"Relative error for relu activation:\",\n",
    "    check_gradients(\n",
    "        fn=relu_activation.forward,  # the function we are checking\n",
    "        grad=grad,  # the analytically computed gradient\n",
    "        x=X,        # the variable w.r.t. which we are taking the gradient\n",
    "        dLdf=dLdY,  # gradient at previous layer\n",
    "    )\n",
    ")"
   ]
  },
  {
   "cell_type": "markdown",
   "metadata": {},
   "source": [
    "### Softmax Activation"
   ]
  },
  {
   "cell_type": "code",
   "execution_count": 6,
   "metadata": {},
   "outputs": [
    {
     "name": "stdout",
     "output_type": "stream",
     "text": [
      "Relative error for softmax activation: 5.484210406817115e-11\n"
     ]
    }
   ],
   "source": [
    "X = np.random.randn(2, 3)\n",
    "dLdY = np.random.randn(2, 3)\n",
    "\n",
    "# initialize a fully connected layer\n",
    "# and perform a forward and backward pass\n",
    "softmax_activation = SoftMax()\n",
    "_ = softmax_activation.forward(X)\n",
    "grad = softmax_activation.backward(X, dLdY)\n",
    "\n",
    "# check the gradients w.r.t. each parameter\n",
    "print(\n",
    "    f\"Relative error for softmax activation:\",\n",
    "    check_gradients(\n",
    "        fn=softmax_activation.forward,  # the function we are checking\n",
    "        grad=grad,  # the analytically computed gradient\n",
    "        x=X,        # the variable w.r.t. which we are taking the gradient\n",
    "        dLdf=dLdY,  # gradient at previous layer\n",
    "    )\n",
    ")"
   ]
  },
  {
   "cell_type": "markdown",
   "metadata": {},
   "source": [
    "### Fully Connected Layer"
   ]
  },
  {
   "cell_type": "code",
   "execution_count": 13,
   "metadata": {},
   "outputs": [
    {
     "name": "stdout",
     "output_type": "stream",
     "text": [
      "X (2, 3) Weights:  (3, 4) biases (1, 4)\n",
      "Relative error for W: 2.3118346860599167e-11\n",
      "Relative error for b: 1.0549597413649993e-11\n"
     ]
    }
   ],
   "source": [
    "X = np.random.randn(2, 3)\n",
    "dLdY = np.random.randn(2, 4)\n",
    "\n",
    "# initialize a fully connected layer\n",
    "# and perform a forward and backward pass\n",
    "fc_layer = FullyConnected(n_out=4, activation=\"linear\")\n",
    "_ = fc_layer.forward(X)\n",
    "_ = fc_layer.backward(dLdY)\n",
    "\n",
    "# check the gradients w.r.t. each parameter\n",
    "for param in fc_layer.parameters:\n",
    "    print(\n",
    "        f\"Relative error for {param}:\",\n",
    "        check_gradients(\n",
    "            fn=fc_layer.forward_with_param(param, X),  # the function we are checking\n",
    "            grad=fc_layer.gradients[param],  # the analytically computed gradient\n",
    "            x=fc_layer.parameters[param],  # the variable w.r.t. which we are taking the gradient\n",
    "            dLdf=dLdY,                     # gradient at previous layer\n",
    "        )\n",
    "    )"
   ]
  },
  {
   "cell_type": "markdown",
   "metadata": {},
   "source": [
    "### Cross Entropy Loss"
   ]
  },
  {
   "cell_type": "code",
   "execution_count": 12,
   "metadata": {},
   "outputs": [
    {
     "name": "stdout",
     "output_type": "stream",
     "text": [
      "Relative error for cross entropy loss: 4.568708311853129e-07\n"
     ]
    }
   ],
   "source": [
    "from neural_networks.losses import CrossEntropy\n",
    "\n",
    "num_pts = 5\n",
    "num_classes = 6\n",
    "\n",
    "# one-hot encoded y\n",
    "y_idxs = np.random.randint(0, num_classes, (num_pts,))\n",
    "y = np.zeros((num_pts, num_classes))\n",
    "y[range(num_pts), y_idxs] = 1\n",
    "\n",
    "# normalized predictions\n",
    "scores = np.random.uniform(0, 1, size=(num_pts, num_classes))\n",
    "y_hat = scores / scores.sum(axis=1, keepdims=True)\n",
    "\n",
    "cross_entropy_loss = CrossEntropy(\"cross_entropy\")\n",
    "\n",
    "def forward_fn(Y, Y_hat):    \n",
    "    def inner_forward(Y_hat):\n",
    "        return cross_entropy_loss.forward(Y, Y_hat)\n",
    "    return inner_forward\n",
    "\n",
    "loss = cross_entropy_loss.forward(y, y_hat)\n",
    "grad = cross_entropy_loss.backward(y, y_hat)\n",
    "\n",
    "print(\n",
    "    f\"Relative error for cross entropy loss:\",\n",
    "    check_gradients(\n",
    "        fn=forward_fn(y, y_hat),  # the function we are checking\n",
    "        grad=grad,  # the analytically computed gradient\n",
    "        x=y_hat,        # the variable w.r.t. which we are taking the gradient\n",
    "        dLdf=1,  # gradient at previous layer\n",
    "    )\n",
    ")"
   ]
  },
  {
   "cell_type": "markdown",
   "metadata": {},
   "source": [
    "# 3.2"
   ]
  },
  {
   "cell_type": "code",
   "execution_count": null,
   "metadata": {},
   "outputs": [],
   "source": [
    "def train_iris(h_layer, lr):\n",
    "    layer_1 = AttrDict(\n",
    "        {\n",
    "            \"name\": \"fully_connected\",\n",
    "            \"activation\": \"relu\",\n",
    "            \"weight_init\": \"xavier_uniform\",\n",
    "            \"n_out\": h_layer,\n",
    "        }\n",
    "    )\n",
    "\n",
    "    layer_out = AttrDict({\n",
    "        \"name\": \"fully_connected\",\n",
    "        \"activation\": \"softmax\",\n",
    "        \"weight_init\": \"xavier_uniform\",\n",
    "        \"n_out\": None\n",
    "        # n_out is not defined for last layer. This will be set by the dataset.\n",
    "    }\n",
    "    )\n",
    "\n",
    "    \"\"\"\n",
    "    Step 2: Collect layer argument dictionaries into a list.\n",
    "\n",
    "    - This defines the order of layers in the network.\n",
    "    \"\"\"\n",
    "\n",
    "    layer_args = [layer_1, layer_out]\n",
    "\n",
    "    \"\"\"\n",
    "    Step 3: Define model, data, and logger arguments\n",
    "\n",
    "    - The list of layer_args is passed to the model initializer.\n",
    "    \"\"\"\n",
    "\n",
    "    optimizer_args = AttrDict(\n",
    "        {\n",
    "            \"name\": \"SGD\",\n",
    "            \"lr\": lr,\n",
    "            \"lr_scheduler\": \"constant\",\n",
    "            \"lr_decay\": None,\n",
    "            \"stage_length\": None,\n",
    "            \"staircase\": None,\n",
    "            \"clip_norm\": None,\n",
    "            \"momentum\": 0.05,\n",
    "        }\n",
    "    )\n",
    "\n",
    "    model_args = AttrDict(\n",
    "        {\n",
    "            \"name\": \"iris_model_\"+str(h_layer) +\"_\"+str(lr),\n",
    "            \"loss\": 'cross_entropy',\n",
    "            \"layer_args\": layer_args,\n",
    "            \"optimizer_args\": optimizer_args,\n",
    "            \"seed\": 17\n",
    "        }\n",
    "    )\n",
    "\n",
    "    data_args = AttrDict(\n",
    "        {\n",
    "            \"name\": \"iris\",  # YOUR CODE HERE, name of dataset, e.g. \"iris\"\n",
    "            \"batch_size\": 5\n",
    "        }\n",
    "    )\n",
    "\n",
    "    log_args = AttrDict(\n",
    "        {\"save\": True, \"plot\": True, \"save_dir\": \"experiments/\", }\n",
    "    )\n",
    "\n",
    "    \"\"\"\n",
    "    Step 4: Set random seed\n",
    "\n",
    "    Warning! Random seed must be set before importing other modules.\n",
    "    \"\"\"\n",
    "\n",
    "    import numpy as np\n",
    "\n",
    "    np.random.seed(model_args.seed)\n",
    "\n",
    "    \"\"\"\n",
    "    Step 5: Define model name for saving\n",
    "    \"\"\"\n",
    "\n",
    "    model_name = model_args.name  # YOUR CODE HERE\n",
    "    logger = Logger(\n",
    "        model_name=model_name,\n",
    "        model_args=model_args,\n",
    "        data_args=data_args,\n",
    "        save=log_args.save,\n",
    "        plot=log_args.plot,\n",
    "        save_dir=log_args.save_dir,\n",
    "    )\n",
    "\n",
    "    model = initialize_model(\n",
    "        name=model_args.name,\n",
    "        loss=model_args.loss,\n",
    "        layer_args=model_args.layer_args,\n",
    "        optimizer_args=model_args.optimizer_args,\n",
    "        logger=logger,\n",
    "    )\n",
    "\n",
    "    dataset = initialize_dataset(\n",
    "        name=data_args.name,\n",
    "        batch_size=data_args.batch_size,\n",
    "    )\n",
    "\n",
    "    \"\"\"\n",
    "    Step 7: Train model!\n",
    "    \"\"\"\n",
    "\n",
    "    epochs = 100\n",
    "\n",
    "    print(\n",
    "        \"Training {} neural network on {} with {} for {} epochs...\".format(\n",
    "            model_args.name, data_args.name, optimizer_args.name, epochs\n",
    "        )\n",
    "    )\n",
    "\n",
    "    print(\"Optimizer:\")\n",
    "    print(optimizer_args)\n",
    "\n",
    "    final_results = model.train(dataset, epochs=epochs)\n",
    "    test_log= model.test(dataset)\n",
    "    final_results[\"test_error\"] = test_log[\"test_error\"]\n",
    "    return final_results"
   ]
  },
  {
   "cell_type": "code",
   "execution_count": null,
   "metadata": {},
   "outputs": [],
   "source": []
  },
  {
   "cell_type": "code",
   "execution_count": 18,
   "metadata": {},
   "outputs": [],
   "source": [
    "import pandas as pd"
   ]
  },
  {
   "cell_type": "code",
   "execution_count": 20,
   "metadata": {
    "scrolled": true
   },
   "outputs": [
    {
     "name": "stdout",
     "output_type": "stream",
     "text": [
      "Training iris_model_25_0.1 neural network on iris with SGD for 100 epochs...\n",
      "Optimizer:\n",
      "{'name': 'SGD', 'lr': 0.1, 'lr_scheduler': 'constant', 'lr_decay': None, 'stage_length': None, 'staircase': None, 'clip_norm': None, 'momentum': 0.05}\n"
     ]
    },
    {
     "data": {
      "application/vnd.jupyter.widget-view+json": {
       "model_id": "027a7a80d2e5495ab3907923c2d453ba",
       "version_major": 2,
       "version_minor": 0
      },
      "text/plain": [
       "HBox(children=(FloatProgress(value=0.0), HTML(value='')))"
      ]
     },
     "metadata": {},
     "output_type": "display_data"
    },
    {
     "name": "stdout",
     "output_type": "stream",
     "text": [
      "X (5, 4) Weights:  (4, 25) biases (1, 25)\n",
      "X (5, 25) Weights:  (25, 3) biases (1, 3)\n",
      "Example target: [1. 0. 0.]\n",
      "Example prediction: [0.9429, 0.0501, 0.007]\n",
      "Epoch 0 Training Loss: 1.5127 Training Accuracy: 0.619 Val Loss: 0.2806 Val Accuracy: 0.8\n",
      "Example target: [1. 0. 0.]\n",
      "Example prediction: [0.9584, 0.0384, 0.0032]\n",
      "Epoch 1 Training Loss: 0.4361 Training Accuracy: 0.819 Val Loss: 0.2817 Val Accuracy: 0.8\n",
      "Example target: [0. 0. 1.]\n",
      "Example prediction: [0.0026, 0.2405, 0.7569]\n",
      "Epoch 2 Training Loss: 0.4911 Training Accuracy: 0.7333 Val Loss: 0.2007 Val Accuracy: 1.0\n",
      "Example target: [0. 0. 1.]\n",
      "Example prediction: [0.0019, 0.4415, 0.5567]\n",
      "Epoch 3 Training Loss: 0.3497 Training Accuracy: 0.819 Val Loss: 0.2132 Val Accuracy: 0.9333\n",
      "Example target: [0. 1. 0.]\n",
      "Example prediction: [0.008, 0.3865, 0.6055]\n",
      "Epoch 4 Training Loss: 0.4537 Training Accuracy: 0.8286 Val Loss: 0.2175 Val Accuracy: 0.8\n",
      "Example target: [0. 0. 1.]\n",
      "Example prediction: [0.0037, 0.3739, 0.6223]\n",
      "Epoch 5 Training Loss: 0.4518 Training Accuracy: 0.7143 Val Loss: 0.2292 Val Accuracy: 1.0\n",
      "Example target: [0. 0. 1.]\n",
      "Example prediction: [0.002, 0.4495, 0.5485]\n",
      "Epoch 6 Training Loss: 0.2607 Training Accuracy: 0.9238 Val Loss: 0.1394 Val Accuracy: 1.0\n",
      "Example target: [0. 1. 0.]\n",
      "Example prediction: [0.0554, 0.9098, 0.0349]\n",
      "Epoch 7 Training Loss: 0.3836 Training Accuracy: 0.8286 Val Loss: 0.3788 Val Accuracy: 0.7333\n",
      "Example target: [1. 0. 0.]\n",
      "Example prediction: [0.9983, 0.0017, 0.0]\n",
      "Epoch 8 Training Loss: 0.4134 Training Accuracy: 0.8095 Val Loss: 0.1131 Val Accuracy: 1.0\n",
      "Example target: [0. 0. 1.]\n",
      "Example prediction: [0.0003, 0.1507, 0.849]\n",
      "Epoch 9 Training Loss: 0.4219 Training Accuracy: 0.8762 Val Loss: 0.0971 Val Accuracy: 1.0\n",
      "Example target: [0. 0. 1.]\n",
      "Example prediction: [0.0007, 0.3031, 0.6962]\n",
      "Epoch 10 Training Loss: 0.2768 Training Accuracy: 0.8286 Val Loss: 0.0781 Val Accuracy: 1.0\n",
      "Example target: [1. 0. 0.]\n",
      "Example prediction: [0.9956, 0.0044, 0.0]\n",
      "Epoch 11 Training Loss: 0.2349 Training Accuracy: 0.9143 Val Loss: 0.0438 Val Accuracy: 1.0\n",
      "Example target: [1. 0. 0.]\n",
      "Example prediction: [0.9992, 0.0008, 0.0]\n",
      "Epoch 12 Training Loss: 0.5278 Training Accuracy: 0.8095 Val Loss: 0.2091 Val Accuracy: 1.0\n",
      "Example target: [1. 0. 0.]\n",
      "Example prediction: [0.9992, 0.0008, 0.0]\n",
      "Epoch 13 Training Loss: 0.3083 Training Accuracy: 0.8571 Val Loss: 0.1242 Val Accuracy: 1.0\n",
      "Example target: [0. 0. 1.]\n",
      "Example prediction: [0.0097, 0.6376, 0.3527]\n",
      "Epoch 14 Training Loss: 0.3396 Training Accuracy: 0.8667 Val Loss: 0.2953 Val Accuracy: 0.7333\n",
      "Example target: [1. 0. 0.]\n",
      "Example prediction: [0.9962, 0.0038, 0.0]\n",
      "Epoch 15 Training Loss: 0.3639 Training Accuracy: 0.8476 Val Loss: 0.2665 Val Accuracy: 0.8667\n",
      "Example target: [1. 0. 0.]\n",
      "Example prediction: [0.9959, 0.0041, 0.0]\n",
      "Epoch 16 Training Loss: 0.2998 Training Accuracy: 0.8762 Val Loss: 0.3971 Val Accuracy: 0.7333\n",
      "Example target: [0. 0. 1.]\n",
      "Example prediction: [0.0, 0.033, 0.967]\n",
      "Epoch 17 Training Loss: 0.3016 Training Accuracy: 0.8762 Val Loss: 0.0669 Val Accuracy: 1.0\n",
      "Example target: [0. 0. 1.]\n",
      "Example prediction: [0.0016, 0.483, 0.5154]\n",
      "Epoch 18 Training Loss: 0.2682 Training Accuracy: 0.8857 Val Loss: 0.1319 Val Accuracy: 1.0\n",
      "Example target: [0. 0. 1.]\n",
      "Example prediction: [0.0, 0.016, 0.984]\n",
      "Epoch 19 Training Loss: 0.3306 Training Accuracy: 0.8476 Val Loss: 0.1073 Val Accuracy: 1.0\n",
      "Example target: [1. 0. 0.]\n",
      "Example prediction: [0.9998, 0.0002, 0.0]\n",
      "Epoch 20 Training Loss: 0.2204 Training Accuracy: 0.9238 Val Loss: 0.2825 Val Accuracy: 0.7333\n",
      "Example target: [1. 0. 0.]\n",
      "Example prediction: [0.9997, 0.0003, 0.0]\n",
      "Epoch 21 Training Loss: 0.1694 Training Accuracy: 0.9333 Val Loss: 0.0436 Val Accuracy: 1.0\n",
      "Example target: [1. 0. 0.]\n",
      "Example prediction: [0.9929, 0.0071, 0.0]\n",
      "Epoch 22 Training Loss: 0.1923 Training Accuracy: 0.9238 Val Loss: 0.0381 Val Accuracy: 1.0\n",
      "Example target: [0. 0. 1.]\n",
      "Example prediction: [0.0, 0.0018, 0.9982]\n",
      "Epoch 23 Training Loss: 0.1785 Training Accuracy: 0.9333 Val Loss: 0.1617 Val Accuracy: 0.9333\n",
      "Example target: [0. 1. 0.]\n",
      "Example prediction: [0.0209, 0.9669, 0.0123]\n",
      "Epoch 24 Training Loss: 0.1665 Training Accuracy: 0.9619 Val Loss: 0.0735 Val Accuracy: 1.0\n",
      "Example target: [0. 1. 0.]\n",
      "Example prediction: [0.0128, 0.93, 0.0572]\n",
      "Epoch 25 Training Loss: 0.1181 Training Accuracy: 0.9429 Val Loss: 0.0176 Val Accuracy: 1.0\n",
      "Example target: [1. 0. 0.]\n",
      "Example prediction: [0.9917, 0.0083, 0.0]\n",
      "Epoch 26 Training Loss: 0.1548 Training Accuracy: 0.9619 Val Loss: 0.381 Val Accuracy: 0.7333\n",
      "Example target: [1. 0. 0.]\n",
      "Example prediction: [1.0, 0.0, 0.0]\n",
      "Epoch 27 Training Loss: 0.3559 Training Accuracy: 0.8571 Val Loss: 0.0304 Val Accuracy: 1.0\n",
      "Example target: [0. 1. 0.]\n",
      "Example prediction: [0.0173, 0.9472, 0.0355]\n",
      "Epoch 28 Training Loss: 0.1713 Training Accuracy: 0.9429 Val Loss: 0.0181 Val Accuracy: 1.0\n",
      "Example target: [0. 0. 1.]\n",
      "Example prediction: [0.0001, 0.3346, 0.6653]\n",
      "Epoch 29 Training Loss: 0.1778 Training Accuracy: 0.9048 Val Loss: 0.1299 Val Accuracy: 0.9333\n",
      "Example target: [1. 0. 0.]\n",
      "Example prediction: [0.9939, 0.0061, 0.0]\n",
      "Epoch 30 Training Loss: 0.1292 Training Accuracy: 0.9429 Val Loss: 0.0196 Val Accuracy: 1.0\n",
      "Example target: [0. 1. 0.]\n",
      "Example prediction: [0.0004, 0.2659, 0.7337]\n",
      "Epoch 31 Training Loss: 0.1693 Training Accuracy: 0.9048 Val Loss: 0.162 Val Accuracy: 0.9333\n",
      "Example target: [0. 0. 1.]\n",
      "Example prediction: [0.0, 0.0765, 0.9234]\n",
      "Epoch 32 Training Loss: 0.3056 Training Accuracy: 0.8857 Val Loss: 0.0579 Val Accuracy: 1.0\n",
      "Example target: [0. 0. 1.]\n",
      "Example prediction: [0.0, 0.0017, 0.9983]\n",
      "Epoch 33 Training Loss: 0.1671 Training Accuracy: 0.9524 Val Loss: 0.1175 Val Accuracy: 0.9333\n",
      "Example target: [0. 0. 1.]\n",
      "Example prediction: [0.0, 0.0405, 0.9595]\n",
      "Epoch 34 Training Loss: 0.2246 Training Accuracy: 0.8571 Val Loss: 0.0199 Val Accuracy: 1.0\n",
      "Example target: [1. 0. 0.]\n",
      "Example prediction: [0.9999, 0.0001, 0.0]\n",
      "Epoch 35 Training Loss: 0.0949 Training Accuracy: 0.9714 Val Loss: 0.0155 Val Accuracy: 1.0\n",
      "Example target: [0. 0. 1.]\n",
      "Example prediction: [0.0003, 0.2921, 0.7076]\n",
      "Epoch 36 Training Loss: 0.2389 Training Accuracy: 0.8952 Val Loss: 0.1603 Val Accuracy: 0.9333\n",
      "Example target: [0. 0. 1.]\n",
      "Example prediction: [0.0002, 0.5627, 0.437]\n",
      "Epoch 37 Training Loss: 0.1202 Training Accuracy: 0.9429 Val Loss: 0.2355 Val Accuracy: 0.8667\n",
      "Example target: [1. 0. 0.]\n",
      "Example prediction: [1.0, 0.0, 0.0]\n",
      "Epoch 38 Training Loss: 0.1727 Training Accuracy: 0.9238 Val Loss: 0.0181 Val Accuracy: 1.0\n",
      "Example target: [1. 0. 0.]\n",
      "Example prediction: [0.9999, 0.0001, 0.0]\n",
      "Epoch 39 Training Loss: 0.1339 Training Accuracy: 0.9524 Val Loss: 0.1317 Val Accuracy: 0.9333\n",
      "Example target: [1. 0. 0.]\n",
      "Example prediction: [0.9987, 0.0013, 0.0]\n",
      "Epoch 40 Training Loss: 0.1331 Training Accuracy: 0.9524 Val Loss: 0.0448 Val Accuracy: 1.0\n",
      "Example target: [1. 0. 0.]\n",
      "Example prediction: [1.0, 0.0, 0.0]\n",
      "Epoch 41 Training Loss: 0.1085 Training Accuracy: 0.9524 Val Loss: 0.0178 Val Accuracy: 1.0\n",
      "Example target: [0. 0. 1.]\n",
      "Example prediction: [0.0, 0.0648, 0.9352]\n",
      "Epoch 42 Training Loss: 0.1909 Training Accuracy: 0.9143 Val Loss: 0.0128 Val Accuracy: 1.0\n",
      "Example target: [1. 0. 0.]\n",
      "Example prediction: [0.9979, 0.0021, 0.0]\n",
      "Epoch 43 Training Loss: 0.1366 Training Accuracy: 0.9524 Val Loss: 0.0133 Val Accuracy: 1.0\n",
      "Example target: [0. 0. 1.]\n",
      "Example prediction: [0.0, 0.3815, 0.6184]\n",
      "Epoch 44 Training Loss: 0.145 Training Accuracy: 0.9524 Val Loss: 0.215 Val Accuracy: 0.8667\n",
      "Example target: [1. 0. 0.]\n",
      "Example prediction: [1.0, 0.0, 0.0]\n",
      "Epoch 45 Training Loss: 0.0785 Training Accuracy: 0.981 Val Loss: 0.0132 Val Accuracy: 1.0\n",
      "Example target: [1. 0. 0.]\n",
      "Example prediction: [0.9998, 0.0002, 0.0]\n",
      "Epoch 46 Training Loss: 0.2711 Training Accuracy: 0.8857 Val Loss: 0.0557 Val Accuracy: 1.0\n",
      "Example target: [1. 0. 0.]\n",
      "Example prediction: [0.9985, 0.0015, 0.0]\n",
      "Epoch 47 Training Loss: 0.0984 Training Accuracy: 0.981 Val Loss: 0.1036 Val Accuracy: 0.9333\n",
      "Example target: [1. 0. 0.]\n",
      "Example prediction: [0.9997, 0.0003, 0.0]\n",
      "Epoch 48 Training Loss: 0.1562 Training Accuracy: 0.9524 Val Loss: 0.0313 Val Accuracy: 1.0\n",
      "Example target: [1. 0. 0.]\n",
      "Example prediction: [1.0, 0.0, 0.0]\n",
      "Epoch 49 Training Loss: 0.1555 Training Accuracy: 0.9238 Val Loss: 0.0161 Val Accuracy: 1.0\n",
      "Example target: [0. 1. 0.]\n",
      "Example prediction: [0.0215, 0.9557, 0.0228]\n",
      "Epoch 50 Training Loss: 0.1604 Training Accuracy: 0.9333 Val Loss: 0.0549 Val Accuracy: 1.0\n"
     ]
    },
    {
     "name": "stdout",
     "output_type": "stream",
     "text": [
      "Example target: [1. 0. 0.]\n",
      "Example prediction: [1.0, 0.0, 0.0]\n",
      "Epoch 51 Training Loss: 0.1352 Training Accuracy: 0.9238 Val Loss: 0.0082 Val Accuracy: 1.0\n",
      "Example target: [1. 0. 0.]\n",
      "Example prediction: [0.999, 0.001, 0.0]\n",
      "Epoch 52 Training Loss: 0.1936 Training Accuracy: 0.9143 Val Loss: 0.0126 Val Accuracy: 1.0\n",
      "Example target: [0. 0. 1.]\n",
      "Example prediction: [0.0, 0.0311, 0.9689]\n",
      "Epoch 53 Training Loss: 0.1186 Training Accuracy: 0.9524 Val Loss: 0.0413 Val Accuracy: 1.0\n",
      "Example target: [1. 0. 0.]\n",
      "Example prediction: [1.0, 0.0, 0.0]\n",
      "Epoch 54 Training Loss: 0.09 Training Accuracy: 0.9619 Val Loss: 0.0088 Val Accuracy: 1.0\n",
      "Example target: [0. 1. 0.]\n",
      "Example prediction: [0.0104, 0.971, 0.0185]\n",
      "Epoch 55 Training Loss: 0.181 Training Accuracy: 0.9429 Val Loss: 0.0219 Val Accuracy: 1.0\n",
      "Example target: [0. 1. 0.]\n",
      "Example prediction: [0.0048, 0.9876, 0.0076]\n",
      "Epoch 56 Training Loss: 0.1107 Training Accuracy: 0.9619 Val Loss: 0.027 Val Accuracy: 1.0\n",
      "Example target: [1. 0. 0.]\n",
      "Example prediction: [0.9998, 0.0002, 0.0]\n",
      "Epoch 57 Training Loss: 0.1176 Training Accuracy: 0.9714 Val Loss: 0.2628 Val Accuracy: 0.8667\n",
      "Example target: [1. 0. 0.]\n",
      "Example prediction: [0.9996, 0.0004, 0.0]\n",
      "Epoch 58 Training Loss: 0.1415 Training Accuracy: 0.9524 Val Loss: 0.0323 Val Accuracy: 1.0\n",
      "Example target: [1. 0. 0.]\n",
      "Example prediction: [0.9981, 0.0019, 0.0]\n",
      "Epoch 59 Training Loss: 0.1305 Training Accuracy: 0.9333 Val Loss: 0.0067 Val Accuracy: 1.0\n",
      "Example target: [1. 0. 0.]\n",
      "Example prediction: [0.9974, 0.0026, 0.0]\n",
      "Epoch 60 Training Loss: 0.2571 Training Accuracy: 0.8952 Val Loss: 0.0485 Val Accuracy: 1.0\n",
      "Example target: [0. 0. 1.]\n",
      "Example prediction: [0.0, 0.0154, 0.9846]\n",
      "Epoch 61 Training Loss: 0.133 Training Accuracy: 0.9524 Val Loss: 0.0185 Val Accuracy: 1.0\n",
      "Example target: [1. 0. 0.]\n",
      "Example prediction: [0.9996, 0.0004, 0.0]\n",
      "Epoch 62 Training Loss: 0.2144 Training Accuracy: 0.9238 Val Loss: 0.0204 Val Accuracy: 1.0\n",
      "Example target: [0. 0. 1.]\n",
      "Example prediction: [0.0001, 0.6224, 0.3775]\n",
      "Epoch 63 Training Loss: 0.1029 Training Accuracy: 0.9429 Val Loss: 0.4092 Val Accuracy: 0.7333\n",
      "Example target: [1. 0. 0.]\n",
      "Example prediction: [1.0, 0.0, 0.0]\n",
      "Epoch 64 Training Loss: 0.1302 Training Accuracy: 0.9524 Val Loss: 0.1384 Val Accuracy: 0.9333\n",
      "Example target: [1. 0. 0.]\n",
      "Example prediction: [0.999, 0.001, 0.0]\n",
      "Epoch 65 Training Loss: 0.0718 Training Accuracy: 0.9714 Val Loss: 0.0511 Val Accuracy: 1.0\n",
      "Example target: [1. 0. 0.]\n",
      "Example prediction: [0.9976, 0.0024, 0.0]\n",
      "Epoch 66 Training Loss: 0.0756 Training Accuracy: 0.9714 Val Loss: 0.1171 Val Accuracy: 0.9333\n",
      "Example target: [1. 0. 0.]\n",
      "Example prediction: [1.0, 0.0, 0.0]\n",
      "Epoch 67 Training Loss: 0.1191 Training Accuracy: 0.9524 Val Loss: 0.008 Val Accuracy: 1.0\n",
      "Example target: [1. 0. 0.]\n",
      "Example prediction: [0.9992, 0.0008, 0.0]\n",
      "Epoch 68 Training Loss: 0.1022 Training Accuracy: 0.9429 Val Loss: 0.0928 Val Accuracy: 0.9333\n",
      "Example target: [1. 0. 0.]\n",
      "Example prediction: [0.9996, 0.0004, 0.0]\n",
      "Epoch 69 Training Loss: 0.2653 Training Accuracy: 0.8857 Val Loss: 0.015 Val Accuracy: 1.0\n",
      "Example target: [0. 1. 0.]\n",
      "Example prediction: [0.0084, 0.984, 0.0076]\n",
      "Epoch 70 Training Loss: 0.0683 Training Accuracy: 0.9714 Val Loss: 0.0106 Val Accuracy: 1.0\n",
      "Example target: [1. 0. 0.]\n",
      "Example prediction: [1.0, 0.0, 0.0]\n",
      "Epoch 71 Training Loss: 0.0873 Training Accuracy: 0.9619 Val Loss: 0.0151 Val Accuracy: 1.0\n",
      "Example target: [1. 0. 0.]\n",
      "Example prediction: [1.0, 0.0, 0.0]\n",
      "Epoch 72 Training Loss: 0.1194 Training Accuracy: 0.9524 Val Loss: 0.0057 Val Accuracy: 1.0\n",
      "Example target: [1. 0. 0.]\n",
      "Example prediction: [0.9996, 0.0004, 0.0]\n",
      "Epoch 73 Training Loss: 0.0865 Training Accuracy: 0.9524 Val Loss: 0.0046 Val Accuracy: 1.0\n",
      "Example target: [1. 0. 0.]\n",
      "Example prediction: [0.9979, 0.0021, 0.0]\n",
      "Epoch 74 Training Loss: 0.0669 Training Accuracy: 0.981 Val Loss: 0.0402 Val Accuracy: 1.0\n",
      "Example target: [0. 1. 0.]\n",
      "Example prediction: [0.0023, 0.993, 0.0048]\n",
      "Epoch 75 Training Loss: 0.1072 Training Accuracy: 0.9619 Val Loss: 0.008 Val Accuracy: 1.0\n",
      "Example target: [1. 0. 0.]\n",
      "Example prediction: [0.9992, 0.0008, 0.0]\n",
      "Epoch 76 Training Loss: 0.0486 Training Accuracy: 0.9905 Val Loss: 0.0054 Val Accuracy: 1.0\n",
      "Example target: [0. 1. 0.]\n",
      "Example prediction: [0.0135, 0.9808, 0.0057]\n",
      "Epoch 77 Training Loss: 0.2012 Training Accuracy: 0.9048 Val Loss: 0.0489 Val Accuracy: 1.0\n",
      "Example target: [1. 0. 0.]\n",
      "Example prediction: [1.0, 0.0, 0.0]\n",
      "Epoch 78 Training Loss: 0.1092 Training Accuracy: 0.9524 Val Loss: 0.0081 Val Accuracy: 1.0\n",
      "Example target: [1. 0. 0.]\n",
      "Example prediction: [0.9985, 0.0015, 0.0]\n",
      "Epoch 79 Training Loss: 0.0873 Training Accuracy: 0.9619 Val Loss: 0.0788 Val Accuracy: 0.9333\n",
      "Example target: [0. 1. 0.]\n",
      "Example prediction: [0.0102, 0.9851, 0.0048]\n",
      "Epoch 80 Training Loss: 0.117 Training Accuracy: 0.9333 Val Loss: 0.0543 Val Accuracy: 1.0\n",
      "Example target: [1. 0. 0.]\n",
      "Example prediction: [1.0, 0.0, 0.0]\n",
      "Epoch 81 Training Loss: 0.0742 Training Accuracy: 0.9714 Val Loss: 0.0461 Val Accuracy: 1.0\n",
      "Example target: [1. 0. 0.]\n",
      "Example prediction: [0.9996, 0.0004, 0.0]\n",
      "Epoch 82 Training Loss: 0.0721 Training Accuracy: 0.9714 Val Loss: 0.0483 Val Accuracy: 1.0\n",
      "Example target: [0. 0. 1.]\n",
      "Example prediction: [0.0, 0.0052, 0.9948]\n",
      "Epoch 83 Training Loss: 0.1265 Training Accuracy: 0.9619 Val Loss: 0.0104 Val Accuracy: 1.0\n",
      "Example target: [1. 0. 0.]\n",
      "Example prediction: [0.9999, 0.0001, 0.0]\n",
      "Epoch 84 Training Loss: 0.0696 Training Accuracy: 0.9524 Val Loss: 0.0427 Val Accuracy: 1.0\n",
      "Example target: [0. 0. 1.]\n",
      "Example prediction: [0.0, 0.0076, 0.9924]\n",
      "Epoch 85 Training Loss: 0.1187 Training Accuracy: 0.9333 Val Loss: 0.0163 Val Accuracy: 1.0\n",
      "Example target: [0. 1. 0.]\n",
      "Example prediction: [0.0088, 0.9851, 0.0062]\n",
      "Epoch 86 Training Loss: 0.1671 Training Accuracy: 0.9238 Val Loss: 0.0157 Val Accuracy: 1.0\n",
      "Example target: [1. 0. 0.]\n",
      "Example prediction: [0.9994, 0.0006, 0.0]\n",
      "Epoch 87 Training Loss: 0.0682 Training Accuracy: 0.981 Val Loss: 0.0576 Val Accuracy: 1.0\n",
      "Example target: [1. 0. 0.]\n",
      "Example prediction: [0.9983, 0.0017, 0.0]\n",
      "Epoch 88 Training Loss: 0.0715 Training Accuracy: 0.981 Val Loss: 0.0537 Val Accuracy: 1.0\n",
      "Example target: [1. 0. 0.]\n",
      "Example prediction: [0.9999, 0.0001, 0.0]\n",
      "Epoch 89 Training Loss: 0.1035 Training Accuracy: 0.9619 Val Loss: 0.0102 Val Accuracy: 1.0\n",
      "Example target: [0. 0. 1.]\n",
      "Example prediction: [0.0003, 0.948, 0.0517]\n",
      "Epoch 90 Training Loss: 0.1032 Training Accuracy: 0.9524 Val Loss: 0.8146 Val Accuracy: 0.7333\n",
      "Example target: [0. 1. 0.]\n",
      "Example prediction: [0.0102, 0.9639, 0.0258]\n",
      "Epoch 91 Training Loss: 0.2529 Training Accuracy: 0.9333 Val Loss: 0.0281 Val Accuracy: 1.0\n",
      "Example target: [0. 0. 1.]\n",
      "Example prediction: [0.0, 0.0029, 0.9971]\n",
      "Epoch 92 Training Loss: 0.0895 Training Accuracy: 0.9524 Val Loss: 0.0109 Val Accuracy: 1.0\n",
      "Example target: [1. 0. 0.]\n",
      "Example prediction: [0.9995, 0.0005, 0.0]\n",
      "Epoch 93 Training Loss: 0.0827 Training Accuracy: 0.9619 Val Loss: 0.0105 Val Accuracy: 1.0\n",
      "Example target: [1. 0. 0.]\n",
      "Example prediction: [1.0, 0.0, 0.0]\n",
      "Epoch 94 Training Loss: 0.0957 Training Accuracy: 0.9524 Val Loss: 0.0685 Val Accuracy: 1.0\n",
      "Example target: [1. 0. 0.]\n",
      "Example prediction: [1.0, 0.0, 0.0]\n",
      "Epoch 95 Training Loss: 0.0725 Training Accuracy: 0.981 Val Loss: 0.0142 Val Accuracy: 1.0\n",
      "Example target: [0. 0. 1.]\n",
      "Example prediction: [0.0, 0.1385, 0.8614]\n",
      "Epoch 96 Training Loss: 0.0749 Training Accuracy: 0.981 Val Loss: 0.0174 Val Accuracy: 1.0\n",
      "Example target: [1. 0. 0.]\n",
      "Example prediction: [1.0, 0.0, 0.0]\n",
      "Epoch 97 Training Loss: 0.0631 Training Accuracy: 0.981 Val Loss: 0.0375 Val Accuracy: 1.0\n",
      "Example target: [0. 0. 1.]\n",
      "Example prediction: [0.0, 0.0386, 0.9613]\n",
      "Epoch 98 Training Loss: 0.1436 Training Accuracy: 0.9524 Val Loss: 0.0073 Val Accuracy: 1.0\n",
      "Example target: [0. 0. 1.]\n",
      "Example prediction: [0.0, 0.0024, 0.9976]\n",
      "Epoch 99 Training Loss: 0.2073 Training Accuracy: 0.8857 Val Loss: 0.009 Val Accuracy: 1.0\n",
      "\n",
      "Test Loss: 0.2482 Test Accuracy: 0.9333\n",
      "Training iris_model_50_0.1 neural network on iris with SGD for 100 epochs...\n",
      "Optimizer:\n",
      "{'name': 'SGD', 'lr': 0.1, 'lr_scheduler': 'constant', 'lr_decay': None, 'stage_length': None, 'staircase': None, 'clip_norm': None, 'momentum': 0.05}\n"
     ]
    },
    {
     "data": {
      "application/vnd.jupyter.widget-view+json": {
       "model_id": "df0df49e8d11453d8288787164da8e73",
       "version_major": 2,
       "version_minor": 0
      },
      "text/plain": [
       "HBox(children=(FloatProgress(value=0.0), HTML(value='')))"
      ]
     },
     "metadata": {},
     "output_type": "display_data"
    },
    {
     "name": "stdout",
     "output_type": "stream",
     "text": [
      "X (5, 4) Weights:  (4, 50) biases (1, 50)\n",
      "X (5, 50) Weights:  (50, 3) biases (1, 3)\n",
      "Example target: [0. 0. 1.]\n",
      "Example prediction: [0.0025, 0.1536, 0.8439]\n",
      "Epoch 0 Training Loss: 1.3757 Training Accuracy: 0.5619 Val Loss: 0.2617 Val Accuracy: 0.8\n",
      "Example target: [1. 0. 0.]\n",
      "Example prediction: [0.9708, 0.0261, 0.0031]\n",
      "Epoch 1 Training Loss: 0.4482 Training Accuracy: 0.7524 Val Loss: 0.2217 Val Accuracy: 1.0\n",
      "Example target: [1. 0. 0.]\n",
      "Example prediction: [0.9974, 0.0023, 0.0002]\n",
      "Epoch 2 Training Loss: 0.4775 Training Accuracy: 0.7714 Val Loss: 0.2115 Val Accuracy: 0.8\n",
      "Example target: [1. 0. 0.]\n",
      "Example prediction: [0.9856, 0.0127, 0.0016]\n",
      "Epoch 3 Training Loss: 0.4573 Training Accuracy: 0.7429 Val Loss: 0.2457 Val Accuracy: 1.0\n",
      "Example target: [0. 0. 1.]\n",
      "Example prediction: [0.0009, 0.2481, 0.7509]\n",
      "Epoch 4 Training Loss: 0.3554 Training Accuracy: 0.8762 Val Loss: 0.1267 Val Accuracy: 1.0\n",
      "Example target: [0. 0. 1.]\n",
      "Example prediction: [0.0009, 0.318, 0.6811]\n",
      "Epoch 5 Training Loss: 0.4109 Training Accuracy: 0.781 Val Loss: 0.2136 Val Accuracy: 1.0\n",
      "Example target: [1. 0. 0.]\n",
      "Example prediction: [0.9911, 0.0088, 0.0001]\n",
      "Epoch 6 Training Loss: 0.3727 Training Accuracy: 0.8095 Val Loss: 0.2806 Val Accuracy: 0.8\n",
      "Example target: [0. 1. 0.]\n",
      "Example prediction: [0.005, 0.8965, 0.0985]\n",
      "Epoch 7 Training Loss: 0.2954 Training Accuracy: 0.8762 Val Loss: 0.1111 Val Accuracy: 1.0\n",
      "Example target: [0. 0. 1.]\n",
      "Example prediction: [0.0003, 0.1735, 0.8262]\n",
      "Epoch 8 Training Loss: 0.5324 Training Accuracy: 0.7619 Val Loss: 0.2461 Val Accuracy: 0.8\n",
      "Example target: [1. 0. 0.]\n",
      "Example prediction: [0.999, 0.001, 0.0]\n",
      "Epoch 9 Training Loss: 0.4067 Training Accuracy: 0.8 Val Loss: 0.1272 Val Accuracy: 1.0\n",
      "Example target: [1. 0. 0.]\n",
      "Example prediction: [0.9884, 0.0115, 0.0001]\n",
      "Epoch 10 Training Loss: 0.4486 Training Accuracy: 0.819 Val Loss: 0.1869 Val Accuracy: 1.0\n",
      "Example target: [0. 0. 1.]\n",
      "Example prediction: [0.0001, 0.1551, 0.8448]\n",
      "Epoch 11 Training Loss: 0.3913 Training Accuracy: 0.8286 Val Loss: 0.1199 Val Accuracy: 1.0\n",
      "Example target: [0. 1. 0.]\n",
      "Example prediction: [0.0673, 0.8364, 0.0963]\n",
      "Epoch 12 Training Loss: 0.3937 Training Accuracy: 0.7905 Val Loss: 0.2827 Val Accuracy: 0.8\n",
      "Example target: [0. 0. 1.]\n",
      "Example prediction: [0.0003, 0.2502, 0.7495]\n",
      "Epoch 13 Training Loss: 0.4433 Training Accuracy: 0.7714 Val Loss: 0.2121 Val Accuracy: 1.0\n",
      "Example target: [1. 0. 0.]\n",
      "Example prediction: [0.9976, 0.0024, 0.0]\n",
      "Epoch 14 Training Loss: 0.4015 Training Accuracy: 0.819 Val Loss: 0.2661 Val Accuracy: 0.8\n",
      "Example target: [1. 0. 0.]\n",
      "Example prediction: [0.9909, 0.0091, 0.0]\n",
      "Epoch 15 Training Loss: 0.4631 Training Accuracy: 0.781 Val Loss: 0.1735 Val Accuracy: 1.0\n",
      "Example target: [0. 0. 1.]\n",
      "Example prediction: [0.0004, 0.2344, 0.7652]\n",
      "Epoch 16 Training Loss: 0.4441 Training Accuracy: 0.819 Val Loss: 0.1272 Val Accuracy: 1.0\n",
      "Example target: [0. 1. 0.]\n",
      "Example prediction: [0.011, 0.6351, 0.3539]\n",
      "Epoch 17 Training Loss: 0.4026 Training Accuracy: 0.7714 Val Loss: 0.13 Val Accuracy: 1.0\n",
      "Example target: [1. 0. 0.]\n",
      "Example prediction: [0.9903, 0.0097, 0.0]\n",
      "Epoch 18 Training Loss: 0.38 Training Accuracy: 0.8 Val Loss: 0.3283 Val Accuracy: 0.8\n",
      "Example target: [0. 1. 0.]\n",
      "Example prediction: [0.0232, 0.8948, 0.082]\n",
      "Epoch 19 Training Loss: 0.2908 Training Accuracy: 0.8381 Val Loss: 0.1122 Val Accuracy: 1.0\n",
      "Example target: [0. 0. 1.]\n",
      "Example prediction: [0.0005, 0.6488, 0.3507]\n",
      "Epoch 20 Training Loss: 0.2509 Training Accuracy: 0.9143 Val Loss: 0.379 Val Accuracy: 0.7333\n",
      "Example target: [0. 1. 0.]\n",
      "Example prediction: [0.0464, 0.8946, 0.059]\n",
      "Epoch 21 Training Loss: 0.3142 Training Accuracy: 0.8476 Val Loss: 0.1408 Val Accuracy: 1.0\n",
      "Example target: [1. 0. 0.]\n",
      "Example prediction: [0.995, 0.005, 0.0]\n",
      "Epoch 22 Training Loss: 0.5138 Training Accuracy: 0.7429 Val Loss: 0.6061 Val Accuracy: 0.8\n",
      "Example target: [1. 0. 0.]\n",
      "Example prediction: [0.9998, 0.0002, 0.0]\n",
      "Epoch 23 Training Loss: 0.4165 Training Accuracy: 0.819 Val Loss: 0.3469 Val Accuracy: 0.7333\n",
      "Example target: [0. 0. 1.]\n",
      "Example prediction: [0.0002, 0.364, 0.6358]\n",
      "Epoch 24 Training Loss: 0.335 Training Accuracy: 0.8286 Val Loss: 0.178 Val Accuracy: 0.9333\n",
      "Example target: [1. 0. 0.]\n",
      "Example prediction: [0.9997, 0.0003, 0.0]\n",
      "Epoch 25 Training Loss: 0.3408 Training Accuracy: 0.8762 Val Loss: 0.3115 Val Accuracy: 0.7333\n",
      "Example target: [1. 0. 0.]\n",
      "Example prediction: [0.9998, 0.0002, 0.0]\n",
      "Epoch 26 Training Loss: 0.3088 Training Accuracy: 0.8762 Val Loss: 0.1676 Val Accuracy: 0.9333\n",
      "Example target: [1. 0. 0.]\n",
      "Example prediction: [0.9916, 0.0084, 0.0]\n",
      "Epoch 27 Training Loss: 0.3322 Training Accuracy: 0.8381 Val Loss: 0.1148 Val Accuracy: 1.0\n",
      "Example target: [0. 1. 0.]\n",
      "Example prediction: [0.0441, 0.934, 0.022]\n",
      "Epoch 28 Training Loss: 0.2418 Training Accuracy: 0.8952 Val Loss: 0.0774 Val Accuracy: 1.0\n",
      "Example target: [1. 0. 0.]\n",
      "Example prediction: [0.9979, 0.0021, 0.0]\n",
      "Epoch 29 Training Loss: 0.3428 Training Accuracy: 0.8381 Val Loss: 0.2943 Val Accuracy: 0.8\n",
      "Example target: [0. 1. 0.]\n",
      "Example prediction: [0.0601, 0.8032, 0.1368]\n",
      "Epoch 30 Training Loss: 0.3657 Training Accuracy: 0.8762 Val Loss: 0.124 Val Accuracy: 1.0\n",
      "Example target: [1. 0. 0.]\n",
      "Example prediction: [0.9962, 0.0038, 0.0]\n",
      "Epoch 31 Training Loss: 0.2046 Training Accuracy: 0.9714 Val Loss: 0.0983 Val Accuracy: 1.0\n",
      "Example target: [1. 0. 0.]\n",
      "Example prediction: [0.9998, 0.0002, 0.0]\n",
      "Epoch 32 Training Loss: 0.2513 Training Accuracy: 0.9333 Val Loss: 0.1039 Val Accuracy: 1.0\n",
      "Example target: [1. 0. 0.]\n",
      "Example prediction: [0.9977, 0.0023, 0.0]\n",
      "Epoch 33 Training Loss: 0.3007 Training Accuracy: 0.8762 Val Loss: 0.2744 Val Accuracy: 0.8\n",
      "Example target: [0. 0. 1.]\n",
      "Example prediction: [0.0, 0.0343, 0.9657]\n",
      "Epoch 34 Training Loss: 0.1973 Training Accuracy: 0.9333 Val Loss: 0.0399 Val Accuracy: 1.0\n",
      "Example target: [0. 0. 1.]\n",
      "Example prediction: [0.0002, 0.2247, 0.7751]\n",
      "Epoch 35 Training Loss: 0.2357 Training Accuracy: 0.8857 Val Loss: 0.1024 Val Accuracy: 1.0\n",
      "Example target: [1. 0. 0.]\n",
      "Example prediction: [0.9999, 0.0001, 0.0]\n",
      "Epoch 36 Training Loss: 0.2147 Training Accuracy: 0.9048 Val Loss: 0.0931 Val Accuracy: 1.0\n",
      "Example target: [0. 0. 1.]\n",
      "Example prediction: [0.0, 0.0782, 0.9218]\n",
      "Epoch 37 Training Loss: 0.2408 Training Accuracy: 0.9143 Val Loss: 0.0759 Val Accuracy: 1.0\n",
      "Example target: [1. 0. 0.]\n",
      "Example prediction: [0.9938, 0.0062, 0.0]\n",
      "Epoch 38 Training Loss: 0.1679 Training Accuracy: 0.9238 Val Loss: 0.2786 Val Accuracy: 0.8\n",
      "Example target: [1. 0. 0.]\n",
      "Example prediction: [0.9999, 0.0001, 0.0]\n",
      "Epoch 39 Training Loss: 0.1326 Training Accuracy: 0.981 Val Loss: 0.143 Val Accuracy: 0.9333\n",
      "Example target: [0. 1. 0.]\n",
      "Example prediction: [0.0045, 0.9342, 0.0612]\n",
      "Epoch 40 Training Loss: 0.1076 Training Accuracy: 0.9714 Val Loss: 0.0148 Val Accuracy: 1.0\n",
      "Example target: [0. 0. 1.]\n",
      "Example prediction: [0.0001, 0.1161, 0.8838]\n",
      "Epoch 41 Training Loss: 0.2498 Training Accuracy: 0.9333 Val Loss: 0.032 Val Accuracy: 1.0\n",
      "Example target: [0. 0. 1.]\n",
      "Example prediction: [0.0, 0.1201, 0.8799]\n",
      "Epoch 42 Training Loss: 0.1913 Training Accuracy: 0.9238 Val Loss: 0.1116 Val Accuracy: 0.9333\n",
      "Example target: [0. 1. 0.]\n",
      "Example prediction: [0.012, 0.9503, 0.0378]\n",
      "Epoch 43 Training Loss: 0.1455 Training Accuracy: 0.9524 Val Loss: 0.0348 Val Accuracy: 1.0\n",
      "Example target: [1. 0. 0.]\n",
      "Example prediction: [0.9997, 0.0003, 0.0]\n",
      "Epoch 44 Training Loss: 0.2178 Training Accuracy: 0.9238 Val Loss: 0.1405 Val Accuracy: 0.9333\n",
      "Example target: [1. 0. 0.]\n",
      "Example prediction: [1.0, 0.0, 0.0]\n",
      "Epoch 45 Training Loss: 0.2099 Training Accuracy: 0.8857 Val Loss: 0.1715 Val Accuracy: 0.9333\n",
      "Example target: [0. 1. 0.]\n",
      "Example prediction: [0.0174, 0.9336, 0.049]\n",
      "Epoch 46 Training Loss: 0.2547 Training Accuracy: 0.8952 Val Loss: 0.0208 Val Accuracy: 1.0\n",
      "Example target: [1. 0. 0.]\n",
      "Example prediction: [0.9984, 0.0016, 0.0]\n",
      "Epoch 47 Training Loss: 0.2099 Training Accuracy: 0.9048 Val Loss: 0.0523 Val Accuracy: 1.0\n",
      "Example target: [1. 0. 0.]\n",
      "Example prediction: [1.0, 0.0, 0.0]\n",
      "Epoch 48 Training Loss: 0.1388 Training Accuracy: 0.9333 Val Loss: 0.0172 Val Accuracy: 1.0\n",
      "Example target: [1. 0. 0.]\n",
      "Example prediction: [0.9998, 0.0002, 0.0]\n",
      "Epoch 49 Training Loss: 0.421 Training Accuracy: 0.819 Val Loss: 0.0857 Val Accuracy: 1.0\n",
      "Example target: [0. 0. 1.]\n",
      "Example prediction: [0.0, 0.2159, 0.784]\n",
      "Epoch 50 Training Loss: 0.1616 Training Accuracy: 0.9524 Val Loss: 0.0891 Val Accuracy: 1.0\n"
     ]
    },
    {
     "name": "stdout",
     "output_type": "stream",
     "text": [
      "Example target: [0. 0. 1.]\n",
      "Example prediction: [0.0, 0.0323, 0.9677]\n",
      "Epoch 51 Training Loss: 0.1683 Training Accuracy: 0.9333 Val Loss: 0.0304 Val Accuracy: 1.0\n",
      "Example target: [0. 0. 1.]\n",
      "Example prediction: [0.0, 0.0867, 0.9133]\n",
      "Epoch 52 Training Loss: 0.2891 Training Accuracy: 0.8762 Val Loss: 0.0409 Val Accuracy: 1.0\n",
      "Example target: [1. 0. 0.]\n",
      "Example prediction: [0.9987, 0.0013, 0.0]\n",
      "Epoch 53 Training Loss: 0.1188 Training Accuracy: 0.9714 Val Loss: 0.0303 Val Accuracy: 1.0\n",
      "Example target: [0. 1. 0.]\n",
      "Example prediction: [0.015, 0.9565, 0.0286]\n",
      "Epoch 54 Training Loss: 0.1172 Training Accuracy: 0.9714 Val Loss: 0.0356 Val Accuracy: 1.0\n",
      "Example target: [1. 0. 0.]\n",
      "Example prediction: [0.9988, 0.0012, 0.0]\n",
      "Epoch 55 Training Loss: 0.2359 Training Accuracy: 0.8667 Val Loss: 0.1226 Val Accuracy: 0.9333\n",
      "Example target: [1. 0. 0.]\n",
      "Example prediction: [1.0, 0.0, 0.0]\n",
      "Epoch 56 Training Loss: 0.1635 Training Accuracy: 0.9048 Val Loss: 0.1531 Val Accuracy: 0.9333\n",
      "Example target: [1. 0. 0.]\n",
      "Example prediction: [0.9972, 0.0028, 0.0]\n",
      "Epoch 57 Training Loss: 0.1893 Training Accuracy: 0.9143 Val Loss: 0.0235 Val Accuracy: 1.0\n",
      "Example target: [1. 0. 0.]\n",
      "Example prediction: [0.9986, 0.0014, 0.0]\n",
      "Epoch 58 Training Loss: 0.1642 Training Accuracy: 0.9238 Val Loss: 0.0946 Val Accuracy: 0.9333\n",
      "Example target: [1. 0. 0.]\n",
      "Example prediction: [0.9993, 0.0007, 0.0]\n",
      "Epoch 59 Training Loss: 0.0989 Training Accuracy: 0.9524 Val Loss: 0.0778 Val Accuracy: 1.0\n",
      "Example target: [0. 0. 1.]\n",
      "Example prediction: [0.0001, 0.1566, 0.8434]\n",
      "Epoch 60 Training Loss: 0.1411 Training Accuracy: 0.9333 Val Loss: 0.0237 Val Accuracy: 1.0\n",
      "Example target: [1. 0. 0.]\n",
      "Example prediction: [0.9986, 0.0014, 0.0]\n",
      "Epoch 61 Training Loss: 0.0903 Training Accuracy: 0.9714 Val Loss: 0.0193 Val Accuracy: 1.0\n",
      "Example target: [0. 0. 1.]\n",
      "Example prediction: [0.0, 0.0415, 0.9585]\n",
      "Epoch 62 Training Loss: 0.2924 Training Accuracy: 0.8857 Val Loss: 0.025 Val Accuracy: 1.0\n",
      "Example target: [0. 0. 1.]\n",
      "Example prediction: [0.0, 0.0047, 0.9953]\n",
      "Epoch 63 Training Loss: 0.1252 Training Accuracy: 0.9714 Val Loss: 0.0189 Val Accuracy: 1.0\n",
      "Example target: [0. 0. 1.]\n",
      "Example prediction: [0.0, 0.0895, 0.9105]\n",
      "Epoch 64 Training Loss: 0.1407 Training Accuracy: 0.9333 Val Loss: 0.0561 Val Accuracy: 1.0\n",
      "Example target: [1. 0. 0.]\n",
      "Example prediction: [0.9996, 0.0004, 0.0]\n",
      "Epoch 65 Training Loss: 0.0942 Training Accuracy: 0.9619 Val Loss: 0.0093 Val Accuracy: 1.0\n",
      "Example target: [1. 0. 0.]\n",
      "Example prediction: [1.0, 0.0, 0.0]\n",
      "Epoch 66 Training Loss: 0.1099 Training Accuracy: 0.9619 Val Loss: 0.1315 Val Accuracy: 0.9333\n",
      "Example target: [0. 1. 0.]\n",
      "Example prediction: [0.0124, 0.9752, 0.0125]\n",
      "Epoch 67 Training Loss: 0.2365 Training Accuracy: 0.9143 Val Loss: 0.1024 Val Accuracy: 0.9333\n",
      "Example target: [1. 0. 0.]\n",
      "Example prediction: [1.0, 0.0, 0.0]\n",
      "Epoch 68 Training Loss: 0.1217 Training Accuracy: 0.9429 Val Loss: 0.0506 Val Accuracy: 1.0\n",
      "Example target: [1. 0. 0.]\n",
      "Example prediction: [1.0, 0.0, 0.0]\n",
      "Epoch 69 Training Loss: 0.1585 Training Accuracy: 0.9429 Val Loss: 0.0311 Val Accuracy: 1.0\n",
      "Example target: [0. 0. 1.]\n",
      "Example prediction: [0.0006, 0.7816, 0.2178]\n",
      "Epoch 70 Training Loss: 0.191 Training Accuracy: 0.8952 Val Loss: 0.1882 Val Accuracy: 0.9333\n",
      "Example target: [1. 0. 0.]\n",
      "Example prediction: [0.9999, 0.0001, 0.0]\n",
      "Epoch 71 Training Loss: 0.1052 Training Accuracy: 0.9619 Val Loss: 0.0431 Val Accuracy: 1.0\n",
      "Example target: [1. 0. 0.]\n",
      "Example prediction: [0.9988, 0.0012, 0.0]\n",
      "Epoch 72 Training Loss: 0.0805 Training Accuracy: 0.981 Val Loss: 0.0704 Val Accuracy: 1.0\n",
      "Example target: [1. 0. 0.]\n",
      "Example prediction: [0.9973, 0.0027, 0.0]\n",
      "Epoch 73 Training Loss: 0.0666 Training Accuracy: 0.9905 Val Loss: 0.0064 Val Accuracy: 1.0\n",
      "Example target: [0. 1. 0.]\n",
      "Example prediction: [0.0037, 0.9884, 0.0079]\n",
      "Epoch 74 Training Loss: 0.059 Training Accuracy: 0.9714 Val Loss: 0.0048 Val Accuracy: 1.0\n",
      "Example target: [1. 0. 0.]\n",
      "Example prediction: [1.0, 0.0, 0.0]\n",
      "Epoch 75 Training Loss: 0.3608 Training Accuracy: 0.8857 Val Loss: 0.0081 Val Accuracy: 1.0\n",
      "Example target: [1. 0. 0.]\n",
      "Example prediction: [0.9999, 0.0001, 0.0]\n",
      "Epoch 76 Training Loss: 0.0974 Training Accuracy: 0.9524 Val Loss: 0.1113 Val Accuracy: 0.9333\n",
      "Example target: [0. 1. 0.]\n",
      "Example prediction: [0.0064, 0.9855, 0.0081]\n",
      "Epoch 77 Training Loss: 0.0923 Training Accuracy: 0.9429 Val Loss: 0.0084 Val Accuracy: 1.0\n",
      "Example target: [0. 0. 1.]\n",
      "Example prediction: [0.0, 0.0294, 0.9706]\n",
      "Epoch 78 Training Loss: 0.2876 Training Accuracy: 0.9333 Val Loss: 0.0472 Val Accuracy: 1.0\n",
      "Example target: [0. 0. 1.]\n",
      "Example prediction: [0.0, 0.1693, 0.8307]\n",
      "Epoch 79 Training Loss: 0.1453 Training Accuracy: 0.9429 Val Loss: 0.0227 Val Accuracy: 1.0\n",
      "Example target: [1. 0. 0.]\n",
      "Example prediction: [0.9996, 0.0004, 0.0]\n",
      "Epoch 80 Training Loss: 0.0647 Training Accuracy: 0.981 Val Loss: 0.0144 Val Accuracy: 1.0\n",
      "Example target: [1. 0. 0.]\n",
      "Example prediction: [0.999, 0.001, 0.0]\n",
      "Epoch 81 Training Loss: 0.0816 Training Accuracy: 0.9714 Val Loss: 0.0717 Val Accuracy: 0.9333\n",
      "Example target: [1. 0. 0.]\n",
      "Example prediction: [0.9995, 0.0005, 0.0]\n",
      "Epoch 82 Training Loss: 0.0736 Training Accuracy: 0.9619 Val Loss: 0.1046 Val Accuracy: 0.9333\n",
      "Example target: [0. 1. 0.]\n",
      "Example prediction: [0.0026, 0.9889, 0.0085]\n",
      "Epoch 83 Training Loss: 0.0635 Training Accuracy: 0.9714 Val Loss: 0.116 Val Accuracy: 0.9333\n",
      "Example target: [1. 0. 0.]\n",
      "Example prediction: [0.9972, 0.0028, 0.0]\n",
      "Epoch 84 Training Loss: 0.1302 Training Accuracy: 0.9238 Val Loss: 0.5861 Val Accuracy: 0.7333\n",
      "Example target: [1. 0. 0.]\n",
      "Example prediction: [0.9999, 0.0001, 0.0]\n",
      "Epoch 85 Training Loss: 0.2246 Training Accuracy: 0.9143 Val Loss: 0.0089 Val Accuracy: 1.0\n",
      "Example target: [1. 0. 0.]\n",
      "Example prediction: [0.9994, 0.0006, 0.0]\n",
      "Epoch 86 Training Loss: 0.0756 Training Accuracy: 0.9714 Val Loss: 0.0173 Val Accuracy: 1.0\n",
      "Example target: [0. 1. 0.]\n",
      "Example prediction: [0.0083, 0.9802, 0.0116]\n",
      "Epoch 87 Training Loss: 0.0824 Training Accuracy: 0.9714 Val Loss: 0.0068 Val Accuracy: 1.0\n",
      "Example target: [1. 0. 0.]\n",
      "Example prediction: [1.0, 0.0, 0.0]\n",
      "Epoch 88 Training Loss: 0.0818 Training Accuracy: 0.9524 Val Loss: 0.0472 Val Accuracy: 1.0\n",
      "Example target: [1. 0. 0.]\n",
      "Example prediction: [0.9998, 0.0002, 0.0]\n",
      "Epoch 89 Training Loss: 0.1091 Training Accuracy: 0.9524 Val Loss: 0.013 Val Accuracy: 1.0\n",
      "Example target: [1. 0. 0.]\n",
      "Example prediction: [0.9987, 0.0013, 0.0]\n",
      "Epoch 90 Training Loss: 0.154 Training Accuracy: 0.9143 Val Loss: 0.0224 Val Accuracy: 1.0\n",
      "Example target: [0. 0. 1.]\n",
      "Example prediction: [0.0, 0.0224, 0.9776]\n",
      "Epoch 91 Training Loss: 0.055 Training Accuracy: 0.981 Val Loss: 0.046 Val Accuracy: 1.0\n",
      "Example target: [1. 0. 0.]\n",
      "Example prediction: [1.0, 0.0, 0.0]\n",
      "Epoch 92 Training Loss: 0.0718 Training Accuracy: 0.9619 Val Loss: 0.1053 Val Accuracy: 0.9333\n",
      "Example target: [0. 0. 1.]\n",
      "Example prediction: [0.0, 0.0778, 0.9222]\n",
      "Epoch 93 Training Loss: 0.1075 Training Accuracy: 0.9429 Val Loss: 0.0746 Val Accuracy: 0.9333\n",
      "Example target: [1. 0. 0.]\n",
      "Example prediction: [1.0, 0.0, 0.0]\n",
      "Epoch 94 Training Loss: 0.0789 Training Accuracy: 0.9714 Val Loss: 0.0571 Val Accuracy: 1.0\n",
      "Example target: [0. 0. 1.]\n",
      "Example prediction: [0.0, 0.0081, 0.9919]\n",
      "Epoch 95 Training Loss: 0.14 Training Accuracy: 0.9524 Val Loss: 0.0141 Val Accuracy: 1.0\n",
      "Example target: [0. 0. 1.]\n",
      "Example prediction: [0.0, 0.0561, 0.9439]\n",
      "Epoch 96 Training Loss: 0.0982 Training Accuracy: 0.9619 Val Loss: 0.028 Val Accuracy: 1.0\n",
      "Example target: [1. 0. 0.]\n",
      "Example prediction: [0.9987, 0.0013, 0.0]\n",
      "Epoch 97 Training Loss: 0.0686 Training Accuracy: 0.981 Val Loss: 0.0078 Val Accuracy: 1.0\n",
      "Example target: [0. 1. 0.]\n",
      "Example prediction: [0.0053, 0.9865, 0.0082]\n",
      "Epoch 98 Training Loss: 0.0511 Training Accuracy: 1.0 Val Loss: 0.0049 Val Accuracy: 1.0\n",
      "Example target: [1. 0. 0.]\n",
      "Example prediction: [0.9998, 0.0002, 0.0]\n",
      "Epoch 99 Training Loss: 0.1317 Training Accuracy: 0.9429 Val Loss: 0.0422 Val Accuracy: 1.0\n",
      "\n",
      "Test Loss: 0.1042 Test Accuracy: 0.9667\n",
      "Training iris_model_25_0.01 neural network on iris with SGD for 100 epochs...\n",
      "Optimizer:\n",
      "{'name': 'SGD', 'lr': 0.01, 'lr_scheduler': 'constant', 'lr_decay': None, 'stage_length': None, 'staircase': None, 'clip_norm': None, 'momentum': 0.05}\n"
     ]
    },
    {
     "data": {
      "application/vnd.jupyter.widget-view+json": {
       "model_id": "d212043d303a4af59c5a3d469198b986",
       "version_major": 2,
       "version_minor": 0
      },
      "text/plain": [
       "HBox(children=(FloatProgress(value=0.0), HTML(value='')))"
      ]
     },
     "metadata": {},
     "output_type": "display_data"
    },
    {
     "name": "stdout",
     "output_type": "stream",
     "text": [
      "X (5, 4) Weights:  (4, 25) biases (1, 25)\n",
      "X (5, 25) Weights:  (25, 3) biases (1, 3)\n",
      "Example target: [1. 0. 0.]\n",
      "Example prediction: [0.62, 0.1679, 0.2121]\n",
      "Epoch 0 Training Loss: 1.0704 Training Accuracy: 0.5619 Val Loss: 0.6123 Val Accuracy: 0.8\n",
      "Example target: [1. 0. 0.]\n",
      "Example prediction: [0.6827, 0.1069, 0.2104]\n",
      "Epoch 1 Training Loss: 0.6481 Training Accuracy: 0.7619 Val Loss: 0.5705 Val Accuracy: 0.8\n",
      "Example target: [0. 0. 1.]\n",
      "Example prediction: [0.053, 0.2996, 0.6474]\n",
      "Epoch 2 Training Loss: 0.644 Training Accuracy: 0.7429 Val Loss: 0.3924 Val Accuracy: 1.0\n",
      "Example target: [0. 0. 1.]\n",
      "Example prediction: [0.0345, 0.5732, 0.3923]\n",
      "Epoch 3 Training Loss: 0.5406 Training Accuracy: 0.781 Val Loss: 0.4202 Val Accuracy: 0.8\n",
      "Example target: [0. 1. 0.]\n",
      "Example prediction: [0.089, 0.3888, 0.5223]\n",
      "Epoch 4 Training Loss: 0.5143 Training Accuracy: 0.7714 Val Loss: 0.3162 Val Accuracy: 0.8\n",
      "Example target: [0. 0. 1.]\n",
      "Example prediction: [0.0197, 0.4557, 0.5245]\n",
      "Epoch 5 Training Loss: 0.5069 Training Accuracy: 0.7048 Val Loss: 0.3677 Val Accuracy: 0.8\n",
      "Example target: [0. 0. 1.]\n",
      "Example prediction: [0.0243, 0.2821, 0.6936]\n",
      "Epoch 6 Training Loss: 0.412 Training Accuracy: 0.8381 Val Loss: 0.2684 Val Accuracy: 1.0\n",
      "Example target: [0. 1. 0.]\n",
      "Example prediction: [0.0607, 0.8205, 0.1188]\n",
      "Epoch 7 Training Loss: 0.4004 Training Accuracy: 0.8381 Val Loss: 0.4751 Val Accuracy: 0.7333\n",
      "Example target: [1. 0. 0.]\n",
      "Example prediction: [0.9799, 0.019, 0.0011]\n",
      "Epoch 8 Training Loss: 0.3948 Training Accuracy: 0.8381 Val Loss: 0.2427 Val Accuracy: 1.0\n",
      "Example target: [0. 0. 1.]\n",
      "Example prediction: [0.0137, 0.2892, 0.6971]\n",
      "Epoch 9 Training Loss: 0.404 Training Accuracy: 0.8381 Val Loss: 0.224 Val Accuracy: 1.0\n",
      "Example target: [0. 0. 1.]\n",
      "Example prediction: [0.0136, 0.2281, 0.7584]\n",
      "Epoch 10 Training Loss: 0.3378 Training Accuracy: 0.8952 Val Loss: 0.2134 Val Accuracy: 1.0\n",
      "Example target: [1. 0. 0.]\n",
      "Example prediction: [0.9634, 0.0358, 0.0008]\n",
      "Epoch 11 Training Loss: 0.3215 Training Accuracy: 0.9238 Val Loss: 0.2205 Val Accuracy: 1.0\n",
      "Example target: [1. 0. 0.]\n",
      "Example prediction: [0.9861, 0.0138, 0.0001]\n",
      "Epoch 12 Training Loss: 0.3844 Training Accuracy: 0.8381 Val Loss: 0.2125 Val Accuracy: 1.0\n",
      "Example target: [1. 0. 0.]\n",
      "Example prediction: [0.9908, 0.0091, 0.0001]\n",
      "Epoch 13 Training Loss: 0.3211 Training Accuracy: 0.8857 Val Loss: 0.1823 Val Accuracy: 1.0\n",
      "Example target: [0. 0. 1.]\n",
      "Example prediction: [0.0066, 0.143, 0.8504]\n",
      "Epoch 14 Training Loss: 0.3241 Training Accuracy: 0.8952 Val Loss: 0.1838 Val Accuracy: 1.0\n",
      "Example target: [1. 0. 0.]\n",
      "Example prediction: [0.9193, 0.0804, 0.0003]\n",
      "Epoch 15 Training Loss: 0.3419 Training Accuracy: 0.8762 Val Loss: 0.2596 Val Accuracy: 0.8667\n",
      "Example target: [1. 0. 0.]\n",
      "Example prediction: [0.9297, 0.0699, 0.0004]\n",
      "Epoch 16 Training Loss: 0.3076 Training Accuracy: 0.8952 Val Loss: 0.2283 Val Accuracy: 0.9333\n",
      "Example target: [0. 0. 1.]\n",
      "Example prediction: [0.0024, 0.1324, 0.8651]\n",
      "Epoch 17 Training Loss: 0.2919 Training Accuracy: 0.9143 Val Loss: 0.1524 Val Accuracy: 1.0\n",
      "Example target: [0. 0. 1.]\n",
      "Example prediction: [0.0076, 0.5065, 0.4858]\n",
      "Epoch 18 Training Loss: 0.2842 Training Accuracy: 0.8952 Val Loss: 0.2085 Val Accuracy: 0.9333\n",
      "Example target: [0. 0. 1.]\n",
      "Example prediction: [0.0022, 0.1916, 0.8063]\n",
      "Epoch 19 Training Loss: 0.2934 Training Accuracy: 0.8952 Val Loss: 0.1413 Val Accuracy: 1.0\n",
      "Example target: [1. 0. 0.]\n",
      "Example prediction: [0.9919, 0.0081, 0.0]\n",
      "Epoch 20 Training Loss: 0.2497 Training Accuracy: 0.9333 Val Loss: 0.2024 Val Accuracy: 0.9333\n",
      "Example target: [1. 0. 0.]\n",
      "Example prediction: [0.9924, 0.0076, 0.0]\n",
      "Epoch 21 Training Loss: 0.2437 Training Accuracy: 0.9524 Val Loss: 0.1514 Val Accuracy: 1.0\n",
      "Example target: [1. 0. 0.]\n",
      "Example prediction: [0.9187, 0.0812, 0.0002]\n",
      "Epoch 22 Training Loss: 0.2369 Training Accuracy: 0.9524 Val Loss: 0.1266 Val Accuracy: 1.0\n",
      "Example target: [0. 0. 1.]\n",
      "Example prediction: [0.0049, 0.3769, 0.6182]\n",
      "Epoch 23 Training Loss: 0.2446 Training Accuracy: 0.9333 Val Loss: 0.1424 Val Accuracy: 1.0\n",
      "Example target: [0. 1. 0.]\n",
      "Example prediction: [0.0491, 0.8717, 0.0792]\n",
      "Epoch 24 Training Loss: 0.2218 Training Accuracy: 0.981 Val Loss: 0.1725 Val Accuracy: 1.0\n",
      "Example target: [0. 1. 0.]\n",
      "Example prediction: [0.0782, 0.6613, 0.2605]\n",
      "Epoch 25 Training Loss: 0.2151 Training Accuracy: 0.9714 Val Loss: 0.1094 Val Accuracy: 1.0\n",
      "Example target: [1. 0. 0.]\n",
      "Example prediction: [0.9111, 0.0888, 0.0001]\n",
      "Epoch 26 Training Loss: 0.2184 Training Accuracy: 0.9143 Val Loss: 0.1289 Val Accuracy: 1.0\n",
      "Example target: [1. 0. 0.]\n",
      "Example prediction: [0.9958, 0.0042, 0.0]\n",
      "Epoch 27 Training Loss: 0.2335 Training Accuracy: 0.9143 Val Loss: 0.1113 Val Accuracy: 1.0\n",
      "Example target: [0. 1. 0.]\n",
      "Example prediction: [0.0596, 0.7893, 0.1511]\n",
      "Epoch 28 Training Loss: 0.2292 Training Accuracy: 0.9619 Val Loss: 0.094 Val Accuracy: 1.0\n",
      "Example target: [0. 0. 1.]\n",
      "Example prediction: [0.0026, 0.4629, 0.5345]\n",
      "Epoch 29 Training Loss: 0.1924 Training Accuracy: 0.9619 Val Loss: 0.1931 Val Accuracy: 0.9333\n",
      "Example target: [1. 0. 0.]\n",
      "Example prediction: [0.9326, 0.0673, 0.0]\n",
      "Epoch 30 Training Loss: 0.2011 Training Accuracy: 0.9429 Val Loss: 0.0999 Val Accuracy: 1.0\n",
      "Example target: [0. 1. 0.]\n",
      "Example prediction: [0.0267, 0.8293, 0.144]\n",
      "Epoch 31 Training Loss: 0.1913 Training Accuracy: 0.9429 Val Loss: 0.0825 Val Accuracy: 1.0\n",
      "Example target: [0. 0. 1.]\n",
      "Example prediction: [0.0007, 0.1573, 0.842]\n",
      "Epoch 32 Training Loss: 0.191 Training Accuracy: 0.9524 Val Loss: 0.0975 Val Accuracy: 1.0\n",
      "Example target: [0. 0. 1.]\n",
      "Example prediction: [0.0013, 0.1115, 0.8872]\n",
      "Epoch 33 Training Loss: 0.1805 Training Accuracy: 0.9524 Val Loss: 0.0779 Val Accuracy: 1.0\n",
      "Example target: [0. 0. 1.]\n",
      "Example prediction: [0.0013, 0.2333, 0.7654]\n",
      "Epoch 34 Training Loss: 0.204 Training Accuracy: 0.9238 Val Loss: 0.0997 Val Accuracy: 1.0\n",
      "Example target: [1. 0. 0.]\n",
      "Example prediction: [0.9976, 0.0024, 0.0]\n",
      "Epoch 35 Training Loss: 0.1792 Training Accuracy: 0.9619 Val Loss: 0.0799 Val Accuracy: 1.0\n",
      "Example target: [0. 0. 1.]\n",
      "Example prediction: [0.0006, 0.1047, 0.8947]\n",
      "Epoch 36 Training Loss: 0.1795 Training Accuracy: 0.9333 Val Loss: 0.0841 Val Accuracy: 1.0\n",
      "Example target: [0. 0. 1.]\n",
      "Example prediction: [0.0015, 0.3537, 0.6448]\n",
      "Epoch 37 Training Loss: 0.17 Training Accuracy: 0.9429 Val Loss: 0.1389 Val Accuracy: 1.0\n",
      "Example target: [1. 0. 0.]\n",
      "Example prediction: [0.9984, 0.0016, 0.0]\n",
      "Epoch 38 Training Loss: 0.1724 Training Accuracy: 0.9524 Val Loss: 0.0688 Val Accuracy: 1.0\n",
      "Example target: [1. 0. 0.]\n",
      "Example prediction: [0.9975, 0.0025, 0.0]\n",
      "Epoch 39 Training Loss: 0.1681 Training Accuracy: 0.9524 Val Loss: 0.1129 Val Accuracy: 1.0\n",
      "Example target: [1. 0. 0.]\n",
      "Example prediction: [0.9824, 0.0176, 0.0]\n",
      "Epoch 40 Training Loss: 0.1654 Training Accuracy: 0.9429 Val Loss: 0.079 Val Accuracy: 1.0\n",
      "Example target: [1. 0. 0.]\n",
      "Example prediction: [0.9985, 0.0015, 0.0]\n",
      "Epoch 41 Training Loss: 0.1432 Training Accuracy: 0.9905 Val Loss: 0.064 Val Accuracy: 1.0\n",
      "Example target: [0. 0. 1.]\n",
      "Example prediction: [0.0013, 0.2221, 0.7766]\n",
      "Epoch 42 Training Loss: 0.1703 Training Accuracy: 0.9333 Val Loss: 0.0648 Val Accuracy: 1.0\n",
      "Example target: [1. 0. 0.]\n",
      "Example prediction: [0.9793, 0.0207, 0.0]\n",
      "Epoch 43 Training Loss: 0.1516 Training Accuracy: 0.981 Val Loss: 0.0546 Val Accuracy: 1.0\n",
      "Example target: [0. 0. 1.]\n",
      "Example prediction: [0.0006, 0.3001, 0.6994]\n",
      "Epoch 44 Training Loss: 0.1479 Training Accuracy: 0.9429 Val Loss: 0.1517 Val Accuracy: 0.9333\n",
      "Example target: [1. 0. 0.]\n",
      "Example prediction: [0.9988, 0.0012, 0.0]\n",
      "Epoch 45 Training Loss: 0.1413 Training Accuracy: 0.9714 Val Loss: 0.0587 Val Accuracy: 1.0\n",
      "Example target: [1. 0. 0.]\n",
      "Example prediction: [0.9933, 0.0067, 0.0]\n",
      "Epoch 46 Training Loss: 0.1803 Training Accuracy: 0.9238 Val Loss: 0.065 Val Accuracy: 1.0\n",
      "Example target: [1. 0. 0.]\n",
      "Example prediction: [0.9806, 0.0194, 0.0]\n",
      "Epoch 47 Training Loss: 0.1302 Training Accuracy: 0.9619 Val Loss: 0.0727 Val Accuracy: 1.0\n",
      "Example target: [1. 0. 0.]\n",
      "Example prediction: [0.9933, 0.0067, 0.0]\n",
      "Epoch 48 Training Loss: 0.1472 Training Accuracy: 0.9429 Val Loss: 0.06 Val Accuracy: 1.0\n",
      "Example target: [1. 0. 0.]\n",
      "Example prediction: [0.999, 0.001, 0.0]\n",
      "Epoch 49 Training Loss: 0.1437 Training Accuracy: 0.981 Val Loss: 0.0541 Val Accuracy: 1.0\n"
     ]
    },
    {
     "name": "stdout",
     "output_type": "stream",
     "text": [
      "Example target: [0. 1. 0.]\n",
      "Example prediction: [0.0361, 0.9243, 0.0396]\n",
      "Epoch 50 Training Loss: 0.1416 Training Accuracy: 0.9714 Val Loss: 0.0635 Val Accuracy: 1.0\n",
      "Example target: [1. 0. 0.]\n",
      "Example prediction: [0.9988, 0.0012, 0.0]\n",
      "Epoch 51 Training Loss: 0.1527 Training Accuracy: 0.9429 Val Loss: 0.0479 Val Accuracy: 1.0\n",
      "Example target: [1. 0. 0.]\n",
      "Example prediction: [0.9836, 0.0164, 0.0]\n",
      "Epoch 52 Training Loss: 0.1371 Training Accuracy: 0.9714 Val Loss: 0.0448 Val Accuracy: 1.0\n",
      "Example target: [0. 0. 1.]\n",
      "Example prediction: [0.0002, 0.1484, 0.8514]\n",
      "Epoch 53 Training Loss: 0.1345 Training Accuracy: 0.9619 Val Loss: 0.0859 Val Accuracy: 1.0\n",
      "Example target: [1. 0. 0.]\n",
      "Example prediction: [0.9988, 0.0012, 0.0]\n",
      "Epoch 54 Training Loss: 0.1328 Training Accuracy: 0.9619 Val Loss: 0.0485 Val Accuracy: 1.0\n",
      "Example target: [0. 1. 0.]\n",
      "Example prediction: [0.0319, 0.917, 0.0511]\n",
      "Epoch 55 Training Loss: 0.1262 Training Accuracy: 0.9429 Val Loss: 0.0414 Val Accuracy: 1.0\n",
      "Example target: [0. 1. 0.]\n",
      "Example prediction: [0.0077, 0.9859, 0.0064]\n",
      "Epoch 56 Training Loss: 0.1285 Training Accuracy: 0.9714 Val Loss: 0.1004 Val Accuracy: 1.0\n",
      "Example target: [1. 0. 0.]\n",
      "Example prediction: [0.9946, 0.0054, 0.0]\n",
      "Epoch 57 Training Loss: 0.1374 Training Accuracy: 0.9524 Val Loss: 0.0978 Val Accuracy: 1.0\n",
      "Example target: [1. 0. 0.]\n",
      "Example prediction: [0.9896, 0.0104, 0.0]\n",
      "Epoch 58 Training Loss: 0.1383 Training Accuracy: 0.9619 Val Loss: 0.0635 Val Accuracy: 1.0\n",
      "Example target: [1. 0. 0.]\n",
      "Example prediction: [0.9692, 0.0308, 0.0]\n",
      "Epoch 59 Training Loss: 0.122 Training Accuracy: 0.9524 Val Loss: 0.035 Val Accuracy: 1.0\n",
      "Example target: [1. 0. 0.]\n",
      "Example prediction: [0.9642, 0.0358, 0.0]\n",
      "Epoch 60 Training Loss: 0.136 Training Accuracy: 0.9333 Val Loss: 0.0703 Val Accuracy: 1.0\n",
      "Example target: [0. 0. 1.]\n",
      "Example prediction: [0.0001, 0.0612, 0.9387]\n",
      "Epoch 61 Training Loss: 0.1245 Training Accuracy: 0.9714 Val Loss: 0.0468 Val Accuracy: 1.0\n",
      "Example target: [1. 0. 0.]\n",
      "Example prediction: [0.9906, 0.0094, 0.0]\n",
      "Epoch 62 Training Loss: 0.1466 Training Accuracy: 0.9429 Val Loss: 0.04 Val Accuracy: 1.0\n",
      "Example target: [0. 0. 1.]\n",
      "Example prediction: [0.0003, 0.374, 0.6257]\n",
      "Epoch 63 Training Loss: 0.1221 Training Accuracy: 0.9619 Val Loss: 0.2049 Val Accuracy: 0.9333\n",
      "Example target: [1. 0. 0.]\n",
      "Example prediction: [0.9992, 0.0008, 0.0]\n",
      "Epoch 64 Training Loss: 0.1385 Training Accuracy: 0.9619 Val Loss: 0.1274 Val Accuracy: 0.9333\n",
      "Example target: [1. 0. 0.]\n",
      "Example prediction: [0.987, 0.013, 0.0]\n",
      "Epoch 65 Training Loss: 0.123 Training Accuracy: 0.9524 Val Loss: 0.0723 Val Accuracy: 1.0\n",
      "Example target: [1. 0. 0.]\n",
      "Example prediction: [0.9669, 0.0331, 0.0]\n",
      "Epoch 66 Training Loss: 0.1103 Training Accuracy: 0.9714 Val Loss: 0.0669 Val Accuracy: 1.0\n",
      "Example target: [1. 0. 0.]\n",
      "Example prediction: [0.9994, 0.0006, 0.0]\n",
      "Epoch 67 Training Loss: 0.1256 Training Accuracy: 0.9524 Val Loss: 0.0366 Val Accuracy: 1.0\n",
      "Example target: [1. 0. 0.]\n",
      "Example prediction: [0.9879, 0.0121, 0.0]\n",
      "Epoch 68 Training Loss: 0.114 Training Accuracy: 0.9714 Val Loss: 0.0339 Val Accuracy: 1.0\n",
      "Example target: [1. 0. 0.]\n",
      "Example prediction: [0.9915, 0.0085, 0.0]\n",
      "Epoch 69 Training Loss: 0.1355 Training Accuracy: 0.9429 Val Loss: 0.0452 Val Accuracy: 1.0\n",
      "Example target: [0. 1. 0.]\n",
      "Example prediction: [0.0229, 0.9503, 0.0269]\n",
      "Epoch 70 Training Loss: 0.0991 Training Accuracy: 0.981 Val Loss: 0.0318 Val Accuracy: 1.0\n",
      "Example target: [1. 0. 0.]\n",
      "Example prediction: [0.9993, 0.0007, 0.0]\n",
      "Epoch 71 Training Loss: 0.1088 Training Accuracy: 0.981 Val Loss: 0.0459 Val Accuracy: 1.0\n",
      "Example target: [1. 0. 0.]\n",
      "Example prediction: [0.9994, 0.0006, 0.0]\n",
      "Epoch 72 Training Loss: 0.1182 Training Accuracy: 0.9429 Val Loss: 0.0305 Val Accuracy: 1.0\n",
      "Example target: [1. 0. 0.]\n",
      "Example prediction: [0.9924, 0.0076, 0.0]\n",
      "Epoch 73 Training Loss: 0.112 Training Accuracy: 0.9619 Val Loss: 0.0358 Val Accuracy: 1.0\n",
      "Example target: [1. 0. 0.]\n",
      "Example prediction: [0.9707, 0.0293, 0.0]\n",
      "Epoch 74 Training Loss: 0.1026 Training Accuracy: 0.9714 Val Loss: 0.0663 Val Accuracy: 1.0\n",
      "Example target: [0. 1. 0.]\n",
      "Example prediction: [0.0061, 0.9853, 0.0086]\n",
      "Epoch 75 Training Loss: 0.1154 Training Accuracy: 0.9619 Val Loss: 0.0356 Val Accuracy: 1.0\n",
      "Example target: [1. 0. 0.]\n",
      "Example prediction: [0.9904, 0.0096, 0.0]\n",
      "Epoch 76 Training Loss: 0.0989 Training Accuracy: 0.9905 Val Loss: 0.0285 Val Accuracy: 1.0\n",
      "Example target: [0. 1. 0.]\n",
      "Example prediction: [0.0169, 0.9764, 0.0067]\n",
      "Epoch 77 Training Loss: 0.1214 Training Accuracy: 0.9524 Val Loss: 0.0779 Val Accuracy: 1.0\n",
      "Example target: [1. 0. 0.]\n",
      "Example prediction: [0.9996, 0.0004, 0.0]\n",
      "Epoch 78 Training Loss: 0.1108 Training Accuracy: 0.9714 Val Loss: 0.0427 Val Accuracy: 1.0\n",
      "Example target: [1. 0. 0.]\n",
      "Example prediction: [0.9749, 0.0251, 0.0]\n",
      "Epoch 79 Training Loss: 0.105 Training Accuracy: 0.9714 Val Loss: 0.0375 Val Accuracy: 1.0\n",
      "Example target: [0. 1. 0.]\n",
      "Example prediction: [0.0185, 0.9697, 0.0118]\n",
      "Epoch 80 Training Loss: 0.1096 Training Accuracy: 0.9524 Val Loss: 0.0396 Val Accuracy: 1.0\n",
      "Example target: [1. 0. 0.]\n",
      "Example prediction: [0.9995, 0.0005, 0.0]\n",
      "Epoch 81 Training Loss: 0.1012 Training Accuracy: 0.9619 Val Loss: 0.0638 Val Accuracy: 1.0\n",
      "Example target: [1. 0. 0.]\n",
      "Example prediction: [0.9929, 0.0071, 0.0]\n",
      "Epoch 82 Training Loss: 0.0957 Training Accuracy: 0.9619 Val Loss: 0.0713 Val Accuracy: 1.0\n",
      "Example target: [0. 0. 1.]\n",
      "Example prediction: [0.0, 0.0446, 0.9553]\n",
      "Epoch 83 Training Loss: 0.1161 Training Accuracy: 0.9429 Val Loss: 0.0385 Val Accuracy: 1.0\n",
      "Example target: [1. 0. 0.]\n",
      "Example prediction: [0.9974, 0.0026, 0.0]\n",
      "Epoch 84 Training Loss: 0.0983 Training Accuracy: 0.9619 Val Loss: 0.0323 Val Accuracy: 1.0\n",
      "Example target: [0. 0. 1.]\n",
      "Example prediction: [0.0001, 0.098, 0.9019]\n",
      "Epoch 85 Training Loss: 0.0964 Training Accuracy: 0.981 Val Loss: 0.0705 Val Accuracy: 1.0\n",
      "Example target: [0. 1. 0.]\n",
      "Example prediction: [0.0164, 0.9766, 0.007]\n",
      "Epoch 86 Training Loss: 0.1149 Training Accuracy: 0.9524 Val Loss: 0.0514 Val Accuracy: 1.0\n",
      "Example target: [1. 0. 0.]\n",
      "Example prediction: [0.9917, 0.0083, 0.0]\n",
      "Epoch 87 Training Loss: 0.0954 Training Accuracy: 0.981 Val Loss: 0.0592 Val Accuracy: 1.0\n",
      "Example target: [1. 0. 0.]\n",
      "Example prediction: [0.9755, 0.0245, 0.0]\n",
      "Epoch 88 Training Loss: 0.0973 Training Accuracy: 0.9619 Val Loss: 0.0828 Val Accuracy: 1.0\n",
      "Example target: [1. 0. 0.]\n",
      "Example prediction: [0.9974, 0.0026, 0.0]\n",
      "Epoch 89 Training Loss: 0.0963 Training Accuracy: 0.9714 Val Loss: 0.0501 Val Accuracy: 1.0\n",
      "Example target: [0. 0. 1.]\n",
      "Example prediction: [0.0003, 0.2978, 0.7019]\n",
      "Epoch 90 Training Loss: 0.0919 Training Accuracy: 0.9714 Val Loss: 0.1193 Val Accuracy: 0.9333\n",
      "Example target: [0. 1. 0.]\n",
      "Example prediction: [0.0179, 0.9733, 0.0088]\n",
      "Epoch 91 Training Loss: 0.1049 Training Accuracy: 0.9714 Val Loss: 0.0368 Val Accuracy: 1.0\n",
      "Example target: [0. 0. 1.]\n",
      "Example prediction: [0.0, 0.0116, 0.9884]\n",
      "Epoch 92 Training Loss: 0.0953 Training Accuracy: 0.9619 Val Loss: 0.0185 Val Accuracy: 1.0\n",
      "Example target: [1. 0. 0.]\n",
      "Example prediction: [0.9929, 0.0071, 0.0]\n",
      "Epoch 93 Training Loss: 0.0928 Training Accuracy: 0.9905 Val Loss: 0.0212 Val Accuracy: 1.0\n",
      "Example target: [1. 0. 0.]\n",
      "Example prediction: [0.9996, 0.0004, 0.0]\n",
      "Epoch 94 Training Loss: 0.0936 Training Accuracy: 0.981 Val Loss: 0.0535 Val Accuracy: 1.0\n",
      "Example target: [1. 0. 0.]\n",
      "Example prediction: [0.9996, 0.0004, 0.0]\n",
      "Epoch 95 Training Loss: 0.0915 Training Accuracy: 0.9714 Val Loss: 0.0336 Val Accuracy: 1.0\n",
      "Example target: [0. 0. 1.]\n",
      "Example prediction: [0.0003, 0.2247, 0.7749]\n",
      "Epoch 96 Training Loss: 0.0818 Training Accuracy: 0.9905 Val Loss: 0.0341 Val Accuracy: 1.0\n",
      "Example target: [1. 0. 0.]\n",
      "Example prediction: [0.9996, 0.0004, 0.0]\n",
      "Epoch 97 Training Loss: 0.0853 Training Accuracy: 0.981 Val Loss: 0.0661 Val Accuracy: 1.0\n",
      "Example target: [0. 0. 1.]\n",
      "Example prediction: [0.0002, 0.0982, 0.9017]\n",
      "Epoch 98 Training Loss: 0.0955 Training Accuracy: 0.9714 Val Loss: 0.0187 Val Accuracy: 1.0\n",
      "Example target: [0. 0. 1.]\n",
      "Example prediction: [0.0, 0.0136, 0.9864]\n",
      "Epoch 99 Training Loss: 0.1208 Training Accuracy: 0.9429 Val Loss: 0.0183 Val Accuracy: 1.0\n",
      "\n",
      "Test Loss: 0.217 Test Accuracy: 0.9333\n",
      "Training iris_model_50_0.01 neural network on iris with SGD for 100 epochs...\n",
      "Optimizer:\n",
      "{'name': 'SGD', 'lr': 0.01, 'lr_scheduler': 'constant', 'lr_decay': None, 'stage_length': None, 'staircase': None, 'clip_norm': None, 'momentum': 0.05}\n"
     ]
    },
    {
     "data": {
      "application/vnd.jupyter.widget-view+json": {
       "model_id": "0ea780c1119d4fabac8c31f9fa28ab85",
       "version_major": 2,
       "version_minor": 0
      },
      "text/plain": [
       "HBox(children=(FloatProgress(value=0.0), HTML(value='')))"
      ]
     },
     "metadata": {},
     "output_type": "display_data"
    },
    {
     "name": "stdout",
     "output_type": "stream",
     "text": [
      "X (5, 4) Weights:  (4, 50) biases (1, 50)\n",
      "X (5, 50) Weights:  (50, 3) biases (1, 3)\n",
      "Example target: [0. 0. 1.]\n",
      "Example prediction: [0.0167, 0.2564, 0.727]\n",
      "Epoch 0 Training Loss: 0.6832 Training Accuracy: 0.7143 Val Loss: 0.4507 Val Accuracy: 0.8\n",
      "Example target: [1. 0. 0.]\n",
      "Example prediction: [0.814, 0.1367, 0.0493]\n",
      "Epoch 1 Training Loss: 0.581 Training Accuracy: 0.7333 Val Loss: 0.3977 Val Accuracy: 0.8\n",
      "Example target: [1. 0. 0.]\n",
      "Example prediction: [0.9621, 0.023, 0.0149]\n",
      "Epoch 2 Training Loss: 0.5187 Training Accuracy: 0.7714 Val Loss: 0.3523 Val Accuracy: 0.8\n",
      "Example target: [1. 0. 0.]\n",
      "Example prediction: [0.9187, 0.0643, 0.0169]\n",
      "Epoch 3 Training Loss: 0.5132 Training Accuracy: 0.7238 Val Loss: 0.2997 Val Accuracy: 1.0\n",
      "Example target: [0. 0. 1.]\n",
      "Example prediction: [0.0201, 0.2635, 0.7163]\n",
      "Epoch 4 Training Loss: 0.4313 Training Accuracy: 0.8 Val Loss: 0.2716 Val Accuracy: 1.0\n",
      "Example target: [0. 0. 1.]\n",
      "Example prediction: [0.0076, 0.3445, 0.648]\n",
      "Epoch 5 Training Loss: 0.4415 Training Accuracy: 0.7714 Val Loss: 0.2591 Val Accuracy: 1.0\n",
      "Example target: [1. 0. 0.]\n",
      "Example prediction: [0.8726, 0.1194, 0.008]\n",
      "Epoch 6 Training Loss: 0.4164 Training Accuracy: 0.781 Val Loss: 0.3997 Val Accuracy: 0.7333\n",
      "Example target: [0. 1. 0.]\n",
      "Example prediction: [0.0363, 0.8889, 0.0748]\n",
      "Epoch 7 Training Loss: 0.3597 Training Accuracy: 0.9143 Val Loss: 0.4217 Val Accuracy: 0.7333\n",
      "Example target: [0. 0. 1.]\n",
      "Example prediction: [0.0036, 0.1291, 0.8673]\n",
      "Epoch 8 Training Loss: 0.4779 Training Accuracy: 0.7619 Val Loss: 0.2375 Val Accuracy: 0.8\n",
      "Example target: [1. 0. 0.]\n",
      "Example prediction: [0.9784, 0.0209, 0.0007]\n",
      "Epoch 9 Training Loss: 0.3899 Training Accuracy: 0.8286 Val Loss: 0.2353 Val Accuracy: 1.0\n",
      "Example target: [1. 0. 0.]\n",
      "Example prediction: [0.9661, 0.0317, 0.0023]\n",
      "Epoch 10 Training Loss: 0.3332 Training Accuracy: 0.9048 Val Loss: 0.1959 Val Accuracy: 1.0\n",
      "Example target: [0. 0. 1.]\n",
      "Example prediction: [0.0022, 0.2426, 0.7552]\n",
      "Epoch 11 Training Loss: 0.3158 Training Accuracy: 0.8857 Val Loss: 0.1842 Val Accuracy: 1.0\n",
      "Example target: [0. 1. 0.]\n",
      "Example prediction: [0.0803, 0.7756, 0.144]\n",
      "Epoch 12 Training Loss: 0.3074 Training Accuracy: 0.8857 Val Loss: 0.2345 Val Accuracy: 0.9333\n",
      "Example target: [0. 0. 1.]\n",
      "Example prediction: [0.0009, 0.1965, 0.8025]\n",
      "Epoch 13 Training Loss: 0.3144 Training Accuracy: 0.8762 Val Loss: 0.1729 Val Accuracy: 1.0\n",
      "Example target: [1. 0. 0.]\n",
      "Example prediction: [0.9779, 0.0215, 0.0007]\n",
      "Epoch 14 Training Loss: 0.2824 Training Accuracy: 0.9238 Val Loss: 0.1648 Val Accuracy: 1.0\n",
      "Example target: [1. 0. 0.]\n",
      "Example prediction: [0.9015, 0.0968, 0.0017]\n",
      "Epoch 15 Training Loss: 0.3081 Training Accuracy: 0.8762 Val Loss: 0.1583 Val Accuracy: 1.0\n",
      "Example target: [0. 0. 1.]\n",
      "Example prediction: [0.0054, 0.3132, 0.6814]\n",
      "Epoch 16 Training Loss: 0.3205 Training Accuracy: 0.8476 Val Loss: 0.151 Val Accuracy: 1.0\n",
      "Example target: [0. 1. 0.]\n",
      "Example prediction: [0.0768, 0.6909, 0.2323]\n",
      "Epoch 17 Training Loss: 0.2887 Training Accuracy: 0.9048 Val Loss: 0.1394 Val Accuracy: 1.0\n",
      "Example target: [1. 0. 0.]\n",
      "Example prediction: [0.8664, 0.133, 0.0006]\n",
      "Epoch 18 Training Loss: 0.2678 Training Accuracy: 0.8952 Val Loss: 0.2723 Val Accuracy: 0.8\n",
      "Example target: [0. 1. 0.]\n",
      "Example prediction: [0.0585, 0.8471, 0.0945]\n",
      "Epoch 19 Training Loss: 0.2685 Training Accuracy: 0.8762 Val Loss: 0.2127 Val Accuracy: 0.9333\n",
      "Example target: [0. 0. 1.]\n",
      "Example prediction: [0.0013, 0.5343, 0.4644]\n",
      "Epoch 20 Training Loss: 0.2281 Training Accuracy: 0.9619 Val Loss: 0.2521 Val Accuracy: 0.8\n",
      "Example target: [0. 1. 0.]\n",
      "Example prediction: [0.0582, 0.8518, 0.09]\n",
      "Epoch 21 Training Loss: 0.2292 Training Accuracy: 0.9524 Val Loss: 0.179 Val Accuracy: 0.9333\n",
      "Example target: [1. 0. 0.]\n",
      "Example prediction: [0.9756, 0.0241, 0.0003]\n",
      "Epoch 22 Training Loss: 0.296 Training Accuracy: 0.8762 Val Loss: 0.168 Val Accuracy: 0.9333\n",
      "Example target: [1. 0. 0.]\n",
      "Example prediction: [0.9931, 0.0069, 0.0]\n",
      "Epoch 23 Training Loss: 0.2647 Training Accuracy: 0.9238 Val Loss: 0.2078 Val Accuracy: 0.9333\n",
      "Example target: [0. 0. 1.]\n",
      "Example prediction: [0.0008, 0.2237, 0.7755]\n",
      "Epoch 24 Training Loss: 0.2279 Training Accuracy: 0.8857 Val Loss: 0.1186 Val Accuracy: 1.0\n",
      "Example target: [1. 0. 0.]\n",
      "Example prediction: [0.9956, 0.0044, 0.0]\n",
      "Epoch 25 Training Loss: 0.2101 Training Accuracy: 0.9429 Val Loss: 0.1282 Val Accuracy: 1.0\n",
      "Example target: [1. 0. 0.]\n",
      "Example prediction: [0.9962, 0.0038, 0.0]\n",
      "Epoch 26 Training Loss: 0.2155 Training Accuracy: 0.9524 Val Loss: 0.0956 Val Accuracy: 1.0\n",
      "Example target: [1. 0. 0.]\n",
      "Example prediction: [0.9233, 0.0766, 0.0002]\n",
      "Epoch 27 Training Loss: 0.2095 Training Accuracy: 0.9619 Val Loss: 0.1107 Val Accuracy: 1.0\n",
      "Example target: [0. 1. 0.]\n",
      "Example prediction: [0.0528, 0.8668, 0.0804]\n",
      "Epoch 28 Training Loss: 0.2057 Training Accuracy: 0.9429 Val Loss: 0.1184 Val Accuracy: 1.0\n",
      "Example target: [1. 0. 0.]\n",
      "Example prediction: [0.9686, 0.0314, 0.0]\n",
      "Epoch 29 Training Loss: 0.2268 Training Accuracy: 0.9143 Val Loss: 0.1409 Val Accuracy: 1.0\n",
      "Example target: [0. 1. 0.]\n",
      "Example prediction: [0.045, 0.8919, 0.0631]\n",
      "Epoch 30 Training Loss: 0.22 Training Accuracy: 0.9429 Val Loss: 0.1247 Val Accuracy: 1.0\n",
      "Example target: [1. 0. 0.]\n",
      "Example prediction: [0.9745, 0.0255, 0.0]\n",
      "Epoch 31 Training Loss: 0.1755 Training Accuracy: 0.9619 Val Loss: 0.0964 Val Accuracy: 1.0\n",
      "Example target: [1. 0. 0.]\n",
      "Example prediction: [0.9969, 0.0031, 0.0]\n",
      "Epoch 32 Training Loss: 0.19 Training Accuracy: 0.9619 Val Loss: 0.1018 Val Accuracy: 1.0\n",
      "Example target: [1. 0. 0.]\n",
      "Example prediction: [0.9737, 0.0263, 0.0]\n",
      "Epoch 33 Training Loss: 0.187 Training Accuracy: 0.9429 Val Loss: 0.1187 Val Accuracy: 1.0\n",
      "Example target: [0. 0. 1.]\n",
      "Example prediction: [0.0002, 0.0985, 0.9013]\n",
      "Epoch 34 Training Loss: 0.1794 Training Accuracy: 0.9429 Val Loss: 0.0717 Val Accuracy: 1.0\n",
      "Example target: [0. 0. 1.]\n",
      "Example prediction: [0.0014, 0.2445, 0.7541]\n",
      "Epoch 35 Training Loss: 0.1697 Training Accuracy: 0.9524 Val Loss: 0.1168 Val Accuracy: 1.0\n",
      "Example target: [1. 0. 0.]\n",
      "Example prediction: [0.9975, 0.0025, 0.0]\n",
      "Epoch 36 Training Loss: 0.1796 Training Accuracy: 0.9429 Val Loss: 0.0907 Val Accuracy: 1.0\n",
      "Example target: [0. 0. 1.]\n",
      "Example prediction: [0.0001, 0.1524, 0.8475]\n",
      "Epoch 37 Training Loss: 0.1838 Training Accuracy: 0.9429 Val Loss: 0.1228 Val Accuracy: 1.0\n",
      "Example target: [1. 0. 0.]\n",
      "Example prediction: [0.9402, 0.0597, 0.0]\n",
      "Epoch 38 Training Loss: 0.1625 Training Accuracy: 0.9619 Val Loss: 0.0716 Val Accuracy: 1.0\n",
      "Example target: [1. 0. 0.]\n",
      "Example prediction: [0.9972, 0.0028, 0.0]\n",
      "Epoch 39 Training Loss: 0.1428 Training Accuracy: 0.981 Val Loss: 0.1661 Val Accuracy: 0.9333\n",
      "Example target: [0. 1. 0.]\n",
      "Example prediction: [0.0214, 0.8885, 0.09]\n",
      "Epoch 40 Training Loss: 0.1622 Training Accuracy: 0.9333 Val Loss: 0.0573 Val Accuracy: 1.0\n",
      "Example target: [0. 0. 1.]\n",
      "Example prediction: [0.0012, 0.2628, 0.7361]\n",
      "Epoch 41 Training Loss: 0.1666 Training Accuracy: 0.9619 Val Loss: 0.0684 Val Accuracy: 1.0\n",
      "Example target: [0. 0. 1.]\n",
      "Example prediction: [0.0, 0.0859, 0.9141]\n",
      "Epoch 42 Training Loss: 0.1554 Training Accuracy: 0.9714 Val Loss: 0.0852 Val Accuracy: 1.0\n",
      "Example target: [0. 1. 0.]\n",
      "Example prediction: [0.0159, 0.9546, 0.0296]\n",
      "Epoch 43 Training Loss: 0.149 Training Accuracy: 0.9714 Val Loss: 0.066 Val Accuracy: 1.0\n",
      "Example target: [1. 0. 0.]\n",
      "Example prediction: [0.9916, 0.0084, 0.0]\n",
      "Epoch 44 Training Loss: 0.1622 Training Accuracy: 0.9524 Val Loss: 0.061 Val Accuracy: 1.0\n",
      "Example target: [1. 0. 0.]\n",
      "Example prediction: [0.9981, 0.0019, 0.0]\n",
      "Epoch 45 Training Loss: 0.1456 Training Accuracy: 0.9429 Val Loss: 0.1376 Val Accuracy: 0.9333\n",
      "Example target: [0. 1. 0.]\n",
      "Example prediction: [0.0507, 0.8415, 0.1079]\n",
      "Epoch 46 Training Loss: 0.1546 Training Accuracy: 0.9524 Val Loss: 0.0478 Val Accuracy: 1.0\n",
      "Example target: [1. 0. 0.]\n",
      "Example prediction: [0.9811, 0.0189, 0.0]\n",
      "Epoch 47 Training Loss: 0.1634 Training Accuracy: 0.9333 Val Loss: 0.0683 Val Accuracy: 1.0\n",
      "Example target: [1. 0. 0.]\n",
      "Example prediction: [0.9986, 0.0014, 0.0]\n",
      "Epoch 48 Training Loss: 0.1408 Training Accuracy: 0.9619 Val Loss: 0.0447 Val Accuracy: 1.0\n",
      "Example target: [1. 0. 0.]\n",
      "Example prediction: [0.992, 0.008, 0.0]\n",
      "Epoch 49 Training Loss: 0.1775 Training Accuracy: 0.9238 Val Loss: 0.0765 Val Accuracy: 1.0\n"
     ]
    },
    {
     "name": "stdout",
     "output_type": "stream",
     "text": [
      "Example target: [0. 0. 1.]\n",
      "Example prediction: [0.0001, 0.1421, 0.8577]\n",
      "Epoch 50 Training Loss: 0.1384 Training Accuracy: 0.9619 Val Loss: 0.0692 Val Accuracy: 1.0\n",
      "Example target: [0. 0. 1.]\n",
      "Example prediction: [0.0005, 0.1338, 0.8657]\n",
      "Epoch 51 Training Loss: 0.1299 Training Accuracy: 0.9524 Val Loss: 0.0423 Val Accuracy: 1.0\n",
      "Example target: [0. 0. 1.]\n",
      "Example prediction: [0.0001, 0.0943, 0.9056]\n",
      "Epoch 52 Training Loss: 0.166 Training Accuracy: 0.9429 Val Loss: 0.0525 Val Accuracy: 1.0\n",
      "Example target: [1. 0. 0.]\n",
      "Example prediction: [0.9837, 0.0163, 0.0]\n",
      "Epoch 53 Training Loss: 0.1268 Training Accuracy: 0.9619 Val Loss: 0.0388 Val Accuracy: 1.0\n",
      "Example target: [0. 1. 0.]\n",
      "Example prediction: [0.0356, 0.9319, 0.0325]\n",
      "Epoch 54 Training Loss: 0.1226 Training Accuracy: 0.981 Val Loss: 0.0586 Val Accuracy: 1.0\n",
      "Example target: [1. 0. 0.]\n",
      "Example prediction: [0.9819, 0.0181, 0.0]\n",
      "Epoch 55 Training Loss: 0.1305 Training Accuracy: 0.9619 Val Loss: 0.1193 Val Accuracy: 0.9333\n",
      "Example target: [1. 0. 0.]\n",
      "Example prediction: [0.9987, 0.0013, 0.0]\n",
      "Epoch 56 Training Loss: 0.1372 Training Accuracy: 0.9429 Val Loss: 0.1058 Val Accuracy: 0.9333\n",
      "Example target: [1. 0. 0.]\n",
      "Example prediction: [0.9607, 0.0393, 0.0]\n",
      "Epoch 57 Training Loss: 0.1234 Training Accuracy: 0.9619 Val Loss: 0.0449 Val Accuracy: 1.0\n",
      "Example target: [1. 0. 0.]\n",
      "Example prediction: [0.9815, 0.0185, 0.0]\n",
      "Epoch 58 Training Loss: 0.1332 Training Accuracy: 0.9714 Val Loss: 0.1032 Val Accuracy: 0.9333\n",
      "Example target: [1. 0. 0.]\n",
      "Example prediction: [0.9875, 0.0125, 0.0]\n",
      "Epoch 59 Training Loss: 0.1194 Training Accuracy: 0.9619 Val Loss: 0.0832 Val Accuracy: 1.0\n",
      "Example target: [0. 0. 1.]\n",
      "Example prediction: [0.0006, 0.2469, 0.7525]\n",
      "Epoch 60 Training Loss: 0.1307 Training Accuracy: 0.9524 Val Loss: 0.0489 Val Accuracy: 1.0\n",
      "Example target: [1. 0. 0.]\n",
      "Example prediction: [0.9836, 0.0164, 0.0]\n",
      "Epoch 61 Training Loss: 0.1177 Training Accuracy: 0.981 Val Loss: 0.052 Val Accuracy: 1.0\n",
      "Example target: [0. 0. 1.]\n",
      "Example prediction: [0.0, 0.0614, 0.9386]\n",
      "Epoch 62 Training Loss: 0.1336 Training Accuracy: 0.9714 Val Loss: 0.0385 Val Accuracy: 1.0\n",
      "Example target: [0. 0. 1.]\n",
      "Example prediction: [0.0003, 0.1235, 0.8762]\n",
      "Epoch 63 Training Loss: 0.1273 Training Accuracy: 0.9714 Val Loss: 0.0324 Val Accuracy: 1.0\n",
      "Example target: [0. 0. 1.]\n",
      "Example prediction: [0.0004, 0.2497, 0.7498]\n",
      "Epoch 64 Training Loss: 0.1105 Training Accuracy: 0.9714 Val Loss: 0.108 Val Accuracy: 0.9333\n",
      "Example target: [1. 0. 0.]\n",
      "Example prediction: [0.9896, 0.0104, 0.0]\n",
      "Epoch 65 Training Loss: 0.1154 Training Accuracy: 0.9714 Val Loss: 0.049 Val Accuracy: 1.0\n",
      "Example target: [1. 0. 0.]\n",
      "Example prediction: [0.9992, 0.0008, 0.0]\n",
      "Epoch 66 Training Loss: 0.112 Training Accuracy: 0.9714 Val Loss: 0.0557 Val Accuracy: 1.0\n",
      "Example target: [0. 1. 0.]\n",
      "Example prediction: [0.0072, 0.9881, 0.0047]\n",
      "Epoch 67 Training Loss: 0.1194 Training Accuracy: 0.9714 Val Loss: 0.0769 Val Accuracy: 1.0\n",
      "Example target: [1. 0. 0.]\n",
      "Example prediction: [0.9989, 0.0011, 0.0]\n",
      "Epoch 68 Training Loss: 0.1285 Training Accuracy: 0.9619 Val Loss: 0.0937 Val Accuracy: 1.0\n",
      "Example target: [1. 0. 0.]\n",
      "Example prediction: [0.999, 0.001, 0.0]\n",
      "Epoch 69 Training Loss: 0.1081 Training Accuracy: 0.9619 Val Loss: 0.0611 Val Accuracy: 1.0\n",
      "Example target: [0. 0. 1.]\n",
      "Example prediction: [0.0006, 0.3876, 0.6117]\n",
      "Epoch 70 Training Loss: 0.1385 Training Accuracy: 0.9429 Val Loss: 0.0678 Val Accuracy: 1.0\n",
      "Example target: [1. 0. 0.]\n",
      "Example prediction: [0.9957, 0.0043, 0.0]\n",
      "Epoch 71 Training Loss: 0.1098 Training Accuracy: 0.981 Val Loss: 0.0508 Val Accuracy: 1.0\n",
      "Example target: [1. 0. 0.]\n",
      "Example prediction: [0.9871, 0.0129, 0.0]\n",
      "Epoch 72 Training Loss: 0.1028 Training Accuracy: 0.9714 Val Loss: 0.0463 Val Accuracy: 1.0\n",
      "Example target: [1. 0. 0.]\n",
      "Example prediction: [0.97, 0.03, 0.0]\n",
      "Epoch 73 Training Loss: 0.1075 Training Accuracy: 0.9619 Val Loss: 0.0291 Val Accuracy: 1.0\n",
      "Example target: [0. 1. 0.]\n",
      "Example prediction: [0.0101, 0.9588, 0.031]\n",
      "Epoch 74 Training Loss: 0.1065 Training Accuracy: 0.9714 Val Loss: 0.0237 Val Accuracy: 1.0\n",
      "Example target: [1. 0. 0.]\n",
      "Example prediction: [0.9994, 0.0006, 0.0]\n",
      "Epoch 75 Training Loss: 0.1281 Training Accuracy: 0.9333 Val Loss: 0.03 Val Accuracy: 1.0\n",
      "Example target: [1. 0. 0.]\n",
      "Example prediction: [0.9958, 0.0042, 0.0]\n",
      "Epoch 76 Training Loss: 0.1143 Training Accuracy: 0.9619 Val Loss: 0.0897 Val Accuracy: 1.0\n",
      "Example target: [0. 1. 0.]\n",
      "Example prediction: [0.0068, 0.9858, 0.0073]\n",
      "Epoch 77 Training Loss: 0.1101 Training Accuracy: 0.9619 Val Loss: 0.0348 Val Accuracy: 1.0\n",
      "Example target: [0. 0. 1.]\n",
      "Example prediction: [0.0, 0.0461, 0.9539]\n",
      "Epoch 78 Training Loss: 0.1393 Training Accuracy: 0.9524 Val Loss: 0.0642 Val Accuracy: 1.0\n",
      "Example target: [0. 0. 1.]\n",
      "Example prediction: [0.0004, 0.243, 0.7567]\n",
      "Epoch 79 Training Loss: 0.1273 Training Accuracy: 0.9619 Val Loss: 0.0399 Val Accuracy: 1.0\n",
      "Example target: [1. 0. 0.]\n",
      "Example prediction: [0.9924, 0.0076, 0.0]\n",
      "Epoch 80 Training Loss: 0.097 Training Accuracy: 0.981 Val Loss: 0.0276 Val Accuracy: 1.0\n",
      "Example target: [1. 0. 0.]\n",
      "Example prediction: [0.9893, 0.0107, 0.0]\n",
      "Epoch 81 Training Loss: 0.0988 Training Accuracy: 0.981 Val Loss: 0.0688 Val Accuracy: 1.0\n",
      "Example target: [1. 0. 0.]\n",
      "Example prediction: [0.992, 0.008, 0.0]\n",
      "Epoch 82 Training Loss: 0.1049 Training Accuracy: 0.9524 Val Loss: 0.0627 Val Accuracy: 1.0\n",
      "Example target: [0. 1. 0.]\n",
      "Example prediction: [0.0046, 0.9941, 0.0012]\n",
      "Epoch 83 Training Loss: 0.0869 Training Accuracy: 0.981 Val Loss: 0.1222 Val Accuracy: 0.9333\n",
      "Example target: [1. 0. 0.]\n",
      "Example prediction: [0.9713, 0.0287, 0.0]\n",
      "Epoch 84 Training Loss: 0.1069 Training Accuracy: 0.9429 Val Loss: 0.0541 Val Accuracy: 1.0\n",
      "Example target: [1. 0. 0.]\n",
      "Example prediction: [0.997, 0.003, 0.0]\n",
      "Epoch 85 Training Loss: 0.1109 Training Accuracy: 0.9619 Val Loss: 0.0206 Val Accuracy: 1.0\n",
      "Example target: [1. 0. 0.]\n",
      "Example prediction: [0.991, 0.009, 0.0]\n",
      "Epoch 86 Training Loss: 0.0978 Training Accuracy: 0.9524 Val Loss: 0.029 Val Accuracy: 1.0\n",
      "Example target: [0. 1. 0.]\n",
      "Example prediction: [0.0245, 0.956, 0.0195]\n",
      "Epoch 87 Training Loss: 0.106 Training Accuracy: 0.9619 Val Loss: 0.0222 Val Accuracy: 1.0\n",
      "Example target: [1. 0. 0.]\n",
      "Example prediction: [0.9995, 0.0005, 0.0]\n",
      "Epoch 88 Training Loss: 0.0967 Training Accuracy: 0.981 Val Loss: 0.0509 Val Accuracy: 1.0\n",
      "Example target: [1. 0. 0.]\n",
      "Example prediction: [0.9933, 0.0067, 0.0]\n",
      "Epoch 89 Training Loss: 0.1159 Training Accuracy: 0.9524 Val Loss: 0.0429 Val Accuracy: 1.0\n",
      "Example target: [1. 0. 0.]\n",
      "Example prediction: [0.9739, 0.0261, 0.0]\n",
      "Epoch 90 Training Loss: 0.1173 Training Accuracy: 0.9524 Val Loss: 0.0444 Val Accuracy: 1.0\n",
      "Example target: [0. 0. 1.]\n",
      "Example prediction: [0.0, 0.038, 0.962]\n",
      "Epoch 91 Training Loss: 0.0889 Training Accuracy: 0.9714 Val Loss: 0.0593 Val Accuracy: 1.0\n",
      "Example target: [1. 0. 0.]\n",
      "Example prediction: [0.9995, 0.0005, 0.0]\n",
      "Epoch 92 Training Loss: 0.0977 Training Accuracy: 0.9714 Val Loss: 0.042 Val Accuracy: 1.0\n",
      "Example target: [0. 0. 1.]\n",
      "Example prediction: [0.0002, 0.1561, 0.8437]\n",
      "Epoch 93 Training Loss: 0.0986 Training Accuracy: 0.9619 Val Loss: 0.0752 Val Accuracy: 1.0\n",
      "Example target: [1. 0. 0.]\n",
      "Example prediction: [0.9995, 0.0005, 0.0]\n",
      "Epoch 94 Training Loss: 0.0993 Training Accuracy: 0.9619 Val Loss: 0.0425 Val Accuracy: 1.0\n",
      "Example target: [0. 0. 1.]\n",
      "Example prediction: [0.0001, 0.0435, 0.9564]\n",
      "Epoch 95 Training Loss: 0.1027 Training Accuracy: 0.9714 Val Loss: 0.0298 Val Accuracy: 1.0\n",
      "Example target: [0. 0. 1.]\n",
      "Example prediction: [0.0, 0.0802, 0.9197]\n",
      "Epoch 96 Training Loss: 0.1008 Training Accuracy: 0.9619 Val Loss: 0.0433 Val Accuracy: 1.0\n",
      "Example target: [1. 0. 0.]\n",
      "Example prediction: [0.9766, 0.0234, 0.0]\n",
      "Epoch 97 Training Loss: 0.0946 Training Accuracy: 0.9714 Val Loss: 0.0288 Val Accuracy: 1.0\n",
      "Example target: [0. 1. 0.]\n",
      "Example prediction: [0.0167, 0.973, 0.0103]\n",
      "Epoch 98 Training Loss: 0.0882 Training Accuracy: 0.981 Val Loss: 0.0248 Val Accuracy: 1.0\n",
      "Example target: [1. 0. 0.]\n",
      "Example prediction: [0.9944, 0.0056, 0.0]\n",
      "Epoch 99 Training Loss: 0.1015 Training Accuracy: 0.9619 Val Loss: 0.034 Val Accuracy: 1.0\n",
      "\n",
      "Test Loss: 0.1566 Test Accuracy: 0.9333\n"
     ]
    }
   ],
   "source": [
    "combs = pd.DataFrame()\n",
    "combs[\"learning_rate\"] = [0.1, 0.1, 0.01, 0.01]\n",
    "combs[\"hidden_layer_size\"] = [7, 14, 7, 14]\n",
    "results = []\n",
    "\n",
    "for lr in [0.1, 0.01]:\n",
    "    for hl in [25, 50]:\n",
    "        results.append(train_iris(hl, lr))"
   ]
  },
  {
   "cell_type": "code",
   "execution_count": 21,
   "metadata": {},
   "outputs": [
    {
     "data": {
      "text/html": [
       "<div>\n",
       "<style scoped>\n",
       "    .dataframe tbody tr th:only-of-type {\n",
       "        vertical-align: middle;\n",
       "    }\n",
       "\n",
       "    .dataframe tbody tr th {\n",
       "        vertical-align: top;\n",
       "    }\n",
       "\n",
       "    .dataframe thead th {\n",
       "        text-align: right;\n",
       "    }\n",
       "</style>\n",
       "<table border=\"1\" class=\"dataframe\">\n",
       "  <thead>\n",
       "    <tr style=\"text-align: right;\">\n",
       "      <th></th>\n",
       "      <th>learning_rate</th>\n",
       "      <th>hidden_layer_size</th>\n",
       "      <th>training error</th>\n",
       "      <th>val_error</th>\n",
       "      <th>test_error</th>\n",
       "    </tr>\n",
       "  </thead>\n",
       "  <tbody>\n",
       "    <tr>\n",
       "      <th>0</th>\n",
       "      <td>0.10</td>\n",
       "      <td>7</td>\n",
       "      <td>0.114286</td>\n",
       "      <td>0.0</td>\n",
       "      <td>0.066667</td>\n",
       "    </tr>\n",
       "    <tr>\n",
       "      <th>1</th>\n",
       "      <td>0.10</td>\n",
       "      <td>14</td>\n",
       "      <td>0.057143</td>\n",
       "      <td>0.0</td>\n",
       "      <td>0.033333</td>\n",
       "    </tr>\n",
       "    <tr>\n",
       "      <th>2</th>\n",
       "      <td>0.01</td>\n",
       "      <td>7</td>\n",
       "      <td>0.057143</td>\n",
       "      <td>0.0</td>\n",
       "      <td>0.066667</td>\n",
       "    </tr>\n",
       "    <tr>\n",
       "      <th>3</th>\n",
       "      <td>0.01</td>\n",
       "      <td>14</td>\n",
       "      <td>0.038095</td>\n",
       "      <td>0.0</td>\n",
       "      <td>0.066667</td>\n",
       "    </tr>\n",
       "  </tbody>\n",
       "</table>\n",
       "</div>"
      ],
      "text/plain": [
       "   learning_rate  hidden_layer_size  training error  val_error  test_error\n",
       "0           0.10                  7        0.114286        0.0    0.066667\n",
       "1           0.10                 14        0.057143        0.0    0.033333\n",
       "2           0.01                  7        0.057143        0.0    0.066667\n",
       "3           0.01                 14        0.038095        0.0    0.066667"
      ]
     },
     "execution_count": 21,
     "metadata": {},
     "output_type": "execute_result"
    }
   ],
   "source": [
    "\n",
    "combs[\"training error\"] = [r[\"train_error\"] for r in results]\n",
    "combs[\"val_error\"] = [r[\"val_error\"] for r in results]\n",
    "combs[\"test_error\"] = [r[\"test_error\"] for r in results]\n",
    "combs"
   ]
  },
  {
   "cell_type": "code",
   "execution_count": 22,
   "metadata": {},
   "outputs": [
    {
     "data": {
      "image/png": "[encoded data removed]",
      "text/plain": [
       "<IPython.core.display.Image object>"
      ]
     },
     "execution_count": 22,
     "metadata": {},
     "output_type": "execute_result"
    }
   ],
   "source": [
    "from IPython.display import Image\n",
    "Image(\"experiments/iris_model_14_0.01/loss.png\")"
   ]
  },
  {
   "cell_type": "code",
   "execution_count": 23,
   "metadata": {},
   "outputs": [
    {
     "data": {
      "image/png": "[encoded data removed]",
      "text/plain": [
       "<IPython.core.display.Image object>"
      ]
     },
     "execution_count": 23,
     "metadata": {},
     "output_type": "execute_result"
    }
   ],
   "source": [
    "Image(\"experiments/iris_model_14_0.1//loss.png\")"
   ]
  },
  {
   "cell_type": "code",
   "execution_count": 24,
   "metadata": {},
   "outputs": [
    {
     "data": {
      "image/png": "[encoded data removed]",
      "text/plain": [
       "<IPython.core.display.Image object>"
      ]
     },
     "execution_count": 24,
     "metadata": {},
     "output_type": "execute_result"
    }
   ],
   "source": [
    "Image(\"experiments/iris_model_7_0.01/loss.png\")"
   ]
  },
  {
   "cell_type": "code",
   "execution_count": 25,
   "metadata": {},
   "outputs": [
    {
     "data": {
      "image/png": "[encoded data removed]",
      "text/plain": [
       "<IPython.core.display.Image object>"
      ]
     },
     "execution_count": 25,
     "metadata": {},
     "output_type": "execute_result"
    }
   ],
   "source": [
    "\n",
    "Image(\"experiments/iris_model_7_0.1/loss.png\")"
   ]
  },
  {
   "cell_type": "markdown",
   "metadata": {},
   "source": [
    "Final Test Error: 0.033"
   ]
  },
  {
   "cell_type": "markdown",
   "metadata": {},
   "source": [
    "# 3.3"
   ]
  },
  {
   "cell_type": "code",
   "execution_count": 19,
   "metadata": {
    "scrolled": true
   },
   "outputs": [
    {
     "name": "stderr",
     "output_type": "stream",
     "text": [
      "  0%|                                                                                                                                                                                           | 1/20000 [00:00<37:54,  8.79it/s]"
     ]
    },
    {
     "name": "stdout",
     "output_type": "stream",
     "text": [
      "Training higgs_model neural network on higgs with SGD for 200 epochs...\n",
      "Optimizer:\n",
      "{'name': 'SGD', 'lr': 0.05, 'lr_scheduler': 'exponential', 'lr_decay': 0.8, 'stage_length': 5, 'staircase': 1, 'clip_norm': 1.0, 'momentum': 0.9}\n",
      "X (25, 28) Weights:  (28, 50) biases (1, 50)\n",
      "X (25, 50) Weights:  (50, 30) biases (1, 30)\n",
      "X (25, 30) Weights:  (30, 15) biases (1, 15)\n",
      "X (25, 15) Weights:  (15, 10) biases (1, 10)\n",
      "X (25, 10) Weights:  (10, 2) biases (1, 2)\n"
     ]
    },
    {
     "name": "stderr",
     "output_type": "stream",
     "text": [
      "100%|█████████████████████████████████████████████████████████████████████████████████████████████████████████████████████████████████████████████████████████████████████████████████████| 20000/20000 [00:14<00:00, 1424.96it/s]\n",
      "  0%|                                                                                                                                                                                           | 1/20000 [00:00<35:34,  9.37it/s]"
     ]
    },
    {
     "name": "stdout",
     "output_type": "stream",
     "text": [
      "Example target: [1. 0.]\n",
      "Example prediction: [0.444, 0.556]\n",
      "Epoch 0 Training Loss: 0.644 Training Accuracy: 0.6218 Val Loss: 0.6179 Val Accuracy: 0.6527\n"
     ]
    },
    {
     "name": "stderr",
     "output_type": "stream",
     "text": [
      "100%|█████████████████████████████████████████████████████████████████████████████████████████████████████████████████████████████████████████████████████████████████████████████████████| 20000/20000 [00:14<00:00, 1408.64it/s]\n",
      "  0%|                                                                                                                                                                                           | 1/20000 [00:00<37:53,  8.80it/s]"
     ]
    },
    {
     "name": "stdout",
     "output_type": "stream",
     "text": [
      "Example target: [0. 1.]\n",
      "Example prediction: [0.4771, 0.5229]\n",
      "Epoch 1 Training Loss: 0.613 Training Accuracy: 0.6689 Val Loss: 0.6223 Val Accuracy: 0.6631\n"
     ]
    },
    {
     "name": "stderr",
     "output_type": "stream",
     "text": [
      "100%|█████████████████████████████████████████████████████████████████████████████████████████████████████████████████████████████████████████████████████████████████████████████████████| 20000/20000 [00:14<00:00, 1420.62it/s]\n",
      "  0%|                                                                                                                                                                                           | 1/20000 [00:00<36:34,  9.11it/s]"
     ]
    },
    {
     "name": "stdout",
     "output_type": "stream",
     "text": [
      "Example target: [1. 0.]\n",
      "Example prediction: [0.5761, 0.4239]\n",
      "Epoch 2 Training Loss: 0.6034 Training Accuracy: 0.677 Val Loss: 0.6086 Val Accuracy: 0.6779\n"
     ]
    },
    {
     "name": "stderr",
     "output_type": "stream",
     "text": [
      "100%|█████████████████████████████████████████████████████████████████████████████████████████████████████████████████████████████████████████████████████████████████████████████████████| 20000/20000 [00:14<00:00, 1395.22it/s]\n",
      "  0%|                                                                                                                                                                                           | 1/20000 [00:00<37:14,  8.95it/s]"
     ]
    },
    {
     "name": "stdout",
     "output_type": "stream",
     "text": [
      "Example target: [1. 0.]\n",
      "Example prediction: [0.6444, 0.3556]\n",
      "Epoch 3 Training Loss: 0.5968 Training Accuracy: 0.6831 Val Loss: 0.6114 Val Accuracy: 0.6683\n"
     ]
    },
    {
     "name": "stderr",
     "output_type": "stream",
     "text": [
      "100%|█████████████████████████████████████████████████████████████████████████████████████████████████████████████████████████████████████████████████████████████████████████████████████| 20000/20000 [00:14<00:00, 1402.73it/s]\n",
      "  0%|                                                                                                                                                                                           | 1/20000 [00:00<35:33,  9.37it/s]"
     ]
    },
    {
     "name": "stdout",
     "output_type": "stream",
     "text": [
      "Example target: [1. 0.]\n",
      "Example prediction: [0.592, 0.408]\n",
      "Epoch 4 Training Loss: 0.5937 Training Accuracy: 0.685 Val Loss: 0.5843 Val Accuracy: 0.6856\n"
     ]
    },
    {
     "name": "stderr",
     "output_type": "stream",
     "text": [
      "100%|█████████████████████████████████████████████████████████████████████████████████████████████████████████████████████████████████████████████████████████████████████████████████████| 20000/20000 [00:14<00:00, 1394.44it/s]\n",
      "  0%|                                                                                                                                                                                           | 1/20000 [00:00<34:34,  9.64it/s]"
     ]
    },
    {
     "name": "stdout",
     "output_type": "stream",
     "text": [
      "Example target: [0. 1.]\n",
      "Example prediction: [0.5311, 0.4689]\n",
      "Epoch 5 Training Loss: 0.5884 Training Accuracy: 0.6894 Val Loss: 0.5916 Val Accuracy: 0.6702\n"
     ]
    },
    {
     "name": "stderr",
     "output_type": "stream",
     "text": [
      "100%|█████████████████████████████████████████████████████████████████████████████████████████████████████████████████████████████████████████████████████████████████████████████████████| 20000/20000 [00:14<00:00, 1394.64it/s]\n",
      "  0%|                                                                                                                                                                                           | 1/20000 [00:00<36:13,  9.20it/s]"
     ]
    },
    {
     "name": "stdout",
     "output_type": "stream",
     "text": [
      "Example target: [1. 0.]\n",
      "Example prediction: [0.6107, 0.3893]\n",
      "Epoch 6 Training Loss: 0.5849 Training Accuracy: 0.6924 Val Loss: 0.5798 Val Accuracy: 0.6936\n"
     ]
    },
    {
     "name": "stderr",
     "output_type": "stream",
     "text": [
      "100%|█████████████████████████████████████████████████████████████████████████████████████████████████████████████████████████████████████████████████████████████████████████████████████| 20000/20000 [00:14<00:00, 1391.63it/s]\n",
      "  0%|                                                                                                                                                                                           | 1/20000 [00:00<38:13,  8.72it/s]"
     ]
    },
    {
     "name": "stdout",
     "output_type": "stream",
     "text": [
      "Example target: [0. 1.]\n",
      "Example prediction: [0.4567, 0.5433]\n",
      "Epoch 7 Training Loss: 0.5828 Training Accuracy: 0.6942 Val Loss: 0.5933 Val Accuracy: 0.6819\n"
     ]
    },
    {
     "name": "stderr",
     "output_type": "stream",
     "text": [
      "100%|█████████████████████████████████████████████████████████████████████████████████████████████████████████████████████████████████████████████████████████████████████████████████████| 20000/20000 [00:14<00:00, 1394.93it/s]\n",
      "  0%|                                                                                                                                                                                           | 1/20000 [00:00<36:14,  9.20it/s]"
     ]
    },
    {
     "name": "stdout",
     "output_type": "stream",
     "text": [
      "Example target: [1. 0.]\n",
      "Example prediction: [0.5799, 0.4201]\n",
      "Epoch 8 Training Loss: 0.5796 Training Accuracy: 0.6968 Val Loss: 0.5731 Val Accuracy: 0.7005\n"
     ]
    },
    {
     "name": "stderr",
     "output_type": "stream",
     "text": [
      "100%|█████████████████████████████████████████████████████████████████████████████████████████████████████████████████████████████████████████████████████████████████████████████████████| 20000/20000 [00:14<00:00, 1393.96it/s]\n",
      "  0%|                                                                                                                                                                                           | 1/20000 [00:00<35:54,  9.28it/s]"
     ]
    },
    {
     "name": "stdout",
     "output_type": "stream",
     "text": [
      "Example target: [1. 0.]\n",
      "Example prediction: [0.3576, 0.6424]\n",
      "Epoch 9 Training Loss: 0.5776 Training Accuracy: 0.698 Val Loss: 0.5796 Val Accuracy: 0.6966\n"
     ]
    },
    {
     "name": "stderr",
     "output_type": "stream",
     "text": [
      "100%|█████████████████████████████████████████████████████████████████████████████████████████████████████████████████████████████████████████████████████████████████████████████████████| 20000/20000 [00:14<00:00, 1387.11it/s]\n",
      "  0%|                                                                                                                                                                                           | 1/20000 [00:00<36:34,  9.11it/s]"
     ]
    },
    {
     "name": "stdout",
     "output_type": "stream",
     "text": [
      "Example target: [0. 1.]\n",
      "Example prediction: [0.3791, 0.6209]\n",
      "Epoch 10 Training Loss: 0.5738 Training Accuracy: 0.7003 Val Loss: 0.5931 Val Accuracy: 0.6896\n"
     ]
    },
    {
     "name": "stderr",
     "output_type": "stream",
     "text": [
      "100%|█████████████████████████████████████████████████████████████████████████████████████████████████████████████████████████████████████████████████████████████████████████████████████| 20000/20000 [00:14<00:00, 1399.01it/s]\n",
      "  0%|                                                                                                                                                                                           | 1/20000 [00:00<36:34,  9.11it/s]"
     ]
    },
    {
     "name": "stdout",
     "output_type": "stream",
     "text": [
      "Example target: [0. 1.]\n",
      "Example prediction: [0.0846, 0.9154]\n",
      "Epoch 11 Training Loss: 0.5718 Training Accuracy: 0.7025 Val Loss: 0.566 Val Accuracy: 0.7102\n"
     ]
    },
    {
     "name": "stderr",
     "output_type": "stream",
     "text": [
      "100%|█████████████████████████████████████████████████████████████████████████████████████████████████████████████████████████████████████████████████████████████████████████████████████| 20000/20000 [00:14<00:00, 1391.73it/s]\n",
      "  0%|                                                                                                                                                                                           | 1/20000 [00:00<36:14,  9.20it/s]"
     ]
    },
    {
     "name": "stdout",
     "output_type": "stream",
     "text": [
      "Example target: [0. 1.]\n",
      "Example prediction: [0.4759, 0.5241]\n",
      "Epoch 12 Training Loss: 0.5706 Training Accuracy: 0.7038 Val Loss: 0.5784 Val Accuracy: 0.6859\n"
     ]
    },
    {
     "name": "stderr",
     "output_type": "stream",
     "text": [
      "100%|█████████████████████████████████████████████████████████████████████████████████████████████████████████████████████████████████████████████████████████████████████████████████████| 20000/20000 [00:14<00:00, 1396.39it/s]\n",
      "  1%|█▎                                                                                                                                                                                       | 144/20000 [00:00<24:19, 13.60it/s]"
     ]
    },
    {
     "name": "stdout",
     "output_type": "stream",
     "text": [
      "Example target: [0. 1.]\n",
      "Example prediction: [0.3951, 0.6049]\n",
      "Epoch 13 Training Loss: 0.568 Training Accuracy: 0.7069 Val Loss: 0.5786 Val Accuracy: 0.6967\n"
     ]
    },
    {
     "name": "stderr",
     "output_type": "stream",
     "text": [
      "100%|█████████████████████████████████████████████████████████████████████████████████████████████████████████████████████████████████████████████████████████████████████████████████████| 20000/20000 [00:14<00:00, 1396.58it/s]\n",
      "  0%|                                                                                                                                                                                           | 1/20000 [00:00<35:34,  9.37it/s]"
     ]
    },
    {
     "name": "stdout",
     "output_type": "stream",
     "text": [
      "Example target: [0. 1.]\n",
      "Example prediction: [0.2982, 0.7018]\n",
      "Epoch 14 Training Loss: 0.5667 Training Accuracy: 0.7068 Val Loss: 0.5616 Val Accuracy: 0.7073\n"
     ]
    },
    {
     "name": "stderr",
     "output_type": "stream",
     "text": [
      "100%|█████████████████████████████████████████████████████████████████████████████████████████████████████████████████████████████████████████████████████████████████████████████████████| 20000/20000 [00:14<00:00, 1399.89it/s]\n",
      "  0%|                                                                                                                                                                                           | 1/20000 [00:00<36:53,  9.03it/s]"
     ]
    },
    {
     "name": "stdout",
     "output_type": "stream",
     "text": [
      "Example target: [1. 0.]\n",
      "Example prediction: [0.8129, 0.1871]\n",
      "Epoch 15 Training Loss: 0.5647 Training Accuracy: 0.7084 Val Loss: 0.5627 Val Accuracy: 0.7081\n"
     ]
    },
    {
     "name": "stderr",
     "output_type": "stream",
     "text": [
      "100%|█████████████████████████████████████████████████████████████████████████████████████████████████████████████████████████████████████████████████████████████████████████████████████| 20000/20000 [00:14<00:00, 1402.34it/s]\n",
      "  0%|                                                                                                                                                                                           | 1/20000 [00:00<36:53,  9.04it/s]"
     ]
    },
    {
     "name": "stdout",
     "output_type": "stream",
     "text": [
      "Example target: [1. 0.]\n",
      "Example prediction: [0.5765, 0.4235]\n",
      "Epoch 16 Training Loss: 0.563 Training Accuracy: 0.71 Val Loss: 0.5616 Val Accuracy: 0.7115\n"
     ]
    },
    {
     "name": "stderr",
     "output_type": "stream",
     "text": [
      "100%|█████████████████████████████████████████████████████████████████████████████████████████████████████████████████████████████████████████████████████████████████████████████████████| 20000/20000 [00:14<00:00, 1396.00it/s]\n",
      "  0%|                                                                                                                                                                                           | 1/20000 [00:00<37:13,  8.95it/s]"
     ]
    },
    {
     "name": "stdout",
     "output_type": "stream",
     "text": [
      "Example target: [1. 0.]\n",
      "Example prediction: [0.402, 0.598]\n",
      "Epoch 17 Training Loss: 0.5615 Training Accuracy: 0.7107 Val Loss: 0.5569 Val Accuracy: 0.7108\n"
     ]
    },
    {
     "name": "stderr",
     "output_type": "stream",
     "text": [
      "100%|█████████████████████████████████████████████████████████████████████████████████████████████████████████████████████████████████████████████████████████████████████████████████████| 20000/20000 [00:14<00:00, 1390.19it/s]\n",
      "  0%|                                                                                                                                                                                           | 1/20000 [00:00<38:13,  8.72it/s]"
     ]
    },
    {
     "name": "stdout",
     "output_type": "stream",
     "text": [
      "Example target: [0. 1.]\n",
      "Example prediction: [0.3323, 0.6677]\n",
      "Epoch 18 Training Loss: 0.5607 Training Accuracy: 0.711 Val Loss: 0.5558 Val Accuracy: 0.7117\n"
     ]
    },
    {
     "name": "stderr",
     "output_type": "stream",
     "text": [
      "100%|█████████████████████████████████████████████████████████████████████████████████████████████████████████████████████████████████████████████████████████████████████████████████████| 20000/20000 [00:14<00:00, 1397.16it/s]\n",
      "  0%|                                                                                                                                                                                           | 1/20000 [00:00<37:13,  8.95it/s]"
     ]
    },
    {
     "name": "stdout",
     "output_type": "stream",
     "text": [
      "Example target: [0. 1.]\n",
      "Example prediction: [0.0939, 0.9061]\n",
      "Epoch 19 Training Loss: 0.5578 Training Accuracy: 0.7128 Val Loss: 0.5637 Val Accuracy: 0.7008\n"
     ]
    },
    {
     "name": "stderr",
     "output_type": "stream",
     "text": [
      "100%|█████████████████████████████████████████████████████████████████████████████████████████████████████████████████████████████████████████████████████████████████████████████████████| 20000/20000 [00:14<00:00, 1408.35it/s]\n",
      "  0%|                                                                                                                                                                                           | 1/20000 [00:00<36:34,  9.12it/s]"
     ]
    },
    {
     "name": "stdout",
     "output_type": "stream",
     "text": [
      "Example target: [1. 0.]\n",
      "Example prediction: [0.7674, 0.2326]\n",
      "Epoch 20 Training Loss: 0.5558 Training Accuracy: 0.7149 Val Loss: 0.5565 Val Accuracy: 0.714\n"
     ]
    },
    {
     "name": "stderr",
     "output_type": "stream",
     "text": [
      "100%|█████████████████████████████████████████████████████████████████████████████████████████████████████████████████████████████████████████████████████████████████████████████████████| 20000/20000 [00:14<00:00, 1394.25it/s]\n",
      "  0%|                                                                                                                                                                                           | 1/20000 [00:00<36:34,  9.12it/s]"
     ]
    },
    {
     "name": "stdout",
     "output_type": "stream",
     "text": [
      "Example target: [1. 0.]\n",
      "Example prediction: [0.6393, 0.3607]\n",
      "Epoch 21 Training Loss: 0.5549 Training Accuracy: 0.7142 Val Loss: 0.5541 Val Accuracy: 0.7144\n"
     ]
    },
    {
     "name": "stderr",
     "output_type": "stream",
     "text": [
      "100%|█████████████████████████████████████████████████████████████████████████████████████████████████████████████████████████████████████████████████████████████████████████████████████| 20000/20000 [00:14<00:00, 1399.31it/s]\n",
      "  0%|                                                                                                                                                                                           | 1/20000 [00:00<36:14,  9.20it/s]"
     ]
    },
    {
     "name": "stdout",
     "output_type": "stream",
     "text": [
      "Example target: [1. 0.]\n",
      "Example prediction: [0.2005, 0.7995]\n",
      "Epoch 22 Training Loss: 0.5526 Training Accuracy: 0.7167 Val Loss: 0.5552 Val Accuracy: 0.7179\n"
     ]
    },
    {
     "name": "stderr",
     "output_type": "stream",
     "text": [
      "100%|█████████████████████████████████████████████████████████████████████████████████████████████████████████████████████████████████████████████████████████████████████████████████████| 20000/20000 [00:14<00:00, 1404.79it/s]\n",
      "  0%|                                                                                                                                                                                           | 1/20000 [00:00<35:14,  9.46it/s]"
     ]
    },
    {
     "name": "stdout",
     "output_type": "stream",
     "text": [
      "Example target: [1. 0.]\n",
      "Example prediction: [0.35, 0.65]\n",
      "Epoch 23 Training Loss: 0.5503 Training Accuracy: 0.7186 Val Loss: 0.5463 Val Accuracy: 0.7168\n"
     ]
    },
    {
     "name": "stderr",
     "output_type": "stream",
     "text": [
      "100%|█████████████████████████████████████████████████████████████████████████████████████████████████████████████████████████████████████████████████████████████████████████████████████| 20000/20000 [00:14<00:00, 1412.02it/s]\n",
      "  0%|                                                                                                                                                                                           | 1/20000 [00:00<35:54,  9.28it/s]"
     ]
    },
    {
     "name": "stdout",
     "output_type": "stream",
     "text": [
      "Example target: [0. 1.]\n",
      "Example prediction: [0.5392, 0.4608]\n",
      "Epoch 24 Training Loss: 0.5487 Training Accuracy: 0.7191 Val Loss: 0.5467 Val Accuracy: 0.7195\n"
     ]
    },
    {
     "name": "stderr",
     "output_type": "stream",
     "text": [
      "100%|█████████████████████████████████████████████████████████████████████████████████████████████████████████████████████████████████████████████████████████████████████████████████████| 20000/20000 [00:14<00:00, 1398.04it/s]\n",
      "  0%|                                                                                                                                                                                           | 1/20000 [00:00<36:34,  9.12it/s]"
     ]
    },
    {
     "name": "stdout",
     "output_type": "stream",
     "text": [
      "Example target: [1. 0.]\n",
      "Example prediction: [0.8478, 0.1522]\n",
      "Epoch 25 Training Loss: 0.5472 Training Accuracy: 0.7198 Val Loss: 0.5459 Val Accuracy: 0.7218\n"
     ]
    },
    {
     "name": "stderr",
     "output_type": "stream",
     "text": [
      "100%|█████████████████████████████████████████████████████████████████████████████████████████████████████████████████████████████████████████████████████████████████████████████████████| 20000/20000 [00:14<00:00, 1401.94it/s]\n",
      "  0%|                                                                                                                                                                                           | 1/20000 [00:00<36:34,  9.11it/s]"
     ]
    },
    {
     "name": "stdout",
     "output_type": "stream",
     "text": [
      "Example target: [0. 1.]\n",
      "Example prediction: [0.238, 0.762]\n",
      "Epoch 26 Training Loss: 0.5459 Training Accuracy: 0.7211 Val Loss: 0.5446 Val Accuracy: 0.7168\n"
     ]
    },
    {
     "name": "stderr",
     "output_type": "stream",
     "text": [
      "100%|█████████████████████████████████████████████████████████████████████████████████████████████████████████████████████████████████████████████████████████████████████████████████████| 20000/20000 [00:14<00:00, 1402.54it/s]\n",
      "  0%|                                                                                                                                                                                           | 1/20000 [00:00<39:33,  8.43it/s]"
     ]
    },
    {
     "name": "stdout",
     "output_type": "stream",
     "text": [
      "Example target: [1. 0.]\n",
      "Example prediction: [0.6159, 0.3841]\n",
      "Epoch 27 Training Loss: 0.5437 Training Accuracy: 0.7224 Val Loss: 0.5409 Val Accuracy: 0.7197\n"
     ]
    },
    {
     "name": "stderr",
     "output_type": "stream",
     "text": [
      "100%|█████████████████████████████████████████████████████████████████████████████████████████████████████████████████████████████████████████████████████████████████████████████████████| 20000/20000 [00:14<00:00, 1389.70it/s]\n",
      "  0%|                                                                                                                                                                                           | 1/20000 [00:00<40:12,  8.29it/s]"
     ]
    },
    {
     "name": "stdout",
     "output_type": "stream",
     "text": [
      "Example target: [0. 1.]\n",
      "Example prediction: [0.6842, 0.3158]\n",
      "Epoch 28 Training Loss: 0.542 Training Accuracy: 0.7229 Val Loss: 0.5477 Val Accuracy: 0.7219\n"
     ]
    },
    {
     "name": "stderr",
     "output_type": "stream",
     "text": [
      "100%|█████████████████████████████████████████████████████████████████████████████████████████████████████████████████████████████████████████████████████████████████████████████████████| 20000/20000 [00:14<00:00, 1400.58it/s]\n",
      "  0%|                                                                                                                                                                                           | 1/20000 [00:00<42:13,  7.89it/s]"
     ]
    },
    {
     "name": "stdout",
     "output_type": "stream",
     "text": [
      "Example target: [0. 1.]\n",
      "Example prediction: [0.2371, 0.7629]\n",
      "Epoch 29 Training Loss: 0.5411 Training Accuracy: 0.7241 Val Loss: 0.5424 Val Accuracy: 0.7137\n"
     ]
    },
    {
     "name": "stderr",
     "output_type": "stream",
     "text": [
      "100%|█████████████████████████████████████████████████████████████████████████████████████████████████████████████████████████████████████████████████████████████████████████████████████| 20000/20000 [00:14<00:00, 1393.76it/s]\n",
      "  0%|                                                                                                                                                                                           | 1/20000 [00:00<36:14,  9.20it/s]"
     ]
    },
    {
     "name": "stdout",
     "output_type": "stream",
     "text": [
      "Example target: [1. 0.]\n",
      "Example prediction: [0.6861, 0.3139]\n",
      "Epoch 30 Training Loss: 0.5391 Training Accuracy: 0.7256 Val Loss: 0.5413 Val Accuracy: 0.7217\n"
     ]
    },
    {
     "name": "stderr",
     "output_type": "stream",
     "text": [
      "100%|█████████████████████████████████████████████████████████████████████████████████████████████████████████████████████████████████████████████████████████████████████████████████████| 20000/20000 [00:14<00:00, 1392.79it/s]\n",
      "  0%|                                                                                                                                                                                           | 1/20000 [00:00<36:33,  9.12it/s]"
     ]
    },
    {
     "name": "stdout",
     "output_type": "stream",
     "text": [
      "Example target: [0. 1.]\n",
      "Example prediction: [0.5495, 0.4505]\n",
      "Epoch 31 Training Loss: 0.5373 Training Accuracy: 0.7261 Val Loss: 0.538 Val Accuracy: 0.7274\n"
     ]
    },
    {
     "name": "stderr",
     "output_type": "stream",
     "text": [
      "100%|█████████████████████████████████████████████████████████████████████████████████████████████████████████████████████████████████████████████████████████████████████████████████████| 20000/20000 [00:14<00:00, 1391.15it/s]\n",
      "  0%|                                                                                                                                                                                           | 1/20000 [00:00<36:34,  9.12it/s]"
     ]
    },
    {
     "name": "stdout",
     "output_type": "stream",
     "text": [
      "Example target: [1. 0.]\n",
      "Example prediction: [0.8911, 0.1089]\n",
      "Epoch 32 Training Loss: 0.5361 Training Accuracy: 0.7266 Val Loss: 0.5342 Val Accuracy: 0.7259\n"
     ]
    },
    {
     "name": "stderr",
     "output_type": "stream",
     "text": [
      "100%|█████████████████████████████████████████████████████████████████████████████████████████████████████████████████████████████████████████████████████████████████████████████████████| 20000/20000 [00:14<00:00, 1383.66it/s]\n",
      "  0%|                                                                                                                                                                                           | 1/20000 [00:00<36:14,  9.20it/s]"
     ]
    },
    {
     "name": "stdout",
     "output_type": "stream",
     "text": [
      "Example target: [1. 0.]\n",
      "Example prediction: [0.8497, 0.1503]\n",
      "Epoch 33 Training Loss: 0.5348 Training Accuracy: 0.7277 Val Loss: 0.5351 Val Accuracy: 0.7242\n"
     ]
    },
    {
     "name": "stderr",
     "output_type": "stream",
     "text": [
      "100%|█████████████████████████████████████████████████████████████████████████████████████████████████████████████████████████████████████████████████████████████████████████████████████| 20000/20000 [00:14<00:00, 1399.79it/s]\n",
      "  0%|                                                                                                                                                                                           | 1/20000 [00:00<35:14,  9.46it/s]"
     ]
    },
    {
     "name": "stdout",
     "output_type": "stream",
     "text": [
      "Example target: [1. 0.]\n",
      "Example prediction: [0.8652, 0.1348]\n",
      "Epoch 34 Training Loss: 0.5334 Training Accuracy: 0.7278 Val Loss: 0.5357 Val Accuracy: 0.726\n"
     ]
    },
    {
     "name": "stderr",
     "output_type": "stream",
     "text": [
      "100%|█████████████████████████████████████████████████████████████████████████████████████████████████████████████████████████████████████████████████████████████████████████████████████| 20000/20000 [00:14<00:00, 1400.28it/s]\n",
      "  0%|                                                                                                                                                                                           | 1/20000 [00:00<35:13,  9.46it/s]"
     ]
    },
    {
     "name": "stdout",
     "output_type": "stream",
     "text": [
      "Example target: [0. 1.]\n",
      "Example prediction: [0.0056, 0.9944]\n",
      "Epoch 35 Training Loss: 0.5317 Training Accuracy: 0.7296 Val Loss: 0.537 Val Accuracy: 0.7283\n"
     ]
    },
    {
     "name": "stderr",
     "output_type": "stream",
     "text": [
      "100%|█████████████████████████████████████████████████████████████████████████████████████████████████████████████████████████████████████████████████████████████████████████████████████| 20000/20000 [00:14<00:00, 1390.48it/s]\n",
      "  0%|                                                                                                                                                                                           | 1/20000 [00:00<36:53,  9.03it/s]"
     ]
    },
    {
     "name": "stdout",
     "output_type": "stream",
     "text": [
      "Example target: [1. 0.]\n",
      "Example prediction: [0.6075, 0.3925]\n",
      "Epoch 36 Training Loss: 0.5307 Training Accuracy: 0.7299 Val Loss: 0.5323 Val Accuracy: 0.7275\n"
     ]
    },
    {
     "name": "stderr",
     "output_type": "stream",
     "text": [
      "100%|█████████████████████████████████████████████████████████████████████████████████████████████████████████████████████████████████████████████████████████████████████████████████████| 20000/20000 [00:14<00:00, 1400.18it/s]\n",
      "  0%|                                                                                                                                                                                           | 1/20000 [00:00<36:34,  9.11it/s]"
     ]
    },
    {
     "name": "stdout",
     "output_type": "stream",
     "text": [
      "Example target: [1. 0.]\n",
      "Example prediction: [0.8666, 0.1334]\n",
      "Epoch 37 Training Loss: 0.5299 Training Accuracy: 0.7304 Val Loss: 0.538 Val Accuracy: 0.7265\n"
     ]
    },
    {
     "name": "stderr",
     "output_type": "stream",
     "text": [
      "100%|█████████████████████████████████████████████████████████████████████████████████████████████████████████████████████████████████████████████████████████████████████████████████████| 20000/20000 [00:14<00:00, 1400.09it/s]\n",
      "  0%|                                                                                                                                                                                           | 1/20000 [00:00<37:53,  8.80it/s]"
     ]
    },
    {
     "name": "stdout",
     "output_type": "stream",
     "text": [
      "Example target: [0. 1.]\n",
      "Example prediction: [0.551, 0.449]\n",
      "Epoch 38 Training Loss: 0.529 Training Accuracy: 0.7312 Val Loss: 0.5419 Val Accuracy: 0.7205\n"
     ]
    },
    {
     "name": "stderr",
     "output_type": "stream",
     "text": [
      "100%|█████████████████████████████████████████████████████████████████████████████████████████████████████████████████████████████████████████████████████████████████████████████████████| 20000/20000 [00:14<00:00, 1382.42it/s]\n",
      "  0%|                                                                                                                                                                                           | 1/20000 [00:00<35:34,  9.37it/s]"
     ]
    },
    {
     "name": "stdout",
     "output_type": "stream",
     "text": [
      "Example target: [1. 0.]\n",
      "Example prediction: [0.7407, 0.2593]\n",
      "Epoch 39 Training Loss: 0.5282 Training Accuracy: 0.7313 Val Loss: 0.5339 Val Accuracy: 0.7279\n"
     ]
    },
    {
     "name": "stderr",
     "output_type": "stream",
     "text": [
      "100%|█████████████████████████████████████████████████████████████████████████████████████████████████████████████████████████████████████████████████████████████████████████████████████| 20000/20000 [00:14<00:00, 1402.83it/s]\n",
      "  0%|                                                                                                                                                                                           | 1/20000 [00:00<36:53,  9.03it/s]"
     ]
    },
    {
     "name": "stdout",
     "output_type": "stream",
     "text": [
      "Example target: [1. 0.]\n",
      "Example prediction: [0.4848, 0.5152]\n",
      "Epoch 40 Training Loss: 0.5275 Training Accuracy: 0.7316 Val Loss: 0.5341 Val Accuracy: 0.7263\n"
     ]
    },
    {
     "name": "stderr",
     "output_type": "stream",
     "text": [
      "100%|█████████████████████████████████████████████████████████████████████████████████████████████████████████████████████████████████████████████████████████████████████████████████████| 20000/20000 [00:14<00:00, 1395.12it/s]\n",
      "  0%|                                                                                                                                                                                           | 1/20000 [00:00<35:53,  9.29it/s]"
     ]
    },
    {
     "name": "stdout",
     "output_type": "stream",
     "text": [
      "Example target: [0. 1.]\n",
      "Example prediction: [0.6444, 0.3556]\n",
      "Epoch 41 Training Loss: 0.5266 Training Accuracy: 0.7327 Val Loss: 0.5288 Val Accuracy: 0.7274\n"
     ]
    },
    {
     "name": "stderr",
     "output_type": "stream",
     "text": [
      "100%|█████████████████████████████████████████████████████████████████████████████████████████████████████████████████████████████████████████████████████████████████████████████████████| 20000/20000 [00:14<00:00, 1396.68it/s]\n",
      "  1%|█▎                                                                                                                                                                                       | 142/20000 [00:00<24:19, 13.60it/s]"
     ]
    },
    {
     "name": "stdout",
     "output_type": "stream",
     "text": [
      "Example target: [1. 0.]\n",
      "Example prediction: [0.2321, 0.7679]\n",
      "Epoch 42 Training Loss: 0.5258 Training Accuracy: 0.7337 Val Loss: 0.5282 Val Accuracy: 0.7296\n"
     ]
    },
    {
     "name": "stderr",
     "output_type": "stream",
     "text": [
      "100%|█████████████████████████████████████████████████████████████████████████████████████████████████████████████████████████████████████████████████████████████████████████████████████| 20000/20000 [00:14<00:00, 1407.85it/s]\n",
      "  0%|                                                                                                                                                                                           | 1/20000 [00:00<37:14,  8.95it/s]"
     ]
    },
    {
     "name": "stdout",
     "output_type": "stream",
     "text": [
      "Example target: [1. 0.]\n",
      "Example prediction: [0.5001, 0.4999]\n",
      "Epoch 43 Training Loss: 0.5248 Training Accuracy: 0.7341 Val Loss: 0.5305 Val Accuracy: 0.7287\n"
     ]
    },
    {
     "name": "stderr",
     "output_type": "stream",
     "text": [
      "100%|█████████████████████████████████████████████████████████████████████████████████████████████████████████████████████████████████████████████████████████████████████████████████████| 20000/20000 [00:14<00:00, 1394.24it/s]\n",
      "  0%|                                                                                                                                                                                           | 1/20000 [00:00<37:13,  8.95it/s]"
     ]
    },
    {
     "name": "stdout",
     "output_type": "stream",
     "text": [
      "Example target: [0. 1.]\n",
      "Example prediction: [0.1636, 0.8364]\n",
      "Epoch 44 Training Loss: 0.5242 Training Accuracy: 0.7345 Val Loss: 0.5265 Val Accuracy: 0.7313\n"
     ]
    },
    {
     "name": "stderr",
     "output_type": "stream",
     "text": [
      "100%|█████████████████████████████████████████████████████████████████████████████████████████████████████████████████████████████████████████████████████████████████████████████████████| 20000/20000 [00:14<00:00, 1402.73it/s]\n",
      "  0%|                                                                                                                                                                                           | 1/20000 [00:00<36:33,  9.12it/s]"
     ]
    },
    {
     "name": "stdout",
     "output_type": "stream",
     "text": [
      "Example target: [1. 0.]\n",
      "Example prediction: [0.9318, 0.0682]\n",
      "Epoch 45 Training Loss: 0.5237 Training Accuracy: 0.7344 Val Loss: 0.5305 Val Accuracy: 0.729\n"
     ]
    },
    {
     "name": "stderr",
     "output_type": "stream",
     "text": [
      "100%|█████████████████████████████████████████████████████████████████████████████████████████████████████████████████████████████████████████████████████████████████████████████████████| 20000/20000 [00:14<00:00, 1416.91it/s]\n",
      "  0%|                                                                                                                                                                                           | 1/20000 [00:00<36:54,  9.03it/s]"
     ]
    },
    {
     "name": "stdout",
     "output_type": "stream",
     "text": [
      "Example target: [1. 0.]\n",
      "Example prediction: [0.4409, 0.5591]\n",
      "Epoch 46 Training Loss: 0.5227 Training Accuracy: 0.7354 Val Loss: 0.5273 Val Accuracy: 0.7294\n"
     ]
    },
    {
     "name": "stderr",
     "output_type": "stream",
     "text": [
      "100%|█████████████████████████████████████████████████████████████████████████████████████████████████████████████████████████████████████████████████████████████████████████████████████| 20000/20000 [00:14<00:00, 1397.65it/s]\n",
      "  0%|                                                                                                                                                                                           | 1/20000 [00:00<36:53,  9.03it/s]"
     ]
    },
    {
     "name": "stdout",
     "output_type": "stream",
     "text": [
      "Example target: [0. 1.]\n",
      "Example prediction: [0.5322, 0.4678]\n",
      "Epoch 47 Training Loss: 0.5221 Training Accuracy: 0.7355 Val Loss: 0.5278 Val Accuracy: 0.7312\n"
     ]
    },
    {
     "name": "stderr",
     "output_type": "stream",
     "text": [
      "100%|█████████████████████████████████████████████████████████████████████████████████████████████████████████████████████████████████████████████████████████████████████████████████████| 20000/20000 [00:14<00:00, 1402.34it/s]\n",
      "  0%|                                                                                                                                                                                           | 1/20000 [00:00<35:14,  9.46it/s]"
     ]
    },
    {
     "name": "stdout",
     "output_type": "stream",
     "text": [
      "Example target: [0. 1.]\n",
      "Example prediction: [0.0355, 0.9645]\n",
      "Epoch 48 Training Loss: 0.5214 Training Accuracy: 0.7361 Val Loss: 0.5257 Val Accuracy: 0.7318\n"
     ]
    },
    {
     "name": "stderr",
     "output_type": "stream",
     "text": [
      "100%|█████████████████████████████████████████████████████████████████████████████████████████████████████████████████████████████████████████████████████████████████████████████████████| 20000/20000 [00:14<00:00, 1396.58it/s]\n",
      "  0%|                                                                                                                                                                                           | 1/20000 [00:00<37:13,  8.95it/s]"
     ]
    },
    {
     "name": "stdout",
     "output_type": "stream",
     "text": [
      "Example target: [0. 1.]\n",
      "Example prediction: [0.6522, 0.3478]\n",
      "Epoch 49 Training Loss: 0.5209 Training Accuracy: 0.7364 Val Loss: 0.5257 Val Accuracy: 0.7304\n"
     ]
    },
    {
     "name": "stderr",
     "output_type": "stream",
     "text": [
      "100%|█████████████████████████████████████████████████████████████████████████████████████████████████████████████████████████████████████████████████████████████████████████████████████| 20000/20000 [00:14<00:00, 1386.14it/s]\n",
      "  0%|                                                                                                                                                                                           | 1/20000 [00:00<34:53,  9.55it/s]"
     ]
    },
    {
     "name": "stdout",
     "output_type": "stream",
     "text": [
      "Example target: [1. 0.]\n",
      "Example prediction: [0.6543, 0.3457]\n",
      "Epoch 50 Training Loss: 0.52 Training Accuracy: 0.7368 Val Loss: 0.5266 Val Accuracy: 0.7319\n"
     ]
    },
    {
     "name": "stderr",
     "output_type": "stream",
     "text": [
      "100%|█████████████████████████████████████████████████████████████████████████████████████████████████████████████████████████████████████████████████████████████████████████████████████| 20000/20000 [00:14<00:00, 1398.02it/s]\n",
      "  0%|                                                                                                                                                                                           | 1/20000 [00:00<36:53,  9.03it/s]"
     ]
    },
    {
     "name": "stdout",
     "output_type": "stream",
     "text": [
      "Example target: [1. 0.]\n",
      "Example prediction: [0.7662, 0.2338]\n",
      "Epoch 51 Training Loss: 0.5192 Training Accuracy: 0.7369 Val Loss: 0.525 Val Accuracy: 0.7337\n"
     ]
    },
    {
     "name": "stderr",
     "output_type": "stream",
     "text": [
      "100%|█████████████████████████████████████████████████████████████████████████████████████████████████████████████████████████████████████████████████████████████████████████████████████| 20000/20000 [00:14<00:00, 1405.30it/s]\n",
      "  0%|                                                                                                                                                                                           | 1/20000 [00:00<36:35,  9.11it/s]"
     ]
    },
    {
     "name": "stdout",
     "output_type": "stream",
     "text": [
      "Example target: [0. 1.]\n",
      "Example prediction: [0.1825, 0.8175]\n",
      "Epoch 52 Training Loss: 0.5178 Training Accuracy: 0.7379 Val Loss: 0.5254 Val Accuracy: 0.7315\n"
     ]
    },
    {
     "name": "stderr",
     "output_type": "stream",
     "text": [
      "100%|█████████████████████████████████████████████████████████████████████████████████████████████████████████████████████████████████████████████████████████████████████████████████████| 20000/20000 [00:14<00:00, 1398.17it/s]\n",
      "  0%|                                                                                                                                                                                           | 1/20000 [00:00<37:13,  8.95it/s]"
     ]
    },
    {
     "name": "stdout",
     "output_type": "stream",
     "text": [
      "Example target: [0. 1.]\n",
      "Example prediction: [0.2237, 0.7763]\n",
      "Epoch 53 Training Loss: 0.5172 Training Accuracy: 0.7389 Val Loss: 0.5241 Val Accuracy: 0.7326\n"
     ]
    },
    {
     "name": "stderr",
     "output_type": "stream",
     "text": [
      "100%|█████████████████████████████████████████████████████████████████████████████████████████████████████████████████████████████████████████████████████████████████████████████████████| 20000/20000 [00:14<00:00, 1398.33it/s]\n",
      "  0%|                                                                                                                                                                                           | 1/20000 [00:00<36:14,  9.20it/s]"
     ]
    },
    {
     "name": "stdout",
     "output_type": "stream",
     "text": [
      "Example target: [0. 1.]\n",
      "Example prediction: [0.1071, 0.8929]\n",
      "Epoch 54 Training Loss: 0.5165 Training Accuracy: 0.7385 Val Loss: 0.5267 Val Accuracy: 0.7339\n"
     ]
    },
    {
     "name": "stderr",
     "output_type": "stream",
     "text": [
      "100%|█████████████████████████████████████████████████████████████████████████████████████████████████████████████████████████████████████████████████████████████████████████████████████| 20000/20000 [00:14<00:00, 1413.11it/s]\n",
      "  0%|                                                                                                                                                                                           | 1/20000 [00:00<37:33,  8.87it/s]"
     ]
    },
    {
     "name": "stdout",
     "output_type": "stream",
     "text": [
      "Example target: [1. 0.]\n",
      "Example prediction: [0.4049, 0.5951]\n",
      "Epoch 55 Training Loss: 0.5161 Training Accuracy: 0.7393 Val Loss: 0.5268 Val Accuracy: 0.7304\n"
     ]
    },
    {
     "name": "stderr",
     "output_type": "stream",
     "text": [
      "100%|█████████████████████████████████████████████████████████████████████████████████████████████████████████████████████████████████████████████████████████████████████████████████████| 20000/20000 [00:14<00:00, 1403.91it/s]\n",
      "  0%|                                                                                                                                                                                           | 1/20000 [00:00<35:13,  9.46it/s]"
     ]
    },
    {
     "name": "stdout",
     "output_type": "stream",
     "text": [
      "Example target: [1. 0.]\n",
      "Example prediction: [0.746, 0.254]\n",
      "Epoch 56 Training Loss: 0.5155 Training Accuracy: 0.7396 Val Loss: 0.5238 Val Accuracy: 0.7322\n"
     ]
    },
    {
     "name": "stderr",
     "output_type": "stream",
     "text": [
      "100%|█████████████████████████████████████████████████████████████████████████████████████████████████████████████████████████████████████████████████████████████████████████████████████| 20000/20000 [00:14<00:00, 1386.83it/s]\n",
      "  0%|                                                                                                                                                                                           | 1/20000 [00:00<37:13,  8.95it/s]"
     ]
    },
    {
     "name": "stdout",
     "output_type": "stream",
     "text": [
      "Example target: [0. 1.]\n",
      "Example prediction: [0.5787, 0.4213]\n",
      "Epoch 57 Training Loss: 0.5151 Training Accuracy: 0.7393 Val Loss: 0.5228 Val Accuracy: 0.7348\n"
     ]
    },
    {
     "name": "stderr",
     "output_type": "stream",
     "text": [
      "100%|█████████████████████████████████████████████████████████████████████████████████████████████████████████████████████████████████████████████████████████████████████████████████████| 20000/20000 [00:14<00:00, 1416.70it/s]\n",
      "  0%|                                                                                                                                                                                           | 1/20000 [00:00<35:26,  9.41it/s]"
     ]
    },
    {
     "name": "stdout",
     "output_type": "stream",
     "text": [
      "Example target: [0. 1.]\n",
      "Example prediction: [0.6314, 0.3686]\n",
      "Epoch 58 Training Loss: 0.5147 Training Accuracy: 0.7396 Val Loss: 0.5232 Val Accuracy: 0.7318\n"
     ]
    },
    {
     "name": "stderr",
     "output_type": "stream",
     "text": [
      "100%|█████████████████████████████████████████████████████████████████████████████████████████████████████████████████████████████████████████████████████████████████████████████████████| 20000/20000 [00:14<00:00, 1401.55it/s]\n",
      "  0%|                                                                                                                                                                                           | 1/20000 [00:00<35:46,  9.32it/s]"
     ]
    },
    {
     "name": "stdout",
     "output_type": "stream",
     "text": [
      "Example target: [1. 0.]\n",
      "Example prediction: [0.461, 0.539]\n",
      "Epoch 59 Training Loss: 0.5144 Training Accuracy: 0.7396 Val Loss: 0.5216 Val Accuracy: 0.7339\n"
     ]
    },
    {
     "name": "stderr",
     "output_type": "stream",
     "text": [
      "100%|█████████████████████████████████████████████████████████████████████████████████████████████████████████████████████████████████████████████████████████████████████████████████████| 20000/20000 [00:14<00:00, 1408.86it/s]\n",
      "  0%|                                                                                                                                                                                           | 1/20000 [00:00<36:13,  9.20it/s]"
     ]
    },
    {
     "name": "stdout",
     "output_type": "stream",
     "text": [
      "Example target: [0. 1.]\n",
      "Example prediction: [0.1175, 0.8825]\n",
      "Epoch 60 Training Loss: 0.514 Training Accuracy: 0.7401 Val Loss: 0.5214 Val Accuracy: 0.7341\n"
     ]
    },
    {
     "name": "stderr",
     "output_type": "stream",
     "text": [
      "100%|█████████████████████████████████████████████████████████████████████████████████████████████████████████████████████████████████████████████████████████████████████████████████████| 20000/20000 [00:14<00:00, 1402.05it/s]\n",
      "  0%|                                                                                                                                                                                           | 1/20000 [00:00<35:54,  9.28it/s]"
     ]
    },
    {
     "name": "stdout",
     "output_type": "stream",
     "text": [
      "Example target: [0. 1.]\n",
      "Example prediction: [0.0842, 0.9158]\n",
      "Epoch 61 Training Loss: 0.5137 Training Accuracy: 0.7403 Val Loss: 0.5205 Val Accuracy: 0.7346\n"
     ]
    },
    {
     "name": "stderr",
     "output_type": "stream",
     "text": [
      "100%|█████████████████████████████████████████████████████████████████████████████████████████████████████████████████████████████████████████████████████████████████████████████████████| 20000/20000 [00:14<00:00, 1395.51it/s]\n",
      "  0%|                                                                                                                                                                                           | 1/20000 [00:00<37:13,  8.95it/s]"
     ]
    },
    {
     "name": "stdout",
     "output_type": "stream",
     "text": [
      "Example target: [0. 1.]\n",
      "Example prediction: [0.3068, 0.6932]\n",
      "Epoch 62 Training Loss: 0.5133 Training Accuracy: 0.7406 Val Loss: 0.5202 Val Accuracy: 0.7339\n"
     ]
    },
    {
     "name": "stderr",
     "output_type": "stream",
     "text": [
      "100%|█████████████████████████████████████████████████████████████████████████████████████████████████████████████████████████████████████████████████████████████████████████████████████| 20000/20000 [00:14<00:00, 1384.62it/s]\n",
      "  0%|                                                                                                                                                                                           | 1/20000 [00:00<36:34,  9.11it/s]"
     ]
    },
    {
     "name": "stdout",
     "output_type": "stream",
     "text": [
      "Example target: [0. 1.]\n",
      "Example prediction: [0.5833, 0.4167]\n",
      "Epoch 63 Training Loss: 0.5129 Training Accuracy: 0.741 Val Loss: 0.521 Val Accuracy: 0.7329\n"
     ]
    },
    {
     "name": "stderr",
     "output_type": "stream",
     "text": [
      "100%|█████████████████████████████████████████████████████████████████████████████████████████████████████████████████████████████████████████████████████████████████████████████████████| 20000/20000 [00:14<00:00, 1390.16it/s]\n",
      "  0%|                                                                                                                                                                                           | 1/20000 [00:00<37:38,  8.85it/s]"
     ]
    },
    {
     "name": "stdout",
     "output_type": "stream",
     "text": [
      "Example target: [1. 0.]\n",
      "Example prediction: [0.9333, 0.0667]\n",
      "Epoch 64 Training Loss: 0.5125 Training Accuracy: 0.7412 Val Loss: 0.5205 Val Accuracy: 0.734\n"
     ]
    },
    {
     "name": "stderr",
     "output_type": "stream",
     "text": [
      "100%|█████████████████████████████████████████████████████████████████████████████████████████████████████████████████████████████████████████████████████████████████████████████████████| 20000/20000 [00:14<00:00, 1399.43it/s]\n",
      "  0%|                                                                                                                                                                                           | 1/20000 [00:00<34:43,  9.60it/s]"
     ]
    },
    {
     "name": "stdout",
     "output_type": "stream",
     "text": [
      "Example target: [0. 1.]\n",
      "Example prediction: [0.4358, 0.5642]\n",
      "Epoch 65 Training Loss: 0.5123 Training Accuracy: 0.7415 Val Loss: 0.5202 Val Accuracy: 0.7347\n"
     ]
    },
    {
     "name": "stderr",
     "output_type": "stream",
     "text": [
      "100%|█████████████████████████████████████████████████████████████████████████████████████████████████████████████████████████████████████████████████████████████████████████████████████| 20000/20000 [00:14<00:00, 1410.34it/s]\n",
      "  0%|                                                                                                                                                                                           | 1/20000 [00:00<36:34,  9.11it/s]"
     ]
    },
    {
     "name": "stdout",
     "output_type": "stream",
     "text": [
      "Example target: [1. 0.]\n",
      "Example prediction: [0.6941, 0.3059]\n",
      "Epoch 66 Training Loss: 0.512 Training Accuracy: 0.7415 Val Loss: 0.519 Val Accuracy: 0.7341\n"
     ]
    },
    {
     "name": "stderr",
     "output_type": "stream",
     "text": [
      "100%|█████████████████████████████████████████████████████████████████████████████████████████████████████████████████████████████████████████████████████████████████████████████████████| 20000/20000 [00:14<00:00, 1421.24it/s]\n",
      "  0%|                                                                                                                                                                                           | 1/20000 [00:00<36:47,  9.06it/s]"
     ]
    },
    {
     "name": "stdout",
     "output_type": "stream",
     "text": [
      "Example target: [1. 0.]\n",
      "Example prediction: [0.6357, 0.3643]\n",
      "Epoch 67 Training Loss: 0.5117 Training Accuracy: 0.7416 Val Loss: 0.5214 Val Accuracy: 0.7334\n"
     ]
    },
    {
     "name": "stderr",
     "output_type": "stream",
     "text": [
      "100%|█████████████████████████████████████████████████████████████████████████████████████████████████████████████████████████████████████████████████████████████████████████████████████| 20000/20000 [00:14<00:00, 1410.93it/s]\n",
      "  0%|                                                                                                                                                                                           | 1/20000 [00:00<36:54,  9.03it/s]"
     ]
    },
    {
     "name": "stdout",
     "output_type": "stream",
     "text": [
      "Example target: [1. 0.]\n",
      "Example prediction: [0.9934, 0.0066]\n",
      "Epoch 68 Training Loss: 0.5115 Training Accuracy: 0.7416 Val Loss: 0.5209 Val Accuracy: 0.7337\n"
     ]
    },
    {
     "name": "stderr",
     "output_type": "stream",
     "text": [
      "100%|█████████████████████████████████████████████████████████████████████████████████████████████████████████████████████████████████████████████████████████████████████████████████████| 20000/20000 [00:14<00:00, 1411.60it/s]\n",
      "  0%|                                                                                                                                                                                           | 1/20000 [00:00<36:53,  9.04it/s]"
     ]
    },
    {
     "name": "stdout",
     "output_type": "stream",
     "text": [
      "Example target: [0. 1.]\n",
      "Example prediction: [0.6299, 0.3701]\n",
      "Epoch 69 Training Loss: 0.5112 Training Accuracy: 0.7419 Val Loss: 0.5192 Val Accuracy: 0.735\n"
     ]
    },
    {
     "name": "stderr",
     "output_type": "stream",
     "text": [
      "100%|█████████████████████████████████████████████████████████████████████████████████████████████████████████████████████████████████████████████████████████████████████████████████████| 20000/20000 [00:14<00:00, 1411.33it/s]\n",
      "  0%|                                                                                                                                                                                           | 1/20000 [00:00<35:54,  9.28it/s]"
     ]
    },
    {
     "name": "stdout",
     "output_type": "stream",
     "text": [
      "Example target: [1. 0.]\n",
      "Example prediction: [0.9325, 0.0675]\n",
      "Epoch 70 Training Loss: 0.5109 Training Accuracy: 0.742 Val Loss: 0.5199 Val Accuracy: 0.7348\n"
     ]
    },
    {
     "name": "stderr",
     "output_type": "stream",
     "text": [
      "100%|█████████████████████████████████████████████████████████████████████████████████████████████████████████████████████████████████████████████████████████████████████████████████████| 20000/20000 [00:14<00:00, 1410.28it/s]\n",
      "  0%|                                                                                                                                                                                           | 1/20000 [00:00<38:13,  8.72it/s]"
     ]
    },
    {
     "name": "stdout",
     "output_type": "stream",
     "text": [
      "Example target: [0. 1.]\n",
      "Example prediction: [0.6476, 0.3524]\n",
      "Epoch 71 Training Loss: 0.5107 Training Accuracy: 0.7419 Val Loss: 0.519 Val Accuracy: 0.7353\n"
     ]
    },
    {
     "name": "stderr",
     "output_type": "stream",
     "text": [
      "100%|█████████████████████████████████████████████████████████████████████████████████████████████████████████████████████████████████████████████████████████████████████████████████████| 20000/20000 [00:14<00:00, 1403.16it/s]\n",
      "  0%|                                                                                                                                                                                           | 1/20000 [00:00<36:53,  9.03it/s]"
     ]
    },
    {
     "name": "stdout",
     "output_type": "stream",
     "text": [
      "Example target: [0. 1.]\n",
      "Example prediction: [0.3698, 0.6302]\n",
      "Epoch 72 Training Loss: 0.5104 Training Accuracy: 0.7423 Val Loss: 0.5211 Val Accuracy: 0.7347\n"
     ]
    },
    {
     "name": "stderr",
     "output_type": "stream",
     "text": [
      "100%|█████████████████████████████████████████████████████████████████████████████████████████████████████████████████████████████████████████████████████████████████████████████████████| 20000/20000 [00:14<00:00, 1407.16it/s]\n",
      "  0%|                                                                                                                                                                                           | 1/20000 [00:00<36:53,  9.03it/s]"
     ]
    },
    {
     "name": "stdout",
     "output_type": "stream",
     "text": [
      "Example target: [0. 1.]\n",
      "Example prediction: [0.5087, 0.4913]\n",
      "Epoch 73 Training Loss: 0.5102 Training Accuracy: 0.7425 Val Loss: 0.5194 Val Accuracy: 0.735\n"
     ]
    },
    {
     "name": "stderr",
     "output_type": "stream",
     "text": [
      "100%|█████████████████████████████████████████████████████████████████████████████████████████████████████████████████████████████████████████████████████████████████████████████████████| 20000/20000 [00:14<00:00, 1421.10it/s]\n",
      "  0%|                                                                                                                                                                                           | 1/20000 [00:00<37:14,  8.95it/s]"
     ]
    },
    {
     "name": "stdout",
     "output_type": "stream",
     "text": [
      "Example target: [1. 0.]\n",
      "Example prediction: [0.7621, 0.2379]\n",
      "Epoch 74 Training Loss: 0.51 Training Accuracy: 0.7426 Val Loss: 0.519 Val Accuracy: 0.7354\n"
     ]
    },
    {
     "name": "stderr",
     "output_type": "stream",
     "text": [
      "100%|█████████████████████████████████████████████████████████████████████████████████████████████████████████████████████████████████████████████████████████████████████████████████████| 20000/20000 [00:14<00:00, 1414.12it/s]\n",
      "  0%|                                                                                                                                                                                           | 1/20000 [00:00<36:21,  9.17it/s]"
     ]
    },
    {
     "name": "stdout",
     "output_type": "stream",
     "text": [
      "Example target: [0. 1.]\n",
      "Example prediction: [0.053, 0.947]\n",
      "Epoch 75 Training Loss: 0.5098 Training Accuracy: 0.7425 Val Loss: 0.5207 Val Accuracy: 0.735\n"
     ]
    },
    {
     "name": "stderr",
     "output_type": "stream",
     "text": [
      "100%|█████████████████████████████████████████████████████████████████████████████████████████████████████████████████████████████████████████████████████████████████████████████████████| 20000/20000 [00:14<00:00, 1399.02it/s]\n",
      "  0%|                                                                                                                                                                                           | 1/20000 [00:00<35:14,  9.46it/s]"
     ]
    },
    {
     "name": "stdout",
     "output_type": "stream",
     "text": [
      "Example target: [1. 0.]\n",
      "Example prediction: [0.7861, 0.2139]\n",
      "Epoch 76 Training Loss: 0.5096 Training Accuracy: 0.7432 Val Loss: 0.5181 Val Accuracy: 0.7355\n"
     ]
    },
    {
     "name": "stderr",
     "output_type": "stream",
     "text": [
      "100%|█████████████████████████████████████████████████████████████████████████████████████████████████████████████████████████████████████████████████████████████████████████████████████| 20000/20000 [00:14<00:00, 1410.42it/s]\n",
      "  0%|                                                                                                                                                                                           | 1/20000 [00:00<36:14,  9.20it/s]"
     ]
    },
    {
     "name": "stdout",
     "output_type": "stream",
     "text": [
      "Example target: [0. 1.]\n",
      "Example prediction: [0.2837, 0.7163]\n",
      "Epoch 77 Training Loss: 0.5094 Training Accuracy: 0.7431 Val Loss: 0.5184 Val Accuracy: 0.736\n"
     ]
    },
    {
     "name": "stderr",
     "output_type": "stream",
     "text": [
      "100%|█████████████████████████████████████████████████████████████████████████████████████████████████████████████████████████████████████████████████████████████████████████████████████| 20000/20000 [00:14<00:00, 1411.80it/s]\n",
      "  0%|                                                                                                                                                                                           | 1/20000 [00:00<36:14,  9.20it/s]"
     ]
    },
    {
     "name": "stdout",
     "output_type": "stream",
     "text": [
      "Example target: [0. 1.]\n",
      "Example prediction: [0.6718, 0.3282]\n",
      "Epoch 78 Training Loss: 0.5092 Training Accuracy: 0.7431 Val Loss: 0.5182 Val Accuracy: 0.7363\n"
     ]
    },
    {
     "name": "stderr",
     "output_type": "stream",
     "text": [
      "100%|█████████████████████████████████████████████████████████████████████████████████████████████████████████████████████████████████████████████████████████████████████████████████████| 20000/20000 [00:14<00:00, 1387.17it/s]\n",
      "  0%|                                                                                                                                                                                           | 1/20000 [00:00<37:13,  8.95it/s]"
     ]
    },
    {
     "name": "stdout",
     "output_type": "stream",
     "text": [
      "Example target: [1. 0.]\n",
      "Example prediction: [0.315, 0.685]\n",
      "Epoch 79 Training Loss: 0.509 Training Accuracy: 0.7434 Val Loss: 0.5194 Val Accuracy: 0.7353\n"
     ]
    },
    {
     "name": "stderr",
     "output_type": "stream",
     "text": [
      "100%|█████████████████████████████████████████████████████████████████████████████████████████████████████████████████████████████████████████████████████████████████████████████████████| 20000/20000 [00:14<00:00, 1395.79it/s]\n",
      "  0%|                                                                                                                                                                                           | 1/20000 [00:00<35:14,  9.46it/s]"
     ]
    },
    {
     "name": "stdout",
     "output_type": "stream",
     "text": [
      "Example target: [0. 1.]\n",
      "Example prediction: [0.2738, 0.7262]\n",
      "Epoch 80 Training Loss: 0.5089 Training Accuracy: 0.7429 Val Loss: 0.5184 Val Accuracy: 0.7351\n"
     ]
    },
    {
     "name": "stderr",
     "output_type": "stream",
     "text": [
      "100%|█████████████████████████████████████████████████████████████████████████████████████████████████████████████████████████████████████████████████████████████████████████████████████| 20000/20000 [00:14<00:00, 1401.42it/s]\n",
      "  0%|                                                                                                                                                                                           | 1/20000 [00:00<35:34,  9.37it/s]"
     ]
    },
    {
     "name": "stdout",
     "output_type": "stream",
     "text": [
      "Example target: [0. 1.]\n",
      "Example prediction: [0.3519, 0.6481]\n",
      "Epoch 81 Training Loss: 0.5087 Training Accuracy: 0.7434 Val Loss: 0.518 Val Accuracy: 0.7357\n"
     ]
    },
    {
     "name": "stderr",
     "output_type": "stream",
     "text": [
      "100%|█████████████████████████████████████████████████████████████████████████████████████████████████████████████████████████████████████████████████████████████████████████████████████| 20000/20000 [00:14<00:00, 1399.50it/s]\n",
      "  0%|                                                                                                                                                                                           | 1/20000 [00:00<37:33,  8.87it/s]"
     ]
    },
    {
     "name": "stdout",
     "output_type": "stream",
     "text": [
      "Example target: [1. 0.]\n",
      "Example prediction: [0.6886, 0.3114]\n",
      "Epoch 82 Training Loss: 0.5085 Training Accuracy: 0.7434 Val Loss: 0.5181 Val Accuracy: 0.7372\n"
     ]
    },
    {
     "name": "stderr",
     "output_type": "stream",
     "text": [
      "100%|█████████████████████████████████████████████████████████████████████████████████████████████████████████████████████████████████████████████████████████████████████████████████████| 20000/20000 [00:14<00:00, 1400.56it/s]\n",
      "  0%|                                                                                                                                                                                           | 1/20000 [00:00<35:34,  9.37it/s]"
     ]
    },
    {
     "name": "stdout",
     "output_type": "stream",
     "text": [
      "Example target: [0. 1.]\n",
      "Example prediction: [0.427, 0.573]\n",
      "Epoch 83 Training Loss: 0.5084 Training Accuracy: 0.7436 Val Loss: 0.5178 Val Accuracy: 0.7359\n"
     ]
    },
    {
     "name": "stderr",
     "output_type": "stream",
     "text": [
      "100%|█████████████████████████████████████████████████████████████████████████████████████████████████████████████████████████████████████████████████████████████████████████████████████| 20000/20000 [00:14<00:00, 1401.74it/s]\n",
      "  0%|                                                                                                                                                                                           | 1/20000 [00:00<37:33,  8.87it/s]"
     ]
    },
    {
     "name": "stdout",
     "output_type": "stream",
     "text": [
      "Example target: [1. 0.]\n",
      "Example prediction: [0.9346, 0.0654]\n",
      "Epoch 84 Training Loss: 0.5082 Training Accuracy: 0.7435 Val Loss: 0.5175 Val Accuracy: 0.7354\n"
     ]
    },
    {
     "name": "stderr",
     "output_type": "stream",
     "text": [
      "100%|█████████████████████████████████████████████████████████████████████████████████████████████████████████████████████████████████████████████████████████████████████████████████████| 20000/20000 [00:14<00:00, 1400.07it/s]\n",
      "  0%|                                                                                                                                                                                           | 1/20000 [00:00<37:53,  8.80it/s]"
     ]
    },
    {
     "name": "stdout",
     "output_type": "stream",
     "text": [
      "Example target: [0. 1.]\n",
      "Example prediction: [0.0731, 0.9269]\n",
      "Epoch 85 Training Loss: 0.5082 Training Accuracy: 0.7438 Val Loss: 0.5175 Val Accuracy: 0.7352\n"
     ]
    },
    {
     "name": "stderr",
     "output_type": "stream",
     "text": [
      "100%|█████████████████████████████████████████████████████████████████████████████████████████████████████████████████████████████████████████████████████████████████████████████████████| 20000/20000 [00:14<00:00, 1408.74it/s]\n",
      "  0%|                                                                                                                                                                                           | 1/20000 [00:00<35:34,  9.37it/s]"
     ]
    },
    {
     "name": "stdout",
     "output_type": "stream",
     "text": [
      "Example target: [0. 1.]\n",
      "Example prediction: [0.533, 0.467]\n",
      "Epoch 86 Training Loss: 0.508 Training Accuracy: 0.7434 Val Loss: 0.5175 Val Accuracy: 0.7365\n"
     ]
    },
    {
     "name": "stderr",
     "output_type": "stream",
     "text": [
      "100%|█████████████████████████████████████████████████████████████████████████████████████████████████████████████████████████████████████████████████████████████████████████████████████| 20000/20000 [00:14<00:00, 1401.30it/s]\n",
      "  0%|                                                                                                                                                                                           | 1/20000 [00:00<37:33,  8.87it/s]"
     ]
    },
    {
     "name": "stdout",
     "output_type": "stream",
     "text": [
      "Example target: [0. 1.]\n",
      "Example prediction: [0.3616, 0.6384]\n",
      "Epoch 87 Training Loss: 0.508 Training Accuracy: 0.7437 Val Loss: 0.5178 Val Accuracy: 0.7359\n"
     ]
    },
    {
     "name": "stderr",
     "output_type": "stream",
     "text": [
      "100%|█████████████████████████████████████████████████████████████████████████████████████████████████████████████████████████████████████████████████████████████████████████████████████| 20000/20000 [00:14<00:00, 1395.19it/s]\n",
      "  0%|                                                                                                                                                                                           | 1/20000 [00:00<36:58,  9.01it/s]"
     ]
    },
    {
     "name": "stdout",
     "output_type": "stream",
     "text": [
      "Example target: [0. 1.]\n",
      "Example prediction: [0.0122, 0.9878]\n",
      "Epoch 88 Training Loss: 0.5078 Training Accuracy: 0.7441 Val Loss: 0.5179 Val Accuracy: 0.7366\n"
     ]
    },
    {
     "name": "stderr",
     "output_type": "stream",
     "text": [
      "100%|█████████████████████████████████████████████████████████████████████████████████████████████████████████████████████████████████████████████████████████████████████████████████████| 20000/20000 [00:14<00:00, 1397.16it/s]\n",
      "  0%|                                                                                                                                                                                           | 1/20000 [00:00<36:53,  9.03it/s]"
     ]
    },
    {
     "name": "stdout",
     "output_type": "stream",
     "text": [
      "Example target: [0. 1.]\n",
      "Example prediction: [0.6632, 0.3368]\n",
      "Epoch 89 Training Loss: 0.5077 Training Accuracy: 0.7444 Val Loss: 0.5179 Val Accuracy: 0.7359\n"
     ]
    },
    {
     "name": "stderr",
     "output_type": "stream",
     "text": [
      "100%|█████████████████████████████████████████████████████████████████████████████████████████████████████████████████████████████████████████████████████████████████████████████████████| 20000/20000 [00:14<00:00, 1384.97it/s]\n",
      "  0%|                                                                                                                                                                                           | 1/20000 [00:00<38:53,  8.57it/s]"
     ]
    },
    {
     "name": "stdout",
     "output_type": "stream",
     "text": [
      "Example target: [0. 1.]\n",
      "Example prediction: [0.4871, 0.5129]\n",
      "Epoch 90 Training Loss: 0.5076 Training Accuracy: 0.7439 Val Loss: 0.5181 Val Accuracy: 0.737\n"
     ]
    },
    {
     "name": "stderr",
     "output_type": "stream",
     "text": [
      "100%|█████████████████████████████████████████████████████████████████████████████████████████████████████████████████████████████████████████████████████████████████████████████████████| 20000/20000 [00:14<00:00, 1417.27it/s]\n",
      "  0%|                                                                                                                                                                                           | 1/20000 [00:00<34:54,  9.55it/s]"
     ]
    },
    {
     "name": "stdout",
     "output_type": "stream",
     "text": [
      "Example target: [0. 1.]\n",
      "Example prediction: [0.4301, 0.5699]\n",
      "Epoch 91 Training Loss: 0.5075 Training Accuracy: 0.7443 Val Loss: 0.5173 Val Accuracy: 0.7356\n"
     ]
    },
    {
     "name": "stderr",
     "output_type": "stream",
     "text": [
      "100%|█████████████████████████████████████████████████████████████████████████████████████████████████████████████████████████████████████████████████████████████████████████████████████| 20000/20000 [00:14<00:00, 1405.48it/s]\n",
      "  0%|                                                                                                                                                                                           | 1/20000 [00:00<36:53,  9.03it/s]"
     ]
    },
    {
     "name": "stdout",
     "output_type": "stream",
     "text": [
      "Example target: [1. 0.]\n",
      "Example prediction: [0.6852, 0.3148]\n",
      "Epoch 92 Training Loss: 0.5074 Training Accuracy: 0.7445 Val Loss: 0.5174 Val Accuracy: 0.7352\n"
     ]
    },
    {
     "name": "stderr",
     "output_type": "stream",
     "text": [
      "100%|█████████████████████████████████████████████████████████████████████████████████████████████████████████████████████████████████████████████████████████████████████████████████████| 20000/20000 [00:14<00:00, 1408.38it/s]\n",
      "  0%|                                                                                                                                                                                           | 1/20000 [00:00<36:44,  9.07it/s]"
     ]
    },
    {
     "name": "stdout",
     "output_type": "stream",
     "text": [
      "Example target: [1. 0.]\n",
      "Example prediction: [0.5188, 0.4812]\n",
      "Epoch 93 Training Loss: 0.5073 Training Accuracy: 0.7444 Val Loss: 0.5172 Val Accuracy: 0.7365\n"
     ]
    },
    {
     "name": "stderr",
     "output_type": "stream",
     "text": [
      "100%|█████████████████████████████████████████████████████████████████████████████████████████████████████████████████████████████████████████████████████████████████████████████████████| 20000/20000 [00:14<00:00, 1389.11it/s]\n",
      "  0%|                                                                                                                                                                                           | 1/20000 [00:00<37:13,  8.95it/s]"
     ]
    },
    {
     "name": "stdout",
     "output_type": "stream",
     "text": [
      "Example target: [0. 1.]\n",
      "Example prediction: [0.2871, 0.7129]\n",
      "Epoch 94 Training Loss: 0.5072 Training Accuracy: 0.7446 Val Loss: 0.5173 Val Accuracy: 0.7363\n"
     ]
    },
    {
     "name": "stderr",
     "output_type": "stream",
     "text": [
      "100%|█████████████████████████████████████████████████████████████████████████████████████████████████████████████████████████████████████████████████████████████████████████████████████| 20000/20000 [00:14<00:00, 1384.39it/s]\n",
      "  0%|                                                                                                                                                                                           | 1/20000 [00:00<42:13,  7.90it/s]"
     ]
    },
    {
     "name": "stdout",
     "output_type": "stream",
     "text": [
      "Example target: [0. 1.]\n",
      "Example prediction: [0.5085, 0.4915]\n",
      "Epoch 95 Training Loss: 0.5072 Training Accuracy: 0.7443 Val Loss: 0.5174 Val Accuracy: 0.7367\n"
     ]
    },
    {
     "name": "stderr",
     "output_type": "stream",
     "text": [
      "100%|█████████████████████████████████████████████████████████████████████████████████████████████████████████████████████████████████████████████████████████████████████████████████████| 20000/20000 [00:14<00:00, 1388.19it/s]\n",
      "  0%|                                                                                                                                                                                           | 1/20000 [00:00<35:34,  9.37it/s]"
     ]
    },
    {
     "name": "stdout",
     "output_type": "stream",
     "text": [
      "Example target: [0. 1.]\n",
      "Example prediction: [0.6579, 0.3421]\n",
      "Epoch 96 Training Loss: 0.507 Training Accuracy: 0.7444 Val Loss: 0.517 Val Accuracy: 0.7358\n"
     ]
    },
    {
     "name": "stderr",
     "output_type": "stream",
     "text": [
      "100%|█████████████████████████████████████████████████████████████████████████████████████████████████████████████████████████████████████████████████████████████████████████████████████| 20000/20000 [00:14<00:00, 1392.89it/s]\n",
      "  0%|                                                                                                                                                                                           | 1/20000 [00:00<36:13,  9.20it/s]"
     ]
    },
    {
     "name": "stdout",
     "output_type": "stream",
     "text": [
      "Example target: [1. 0.]\n",
      "Example prediction: [0.7984, 0.2016]\n",
      "Epoch 97 Training Loss: 0.507 Training Accuracy: 0.7442 Val Loss: 0.5176 Val Accuracy: 0.7368\n"
     ]
    },
    {
     "name": "stderr",
     "output_type": "stream",
     "text": [
      "100%|█████████████████████████████████████████████████████████████████████████████████████████████████████████████████████████████████████████████████████████████████████████████████████| 20000/20000 [00:14<00:00, 1386.11it/s]\n",
      "  0%|                                                                                                                                                                                           | 1/20000 [00:00<36:14,  9.20it/s]"
     ]
    },
    {
     "name": "stdout",
     "output_type": "stream",
     "text": [
      "Example target: [1. 0.]\n",
      "Example prediction: [0.4278, 0.5722]\n",
      "Epoch 98 Training Loss: 0.5069 Training Accuracy: 0.7443 Val Loss: 0.5171 Val Accuracy: 0.737\n"
     ]
    },
    {
     "name": "stderr",
     "output_type": "stream",
     "text": [
      "100%|█████████████████████████████████████████████████████████████████████████████████████████████████████████████████████████████████████████████████████████████████████████████████████| 20000/20000 [00:14<00:00, 1388.93it/s]\n",
      "  0%|                                                                                                                                                                                           | 1/20000 [00:00<34:54,  9.55it/s]"
     ]
    },
    {
     "name": "stdout",
     "output_type": "stream",
     "text": [
      "Example target: [0. 1.]\n",
      "Example prediction: [0.093, 0.907]\n",
      "Epoch 99 Training Loss: 0.5069 Training Accuracy: 0.7443 Val Loss: 0.5171 Val Accuracy: 0.7361\n"
     ]
    },
    {
     "name": "stderr",
     "output_type": "stream",
     "text": [
      "100%|█████████████████████████████████████████████████████████████████████████████████████████████████████████████████████████████████████████████████████████████████████████████████████| 20000/20000 [00:14<00:00, 1397.73it/s]\n",
      "  0%|                                                                                                                                                                                           | 1/20000 [00:00<39:52,  8.36it/s]"
     ]
    },
    {
     "name": "stdout",
     "output_type": "stream",
     "text": [
      "Example target: [0. 1.]\n",
      "Example prediction: [0.804, 0.196]\n",
      "Epoch 100 Training Loss: 0.5068 Training Accuracy: 0.745 Val Loss: 0.5174 Val Accuracy: 0.7366\n"
     ]
    },
    {
     "name": "stderr",
     "output_type": "stream",
     "text": [
      "100%|█████████████████████████████████████████████████████████████████████████████████████████████████████████████████████████████████████████████████████████████████████████████████████| 20000/20000 [00:14<00:00, 1389.64it/s]\n",
      "  0%|                                                                                                                                                                                           | 1/20000 [00:00<37:53,  8.80it/s]"
     ]
    },
    {
     "name": "stdout",
     "output_type": "stream",
     "text": [
      "Example target: [1. 0.]\n",
      "Example prediction: [0.9188, 0.0812]\n",
      "Epoch 101 Training Loss: 0.5067 Training Accuracy: 0.7446 Val Loss: 0.5172 Val Accuracy: 0.7365\n"
     ]
    },
    {
     "name": "stderr",
     "output_type": "stream",
     "text": [
      "100%|█████████████████████████████████████████████████████████████████████████████████████████████████████████████████████████████████████████████████████████████████████████████████████| 20000/20000 [00:14<00:00, 1391.86it/s]\n",
      "  0%|                                                                                                                                                                                           | 1/20000 [00:00<36:34,  9.12it/s]"
     ]
    },
    {
     "name": "stdout",
     "output_type": "stream",
     "text": [
      "Example target: [1. 0.]\n",
      "Example prediction: [0.7584, 0.2416]\n",
      "Epoch 102 Training Loss: 0.5066 Training Accuracy: 0.7445 Val Loss: 0.5173 Val Accuracy: 0.7365\n"
     ]
    },
    {
     "name": "stderr",
     "output_type": "stream",
     "text": [
      "100%|█████████████████████████████████████████████████████████████████████████████████████████████████████████████████████████████████████████████████████████████████████████████████████| 20000/20000 [00:14<00:00, 1401.64it/s]\n",
      "  0%|                                                                                                                                                                                           | 1/20000 [00:00<37:33,  8.87it/s]"
     ]
    },
    {
     "name": "stdout",
     "output_type": "stream",
     "text": [
      "Example target: [1. 0.]\n",
      "Example prediction: [0.5515, 0.4485]\n",
      "Epoch 103 Training Loss: 0.5066 Training Accuracy: 0.7446 Val Loss: 0.5175 Val Accuracy: 0.7368\n"
     ]
    },
    {
     "name": "stderr",
     "output_type": "stream",
     "text": [
      "100%|█████████████████████████████████████████████████████████████████████████████████████████████████████████████████████████████████████████████████████████████████████████████████████| 20000/20000 [00:14<00:00, 1389.78it/s]\n",
      "  0%|                                                                                                                                                                                           | 1/20000 [00:00<36:34,  9.12it/s]"
     ]
    },
    {
     "name": "stdout",
     "output_type": "stream",
     "text": [
      "Example target: [1. 0.]\n",
      "Example prediction: [0.7879, 0.2121]\n",
      "Epoch 104 Training Loss: 0.5065 Training Accuracy: 0.7449 Val Loss: 0.5171 Val Accuracy: 0.737\n"
     ]
    },
    {
     "name": "stderr",
     "output_type": "stream",
     "text": [
      "100%|█████████████████████████████████████████████████████████████████████████████████████████████████████████████████████████████████████████████████████████████████████████████████████| 20000/20000 [00:14<00:00, 1378.00it/s]\n",
      "  0%|                                                                                                                                                                                           | 1/20000 [00:00<36:53,  9.03it/s]"
     ]
    },
    {
     "name": "stdout",
     "output_type": "stream",
     "text": [
      "Example target: [0. 1.]\n",
      "Example prediction: [0.7963, 0.2037]\n",
      "Epoch 105 Training Loss: 0.5065 Training Accuracy: 0.7448 Val Loss: 0.517 Val Accuracy: 0.7363\n"
     ]
    },
    {
     "name": "stderr",
     "output_type": "stream",
     "text": [
      "100%|█████████████████████████████████████████████████████████████████████████████████████████████████████████████████████████████████████████████████████████████████████████████████████| 20000/20000 [00:14<00:00, 1392.01it/s]\n",
      "  0%|                                                                                                                                                                                           | 1/20000 [00:00<36:53,  9.03it/s]"
     ]
    },
    {
     "name": "stdout",
     "output_type": "stream",
     "text": [
      "Example target: [1. 0.]\n",
      "Example prediction: [0.6221, 0.3779]\n",
      "Epoch 106 Training Loss: 0.5064 Training Accuracy: 0.7448 Val Loss: 0.5168 Val Accuracy: 0.7365\n"
     ]
    },
    {
     "name": "stderr",
     "output_type": "stream",
     "text": [
      "100%|█████████████████████████████████████████████████████████████████████████████████████████████████████████████████████████████████████████████████████████████████████████████████████| 20000/20000 [00:14<00:00, 1396.32it/s]\n",
      "  0%|                                                                                                                                                                                           | 1/20000 [00:00<34:54,  9.55it/s]"
     ]
    },
    {
     "name": "stdout",
     "output_type": "stream",
     "text": [
      "Example target: [1. 0.]\n",
      "Example prediction: [0.1693, 0.8307]\n",
      "Epoch 107 Training Loss: 0.5064 Training Accuracy: 0.7449 Val Loss: 0.5172 Val Accuracy: 0.737\n"
     ]
    },
    {
     "name": "stderr",
     "output_type": "stream",
     "text": [
      "100%|█████████████████████████████████████████████████████████████████████████████████████████████████████████████████████████████████████████████████████████████████████████████████████| 20000/20000 [00:14<00:00, 1394.67it/s]\n",
      "  0%|                                                                                                                                                                                           | 1/20000 [00:00<35:19,  9.44it/s]"
     ]
    },
    {
     "name": "stdout",
     "output_type": "stream",
     "text": [
      "Example target: [0. 1.]\n",
      "Example prediction: [0.2163, 0.7837]\n",
      "Epoch 108 Training Loss: 0.5063 Training Accuracy: 0.745 Val Loss: 0.5168 Val Accuracy: 0.7372\n"
     ]
    },
    {
     "name": "stderr",
     "output_type": "stream",
     "text": [
      "100%|█████████████████████████████████████████████████████████████████████████████████████████████████████████████████████████████████████████████████████████████████████████████████████| 20000/20000 [00:14<00:00, 1412.57it/s]\n",
      "  0%|                                                                                                                                                                                           | 1/20000 [00:00<38:23,  8.68it/s]"
     ]
    },
    {
     "name": "stdout",
     "output_type": "stream",
     "text": [
      "Example target: [0. 1.]\n",
      "Example prediction: [0.75, 0.25]\n",
      "Epoch 109 Training Loss: 0.5062 Training Accuracy: 0.7449 Val Loss: 0.5174 Val Accuracy: 0.7362\n"
     ]
    },
    {
     "name": "stderr",
     "output_type": "stream",
     "text": [
      "100%|█████████████████████████████████████████████████████████████████████████████████████████████████████████████████████████████████████████████████████████████████████████████████████| 20000/20000 [00:14<00:00, 1392.38it/s]\n",
      "  0%|                                                                                                                                                                                           | 1/20000 [00:00<36:13,  9.20it/s]"
     ]
    },
    {
     "name": "stdout",
     "output_type": "stream",
     "text": [
      "Example target: [1. 0.]\n",
      "Example prediction: [0.9033, 0.0967]\n",
      "Epoch 110 Training Loss: 0.5063 Training Accuracy: 0.7448 Val Loss: 0.5174 Val Accuracy: 0.7357\n"
     ]
    },
    {
     "name": "stderr",
     "output_type": "stream",
     "text": [
      "100%|█████████████████████████████████████████████████████████████████████████████████████████████████████████████████████████████████████████████████████████████████████████████████████| 20000/20000 [00:14<00:00, 1414.85it/s]\n",
      "  0%|                                                                                                                                                                                           | 1/20000 [00:00<37:05,  8.99it/s]"
     ]
    },
    {
     "name": "stdout",
     "output_type": "stream",
     "text": [
      "Example target: [0. 1.]\n",
      "Example prediction: [0.3654, 0.6346]\n",
      "Epoch 111 Training Loss: 0.5062 Training Accuracy: 0.7451 Val Loss: 0.5172 Val Accuracy: 0.7364\n"
     ]
    },
    {
     "name": "stderr",
     "output_type": "stream",
     "text": [
      "100%|█████████████████████████████████████████████████████████████████████████████████████████████████████████████████████████████████████████████████████████████████████████████████████| 20000/20000 [00:14<00:00, 1411.73it/s]\n",
      "  0%|                                                                                                                                                                                           | 1/20000 [00:00<35:14,  9.46it/s]"
     ]
    },
    {
     "name": "stdout",
     "output_type": "stream",
     "text": [
      "Example target: [0. 1.]\n",
      "Example prediction: [0.6998, 0.3002]\n",
      "Epoch 112 Training Loss: 0.5061 Training Accuracy: 0.7452 Val Loss: 0.5175 Val Accuracy: 0.7376\n"
     ]
    },
    {
     "name": "stderr",
     "output_type": "stream",
     "text": [
      "100%|█████████████████████████████████████████████████████████████████████████████████████████████████████████████████████████████████████████████████████████████████████████████████████| 20000/20000 [00:14<00:00, 1406.57it/s]\n",
      "  0%|                                                                                                                                                                                           | 1/20000 [00:00<35:14,  9.46it/s]"
     ]
    },
    {
     "name": "stdout",
     "output_type": "stream",
     "text": [
      "Example target: [0. 1.]\n",
      "Example prediction: [0.5216, 0.4784]\n",
      "Epoch 113 Training Loss: 0.5061 Training Accuracy: 0.745 Val Loss: 0.517 Val Accuracy: 0.7369\n"
     ]
    },
    {
     "name": "stderr",
     "output_type": "stream",
     "text": [
      "100%|█████████████████████████████████████████████████████████████████████████████████████████████████████████████████████████████████████████████████████████████████████████████████████| 20000/20000 [00:14<00:00, 1401.75it/s]\n",
      "  0%|                                                                                                                                                                                           | 1/20000 [00:00<34:34,  9.64it/s]"
     ]
    },
    {
     "name": "stdout",
     "output_type": "stream",
     "text": [
      "Example target: [1. 0.]\n",
      "Example prediction: [0.3487, 0.6513]\n",
      "Epoch 114 Training Loss: 0.5061 Training Accuracy: 0.7452 Val Loss: 0.5168 Val Accuracy: 0.7364\n"
     ]
    },
    {
     "name": "stderr",
     "output_type": "stream",
     "text": [
      "100%|█████████████████████████████████████████████████████████████████████████████████████████████████████████████████████████████████████████████████████████████████████████████████████| 20000/20000 [00:14<00:00, 1409.73it/s]\n",
      "  0%|                                                                                                                                                                                           | 1/20000 [00:00<37:33,  8.87it/s]"
     ]
    },
    {
     "name": "stdout",
     "output_type": "stream",
     "text": [
      "Example target: [0. 1.]\n",
      "Example prediction: [0.3555, 0.6445]\n",
      "Epoch 115 Training Loss: 0.506 Training Accuracy: 0.7452 Val Loss: 0.5169 Val Accuracy: 0.7361\n"
     ]
    },
    {
     "name": "stderr",
     "output_type": "stream",
     "text": [
      "100%|█████████████████████████████████████████████████████████████████████████████████████████████████████████████████████████████████████████████████████████████████████████████████████| 20000/20000 [00:14<00:00, 1409.73it/s]\n",
      "  0%|                                                                                                                                                                                           | 1/20000 [00:00<36:14,  9.20it/s]"
     ]
    },
    {
     "name": "stdout",
     "output_type": "stream",
     "text": [
      "Example target: [1. 0.]\n",
      "Example prediction: [0.4078, 0.5922]\n",
      "Epoch 116 Training Loss: 0.506 Training Accuracy: 0.745 Val Loss: 0.517 Val Accuracy: 0.7368\n"
     ]
    },
    {
     "name": "stderr",
     "output_type": "stream",
     "text": [
      "100%|█████████████████████████████████████████████████████████████████████████████████████████████████████████████████████████████████████████████████████████████████████████████████████| 20000/20000 [00:14<00:00, 1399.70it/s]\n",
      "  0%|                                                                                                                                                                                           | 1/20000 [00:00<35:13,  9.46it/s]"
     ]
    },
    {
     "name": "stdout",
     "output_type": "stream",
     "text": [
      "Example target: [1. 0.]\n",
      "Example prediction: [0.3341, 0.6659]\n",
      "Epoch 117 Training Loss: 0.506 Training Accuracy: 0.7451 Val Loss: 0.5169 Val Accuracy: 0.7371\n"
     ]
    },
    {
     "name": "stderr",
     "output_type": "stream",
     "text": [
      "100%|█████████████████████████████████████████████████████████████████████████████████████████████████████████████████████████████████████████████████████████████████████████████████████| 20000/20000 [00:14<00:00, 1409.02it/s]\n",
      "  0%|                                                                                                                                                                                           | 1/20000 [00:00<36:54,  9.03it/s]"
     ]
    },
    {
     "name": "stdout",
     "output_type": "stream",
     "text": [
      "Example target: [1. 0.]\n",
      "Example prediction: [0.6619, 0.3381]\n",
      "Epoch 118 Training Loss: 0.5059 Training Accuracy: 0.7448 Val Loss: 0.5169 Val Accuracy: 0.7361\n"
     ]
    },
    {
     "name": "stderr",
     "output_type": "stream",
     "text": [
      "100%|█████████████████████████████████████████████████████████████████████████████████████████████████████████████████████████████████████████████████████████████████████████████████████| 20000/20000 [00:14<00:00, 1393.76it/s]\n",
      "  0%|                                                                                                                                                                                           | 1/20000 [00:00<36:34,  9.11it/s]"
     ]
    },
    {
     "name": "stdout",
     "output_type": "stream",
     "text": [
      "Example target: [1. 0.]\n",
      "Example prediction: [0.5381, 0.4619]\n",
      "Epoch 119 Training Loss: 0.5059 Training Accuracy: 0.7453 Val Loss: 0.5169 Val Accuracy: 0.737\n"
     ]
    },
    {
     "name": "stderr",
     "output_type": "stream",
     "text": [
      "100%|█████████████████████████████████████████████████████████████████████████████████████████████████████████████████████████████████████████████████████████████████████████████████████| 20000/20000 [00:14<00:00, 1419.41it/s]\n",
      "  0%|                                                                                                                                                                                           | 1/20000 [00:00<35:54,  9.28it/s]"
     ]
    },
    {
     "name": "stdout",
     "output_type": "stream",
     "text": [
      "Example target: [1. 0.]\n",
      "Example prediction: [0.3682, 0.6318]\n",
      "Epoch 120 Training Loss: 0.5059 Training Accuracy: 0.7452 Val Loss: 0.5173 Val Accuracy: 0.7368\n"
     ]
    },
    {
     "name": "stderr",
     "output_type": "stream",
     "text": [
      "100%|█████████████████████████████████████████████████████████████████████████████████████████████████████████████████████████████████████████████████████████████████████████████████████| 20000/20000 [00:14<00:00, 1388.26it/s]\n",
      "  0%|                                                                                                                                                                                           | 1/20000 [00:00<42:13,  7.90it/s]"
     ]
    },
    {
     "name": "stdout",
     "output_type": "stream",
     "text": [
      "Example target: [0. 1.]\n",
      "Example prediction: [0.6262, 0.3738]\n",
      "Epoch 121 Training Loss: 0.5058 Training Accuracy: 0.7452 Val Loss: 0.517 Val Accuracy: 0.7363\n"
     ]
    },
    {
     "name": "stderr",
     "output_type": "stream",
     "text": [
      "100%|█████████████████████████████████████████████████████████████████████████████████████████████████████████████████████████████████████████████████████████████████████████████████████| 20000/20000 [00:14<00:00, 1364.18it/s]\n",
      "  0%|                                                                                                                                                                                           | 1/20000 [00:00<36:53,  9.03it/s]"
     ]
    },
    {
     "name": "stdout",
     "output_type": "stream",
     "text": [
      "Example target: [0. 1.]\n",
      "Example prediction: [0.3705, 0.6295]\n",
      "Epoch 122 Training Loss: 0.5058 Training Accuracy: 0.7453 Val Loss: 0.5167 Val Accuracy: 0.737\n"
     ]
    },
    {
     "name": "stderr",
     "output_type": "stream",
     "text": [
      "100%|█████████████████████████████████████████████████████████████████████████████████████████████████████████████████████████████████████████████████████████████████████████████████████| 20000/20000 [00:14<00:00, 1405.39it/s]\n",
      "  0%|                                                                                                                                                                                           | 1/20000 [00:00<36:14,  9.20it/s]"
     ]
    },
    {
     "name": "stdout",
     "output_type": "stream",
     "text": [
      "Example target: [0. 1.]\n",
      "Example prediction: [0.7558, 0.2442]\n",
      "Epoch 123 Training Loss: 0.5058 Training Accuracy: 0.7451 Val Loss: 0.5171 Val Accuracy: 0.7367\n"
     ]
    },
    {
     "name": "stderr",
     "output_type": "stream",
     "text": [
      "100%|█████████████████████████████████████████████████████████████████████████████████████████████████████████████████████████████████████████████████████████████████████████████████████| 20000/20000 [00:14<00:00, 1392.99it/s]\n",
      "  0%|                                                                                                                                                                                           | 1/20000 [00:00<35:34,  9.37it/s]"
     ]
    },
    {
     "name": "stdout",
     "output_type": "stream",
     "text": [
      "Example target: [1. 0.]\n",
      "Example prediction: [0.9923, 0.0077]\n",
      "Epoch 124 Training Loss: 0.5057 Training Accuracy: 0.7454 Val Loss: 0.517 Val Accuracy: 0.7365\n"
     ]
    },
    {
     "name": "stderr",
     "output_type": "stream",
     "text": [
      "100%|█████████████████████████████████████████████████████████████████████████████████████████████████████████████████████████████████████████████████████████████████████████████████████| 20000/20000 [00:14<00:00, 1410.43it/s]\n",
      "  0%|                                                                                                                                                                                           | 1/20000 [00:00<40:13,  8.29it/s]"
     ]
    },
    {
     "name": "stdout",
     "output_type": "stream",
     "text": [
      "Example target: [0. 1.]\n",
      "Example prediction: [0.5516, 0.4484]\n",
      "Epoch 125 Training Loss: 0.5057 Training Accuracy: 0.7454 Val Loss: 0.5169 Val Accuracy: 0.7368\n"
     ]
    },
    {
     "name": "stderr",
     "output_type": "stream",
     "text": [
      "100%|█████████████████████████████████████████████████████████████████████████████████████████████████████████████████████████████████████████████████████████████████████████████████████| 20000/20000 [00:14<00:00, 1397.65it/s]\n",
      "  0%|                                                                                                                                                                                           | 1/20000 [00:00<37:13,  8.95it/s]"
     ]
    },
    {
     "name": "stdout",
     "output_type": "stream",
     "text": [
      "Example target: [1. 0.]\n",
      "Example prediction: [0.7958, 0.2042]\n",
      "Epoch 126 Training Loss: 0.5057 Training Accuracy: 0.7454 Val Loss: 0.5168 Val Accuracy: 0.737\n"
     ]
    },
    {
     "name": "stderr",
     "output_type": "stream",
     "text": [
      "100%|█████████████████████████████████████████████████████████████████████████████████████████████████████████████████████████████████████████████████████████████████████████████████████| 20000/20000 [00:14<00:00, 1392.21it/s]\n",
      "  0%|                                                                                                                                                                                           | 1/20000 [00:00<41:13,  8.09it/s]"
     ]
    },
    {
     "name": "stdout",
     "output_type": "stream",
     "text": [
      "Example target: [0. 1.]\n",
      "Example prediction: [0.0742, 0.9258]\n",
      "Epoch 127 Training Loss: 0.5057 Training Accuracy: 0.7455 Val Loss: 0.5167 Val Accuracy: 0.7364\n"
     ]
    },
    {
     "name": "stderr",
     "output_type": "stream",
     "text": [
      "100%|█████████████████████████████████████████████████████████████████████████████████████████████████████████████████████████████████████████████████████████████████████████████████████| 20000/20000 [00:14<00:00, 1409.44it/s]\n",
      "  0%|                                                                                                                                                                                           | 1/20000 [00:00<37:13,  8.95it/s]"
     ]
    },
    {
     "name": "stdout",
     "output_type": "stream",
     "text": [
      "Example target: [1. 0.]\n",
      "Example prediction: [0.8088, 0.1912]\n",
      "Epoch 128 Training Loss: 0.5057 Training Accuracy: 0.7454 Val Loss: 0.5168 Val Accuracy: 0.7367\n"
     ]
    },
    {
     "name": "stderr",
     "output_type": "stream",
     "text": [
      "100%|█████████████████████████████████████████████████████████████████████████████████████████████████████████████████████████████████████████████████████████████████████████████████████| 20000/20000 [00:14<00:00, 1403.71it/s]\n",
      "  0%|                                                                                                                                                                                           | 1/20000 [00:00<36:14,  9.20it/s]"
     ]
    },
    {
     "name": "stdout",
     "output_type": "stream",
     "text": [
      "Example target: [1. 0.]\n",
      "Example prediction: [0.809, 0.191]\n",
      "Epoch 129 Training Loss: 0.5056 Training Accuracy: 0.7453 Val Loss: 0.5168 Val Accuracy: 0.7369\n"
     ]
    },
    {
     "name": "stderr",
     "output_type": "stream",
     "text": [
      "100%|█████████████████████████████████████████████████████████████████████████████████████████████████████████████████████████████████████████████████████████████████████████████████████| 20000/20000 [00:14<00:00, 1408.84it/s]\n",
      "  0%|                                                                                                                                                                                           | 1/20000 [00:00<36:14,  9.20it/s]"
     ]
    },
    {
     "name": "stdout",
     "output_type": "stream",
     "text": [
      "Example target: [0. 1.]\n",
      "Example prediction: [0.1393, 0.8607]\n",
      "Epoch 130 Training Loss: 0.5056 Training Accuracy: 0.7454 Val Loss: 0.5169 Val Accuracy: 0.7367\n"
     ]
    },
    {
     "name": "stderr",
     "output_type": "stream",
     "text": [
      "100%|█████████████████████████████████████████████████████████████████████████████████████████████████████████████████████████████████████████████████████████████████████████████████████| 20000/20000 [00:14<00:00, 1408.74it/s]\n",
      "  0%|                                                                                                                                                                                           | 1/20000 [00:00<36:14,  9.20it/s]"
     ]
    },
    {
     "name": "stdout",
     "output_type": "stream",
     "text": [
      "Example target: [1. 0.]\n",
      "Example prediction: [0.8935, 0.1065]\n",
      "Epoch 131 Training Loss: 0.5056 Training Accuracy: 0.7455 Val Loss: 0.5168 Val Accuracy: 0.7367\n"
     ]
    },
    {
     "name": "stderr",
     "output_type": "stream",
     "text": [
      "100%|█████████████████████████████████████████████████████████████████████████████████████████████████████████████████████████████████████████████████████████████████████████████████████| 20000/20000 [00:14<00:00, 1417.60it/s]\n",
      "  1%|█▎                                                                                                                                                                                       | 137/20000 [00:00<24:06, 13.73it/s]"
     ]
    },
    {
     "name": "stdout",
     "output_type": "stream",
     "text": [
      "Example target: [0. 1.]\n",
      "Example prediction: [0.7899, 0.2101]\n",
      "Epoch 132 Training Loss: 0.5056 Training Accuracy: 0.7454 Val Loss: 0.5169 Val Accuracy: 0.736\n"
     ]
    },
    {
     "name": "stderr",
     "output_type": "stream",
     "text": [
      "100%|█████████████████████████████████████████████████████████████████████████████████████████████████████████████████████████████████████████████████████████████████████████████████████| 20000/20000 [00:14<00:00, 1416.96it/s]\n",
      "  0%|                                                                                                                                                                                           | 1/20000 [00:00<36:14,  9.20it/s]"
     ]
    },
    {
     "name": "stdout",
     "output_type": "stream",
     "text": [
      "Example target: [1. 0.]\n",
      "Example prediction: [0.6133, 0.3867]\n",
      "Epoch 133 Training Loss: 0.5055 Training Accuracy: 0.7455 Val Loss: 0.5168 Val Accuracy: 0.7368\n"
     ]
    },
    {
     "name": "stderr",
     "output_type": "stream",
     "text": [
      "100%|█████████████████████████████████████████████████████████████████████████████████████████████████████████████████████████████████████████████████████████████████████████████████████| 20000/20000 [00:13<00:00, 1432.90it/s]\n",
      "  0%|                                                                                                                                                                                           | 1/20000 [00:00<36:53,  9.04it/s]"
     ]
    },
    {
     "name": "stdout",
     "output_type": "stream",
     "text": [
      "Example target: [1. 0.]\n",
      "Example prediction: [0.8599, 0.1401]\n",
      "Epoch 134 Training Loss: 0.5055 Training Accuracy: 0.7454 Val Loss: 0.5168 Val Accuracy: 0.7372\n"
     ]
    },
    {
     "name": "stderr",
     "output_type": "stream",
     "text": [
      "100%|█████████████████████████████████████████████████████████████████████████████████████████████████████████████████████████████████████████████████████████████████████████████████████| 20000/20000 [00:14<00:00, 1411.16it/s]\n",
      "  0%|                                                                                                                                                                                           | 1/20000 [00:00<39:24,  8.46it/s]"
     ]
    },
    {
     "name": "stdout",
     "output_type": "stream",
     "text": [
      "Example target: [1. 0.]\n",
      "Example prediction: [0.3628, 0.6372]\n",
      "Epoch 135 Training Loss: 0.5055 Training Accuracy: 0.7455 Val Loss: 0.517 Val Accuracy: 0.7367\n"
     ]
    },
    {
     "name": "stderr",
     "output_type": "stream",
     "text": [
      "100%|█████████████████████████████████████████████████████████████████████████████████████████████████████████████████████████████████████████████████████████████████████████████████████| 20000/20000 [00:14<00:00, 1398.29it/s]\n",
      "  0%|                                                                                                                                                                                           | 1/20000 [00:00<35:34,  9.37it/s]"
     ]
    },
    {
     "name": "stdout",
     "output_type": "stream",
     "text": [
      "Example target: [0. 1.]\n",
      "Example prediction: [0.0276, 0.9724]\n",
      "Epoch 136 Training Loss: 0.5055 Training Accuracy: 0.7456 Val Loss: 0.5169 Val Accuracy: 0.7368\n"
     ]
    },
    {
     "name": "stderr",
     "output_type": "stream",
     "text": [
      "100%|█████████████████████████████████████████████████████████████████████████████████████████████████████████████████████████████████████████████████████████████████████████████████████| 20000/20000 [00:14<00:00, 1394.92it/s]\n",
      "  0%|                                                                                                                                                                                           | 1/20000 [00:00<37:14,  8.95it/s]"
     ]
    },
    {
     "name": "stdout",
     "output_type": "stream",
     "text": [
      "Example target: [1. 0.]\n",
      "Example prediction: [0.3057, 0.6943]\n",
      "Epoch 137 Training Loss: 0.5055 Training Accuracy: 0.7455 Val Loss: 0.5168 Val Accuracy: 0.7368\n"
     ]
    },
    {
     "name": "stderr",
     "output_type": "stream",
     "text": [
      "100%|█████████████████████████████████████████████████████████████████████████████████████████████████████████████████████████████████████████████████████████████████████████████████████| 20000/20000 [00:14<00:00, 1386.93it/s]\n",
      "  0%|                                                                                                                                                                                           | 1/20000 [00:00<35:53,  9.29it/s]"
     ]
    },
    {
     "name": "stdout",
     "output_type": "stream",
     "text": [
      "Example target: [0. 1.]\n",
      "Example prediction: [0.8242, 0.1758]\n",
      "Epoch 138 Training Loss: 0.5054 Training Accuracy: 0.7455 Val Loss: 0.517 Val Accuracy: 0.737\n"
     ]
    },
    {
     "name": "stderr",
     "output_type": "stream",
     "text": [
      "100%|█████████████████████████████████████████████████████████████████████████████████████████████████████████████████████████████████████████████████████████████████████████████████████| 20000/20000 [00:14<00:00, 1389.52it/s]\n",
      "  0%|                                                                                                                                                                                           | 1/20000 [00:00<36:14,  9.20it/s]"
     ]
    },
    {
     "name": "stdout",
     "output_type": "stream",
     "text": [
      "Example target: [0. 1.]\n",
      "Example prediction: [0.0152, 0.9848]\n",
      "Epoch 139 Training Loss: 0.5054 Training Accuracy: 0.7455 Val Loss: 0.5168 Val Accuracy: 0.7367\n"
     ]
    },
    {
     "name": "stderr",
     "output_type": "stream",
     "text": [
      "100%|█████████████████████████████████████████████████████████████████████████████████████████████████████████████████████████████████████████████████████████████████████████████████████| 20000/20000 [00:14<00:00, 1394.05it/s]\n",
      "  0%|                                                                                                                                                                                           | 1/20000 [00:00<34:54,  9.55it/s]"
     ]
    },
    {
     "name": "stdout",
     "output_type": "stream",
     "text": [
      "Example target: [1. 0.]\n",
      "Example prediction: [0.3356, 0.6644]\n",
      "Epoch 140 Training Loss: 0.5054 Training Accuracy: 0.7455 Val Loss: 0.517 Val Accuracy: 0.7372\n"
     ]
    },
    {
     "name": "stderr",
     "output_type": "stream",
     "text": [
      "100%|█████████████████████████████████████████████████████████████████████████████████████████████████████████████████████████████████████████████████████████████████████████████████████| 20000/20000 [00:14<00:00, 1393.67it/s]\n",
      "  0%|                                                                                                                                                                                           | 1/20000 [00:00<38:14,  8.72it/s]"
     ]
    },
    {
     "name": "stdout",
     "output_type": "stream",
     "text": [
      "Example target: [1. 0.]\n",
      "Example prediction: [0.5234, 0.4766]\n",
      "Epoch 141 Training Loss: 0.5054 Training Accuracy: 0.7455 Val Loss: 0.5169 Val Accuracy: 0.737\n"
     ]
    },
    {
     "name": "stderr",
     "output_type": "stream",
     "text": [
      "100%|█████████████████████████████████████████████████████████████████████████████████████████████████████████████████████████████████████████████████████████████████████████████████████| 20000/20000 [00:14<00:00, 1384.14it/s]\n",
      "  0%|                                                                                                                                                                                           | 1/20000 [00:00<35:53,  9.29it/s]"
     ]
    },
    {
     "name": "stdout",
     "output_type": "stream",
     "text": [
      "Example target: [1. 0.]\n",
      "Example prediction: [0.6985, 0.3015]\n",
      "Epoch 142 Training Loss: 0.5054 Training Accuracy: 0.7455 Val Loss: 0.5169 Val Accuracy: 0.7371\n"
     ]
    },
    {
     "name": "stderr",
     "output_type": "stream",
     "text": [
      "100%|█████████████████████████████████████████████████████████████████████████████████████████████████████████████████████████████████████████████████████████████████████████████████████| 20000/20000 [00:14<00:00, 1400.29it/s]\n",
      "  0%|                                                                                                                                                                                           | 1/20000 [00:00<35:14,  9.46it/s]"
     ]
    },
    {
     "name": "stdout",
     "output_type": "stream",
     "text": [
      "Example target: [0. 1.]\n",
      "Example prediction: [0.0126, 0.9874]\n",
      "Epoch 143 Training Loss: 0.5054 Training Accuracy: 0.7455 Val Loss: 0.5168 Val Accuracy: 0.7372\n"
     ]
    },
    {
     "name": "stderr",
     "output_type": "stream",
     "text": [
      "100%|█████████████████████████████████████████████████████████████████████████████████████████████████████████████████████████████████████████████████████████████████████████████████████| 20000/20000 [00:14<00:00, 1394.25it/s]\n",
      "  0%|                                                                                                                                                                                           | 1/20000 [00:00<36:13,  9.20it/s]"
     ]
    },
    {
     "name": "stdout",
     "output_type": "stream",
     "text": [
      "Example target: [0. 1.]\n",
      "Example prediction: [0.094, 0.906]\n",
      "Epoch 144 Training Loss: 0.5054 Training Accuracy: 0.7457 Val Loss: 0.5168 Val Accuracy: 0.7371\n"
     ]
    },
    {
     "name": "stderr",
     "output_type": "stream",
     "text": [
      "100%|█████████████████████████████████████████████████████████████████████████████████████████████████████████████████████████████████████████████████████████████████████████████████████| 20000/20000 [00:14<00:00, 1395.02it/s]\n",
      "  0%|                                                                                                                                                                                           | 1/20000 [00:00<36:53,  9.03it/s]"
     ]
    },
    {
     "name": "stdout",
     "output_type": "stream",
     "text": [
      "Example target: [0. 1.]\n",
      "Example prediction: [0.3823, 0.6177]\n",
      "Epoch 145 Training Loss: 0.5054 Training Accuracy: 0.7456 Val Loss: 0.5168 Val Accuracy: 0.737\n"
     ]
    },
    {
     "name": "stderr",
     "output_type": "stream",
     "text": [
      "100%|█████████████████████████████████████████████████████████████████████████████████████████████████████████████████████████████████████████████████████████████████████████████████████| 20000/20000 [00:14<00:00, 1394.93it/s]\n",
      "  0%|                                                                                                                                                                                           | 1/20000 [00:00<34:54,  9.55it/s]"
     ]
    },
    {
     "name": "stdout",
     "output_type": "stream",
     "text": [
      "Example target: [1. 0.]\n",
      "Example prediction: [0.6778, 0.3222]\n",
      "Epoch 146 Training Loss: 0.5053 Training Accuracy: 0.7456 Val Loss: 0.5169 Val Accuracy: 0.7369\n"
     ]
    },
    {
     "name": "stderr",
     "output_type": "stream",
     "text": [
      "100%|█████████████████████████████████████████████████████████████████████████████████████████████████████████████████████████████████████████████████████████████████████████████████████| 20000/20000 [00:14<00:00, 1403.12it/s]\n",
      "  0%|                                                                                                                                                                                           | 1/20000 [00:00<36:14,  9.20it/s]"
     ]
    },
    {
     "name": "stdout",
     "output_type": "stream",
     "text": [
      "Example target: [0. 1.]\n",
      "Example prediction: [0.5064, 0.4936]\n",
      "Epoch 147 Training Loss: 0.5054 Training Accuracy: 0.7455 Val Loss: 0.5169 Val Accuracy: 0.7367\n"
     ]
    },
    {
     "name": "stderr",
     "output_type": "stream",
     "text": [
      "100%|█████████████████████████████████████████████████████████████████████████████████████████████████████████████████████████████████████████████████████████████████████████████████████| 20000/20000 [00:14<00:00, 1395.89it/s]\n",
      "  0%|                                                                                                                                                                                           | 1/20000 [00:00<35:14,  9.46it/s]"
     ]
    },
    {
     "name": "stdout",
     "output_type": "stream",
     "text": [
      "Example target: [1. 0.]\n",
      "Example prediction: [0.8079, 0.1921]\n",
      "Epoch 148 Training Loss: 0.5053 Training Accuracy: 0.7456 Val Loss: 0.5171 Val Accuracy: 0.7369\n"
     ]
    },
    {
     "name": "stderr",
     "output_type": "stream",
     "text": [
      "100%|█████████████████████████████████████████████████████████████████████████████████████████████████████████████████████████████████████████████████████████████████████████████████████| 20000/20000 [00:14<00:00, 1403.32it/s]\n",
      "  0%|                                                                                                                                                                                           | 1/20000 [00:00<36:14,  9.20it/s]"
     ]
    },
    {
     "name": "stdout",
     "output_type": "stream",
     "text": [
      "Example target: [1. 0.]\n",
      "Example prediction: [0.6108, 0.3892]\n",
      "Epoch 149 Training Loss: 0.5053 Training Accuracy: 0.7456 Val Loss: 0.5168 Val Accuracy: 0.7371\n"
     ]
    },
    {
     "name": "stderr",
     "output_type": "stream",
     "text": [
      "100%|█████████████████████████████████████████████████████████████████████████████████████████████████████████████████████████████████████████████████████████████████████████████████████| 20000/20000 [00:14<00:00, 1396.67it/s]\n",
      "  0%|                                                                                                                                                                                           | 1/20000 [00:00<36:54,  9.03it/s]"
     ]
    },
    {
     "name": "stdout",
     "output_type": "stream",
     "text": [
      "Example target: [0. 1.]\n",
      "Example prediction: [0.0607, 0.9393]\n",
      "Epoch 150 Training Loss: 0.5053 Training Accuracy: 0.7457 Val Loss: 0.5169 Val Accuracy: 0.7369\n"
     ]
    },
    {
     "name": "stderr",
     "output_type": "stream",
     "text": [
      "100%|█████████████████████████████████████████████████████████████████████████████████████████████████████████████████████████████████████████████████████████████████████████████████████| 20000/20000 [00:14<00:00, 1400.19it/s]\n",
      "  0%|                                                                                                                                                                                           | 1/20000 [00:00<35:34,  9.37it/s]"
     ]
    },
    {
     "name": "stdout",
     "output_type": "stream",
     "text": [
      "Example target: [1. 0.]\n",
      "Example prediction: [0.2672, 0.7328]\n",
      "Epoch 151 Training Loss: 0.5053 Training Accuracy: 0.7456 Val Loss: 0.5168 Val Accuracy: 0.7369\n"
     ]
    },
    {
     "name": "stderr",
     "output_type": "stream",
     "text": [
      "100%|█████████████████████████████████████████████████████████████████████████████████████████████████████████████████████████████████████████████████████████████████████████████████████| 20000/20000 [00:14<00:00, 1393.86it/s]\n",
      "  0%|                                                                                                                                                                                           | 1/20000 [00:00<36:53,  9.04it/s]"
     ]
    },
    {
     "name": "stdout",
     "output_type": "stream",
     "text": [
      "Example target: [0. 1.]\n",
      "Example prediction: [0.7619, 0.2381]\n",
      "Epoch 152 Training Loss: 0.5053 Training Accuracy: 0.7456 Val Loss: 0.5168 Val Accuracy: 0.7369\n"
     ]
    },
    {
     "name": "stderr",
     "output_type": "stream",
     "text": [
      "100%|█████████████████████████████████████████████████████████████████████████████████████████████████████████████████████████████████████████████████████████████████████████████████████| 20000/20000 [00:14<00:00, 1394.73it/s]\n",
      "  0%|                                                                                                                                                                                           | 1/20000 [00:00<40:53,  8.15it/s]"
     ]
    },
    {
     "name": "stdout",
     "output_type": "stream",
     "text": [
      "Example target: [1. 0.]\n",
      "Example prediction: [0.6748, 0.3252]\n",
      "Epoch 153 Training Loss: 0.5053 Training Accuracy: 0.7456 Val Loss: 0.5169 Val Accuracy: 0.7369\n"
     ]
    },
    {
     "name": "stderr",
     "output_type": "stream",
     "text": [
      "100%|█████████████████████████████████████████████████████████████████████████████████████████████████████████████████████████████████████████████████████████████████████████████████████| 20000/20000 [00:14<00:00, 1395.70it/s]\n",
      "  0%|                                                                                                                                                                                           | 1/20000 [00:00<36:14,  9.20it/s]"
     ]
    },
    {
     "name": "stdout",
     "output_type": "stream",
     "text": [
      "Example target: [0. 1.]\n",
      "Example prediction: [0.5161, 0.4839]\n",
      "Epoch 154 Training Loss: 0.5053 Training Accuracy: 0.7458 Val Loss: 0.5169 Val Accuracy: 0.737\n"
     ]
    },
    {
     "name": "stderr",
     "output_type": "stream",
     "text": [
      "100%|█████████████████████████████████████████████████████████████████████████████████████████████████████████████████████████████████████████████████████████████████████████████████████| 20000/20000 [00:14<00:00, 1400.58it/s]\n",
      "  0%|                                                                                                                                                                                           | 1/20000 [00:00<36:54,  9.03it/s]"
     ]
    },
    {
     "name": "stdout",
     "output_type": "stream",
     "text": [
      "Example target: [1. 0.]\n",
      "Example prediction: [0.654, 0.346]\n",
      "Epoch 155 Training Loss: 0.5053 Training Accuracy: 0.7457 Val Loss: 0.5169 Val Accuracy: 0.7371\n"
     ]
    },
    {
     "name": "stderr",
     "output_type": "stream",
     "text": [
      "100%|█████████████████████████████████████████████████████████████████████████████████████████████████████████████████████████████████████████████████████████████████████████████████████| 20000/20000 [00:14<00:00, 1412.22it/s]\n",
      "  0%|                                                                                                                                                                                           | 1/20000 [00:00<38:53,  8.57it/s]"
     ]
    },
    {
     "name": "stdout",
     "output_type": "stream",
     "text": [
      "Example target: [0. 1.]\n",
      "Example prediction: [0.2729, 0.7271]\n",
      "Epoch 156 Training Loss: 0.5053 Training Accuracy: 0.7457 Val Loss: 0.517 Val Accuracy: 0.7368\n"
     ]
    },
    {
     "name": "stderr",
     "output_type": "stream",
     "text": [
      "100%|█████████████████████████████████████████████████████████████████████████████████████████████████████████████████████████████████████████████████████████████████████████████████████| 20000/20000 [00:14<00:00, 1394.25it/s]\n",
      "  0%|                                                                                                                                                                                           | 1/20000 [00:00<39:32,  8.43it/s]"
     ]
    },
    {
     "name": "stdout",
     "output_type": "stream",
     "text": [
      "Example target: [0. 1.]\n",
      "Example prediction: [0.1552, 0.8448]\n",
      "Epoch 157 Training Loss: 0.5053 Training Accuracy: 0.7458 Val Loss: 0.5169 Val Accuracy: 0.7373\n"
     ]
    },
    {
     "name": "stderr",
     "output_type": "stream",
     "text": [
      "100%|█████████████████████████████████████████████████████████████████████████████████████████████████████████████████████████████████████████████████████████████████████████████████████| 20000/20000 [00:14<00:00, 1391.64it/s]\n",
      "  0%|                                                                                                                                                                                           | 1/20000 [00:00<36:53,  9.03it/s]"
     ]
    },
    {
     "name": "stdout",
     "output_type": "stream",
     "text": [
      "Example target: [1. 0.]\n",
      "Example prediction: [0.684, 0.316]\n",
      "Epoch 158 Training Loss: 0.5053 Training Accuracy: 0.7456 Val Loss: 0.5169 Val Accuracy: 0.737\n"
     ]
    },
    {
     "name": "stderr",
     "output_type": "stream",
     "text": [
      "100%|█████████████████████████████████████████████████████████████████████████████████████████████████████████████████████████████████████████████████████████████████████████████████████| 20000/20000 [00:14<00:00, 1395.51it/s]\n",
      "  0%|                                                                                                                                                                                           | 1/20000 [00:00<38:14,  8.72it/s]"
     ]
    },
    {
     "name": "stdout",
     "output_type": "stream",
     "text": [
      "Example target: [0. 1.]\n",
      "Example prediction: [0.4487, 0.5513]\n",
      "Epoch 159 Training Loss: 0.5053 Training Accuracy: 0.7456 Val Loss: 0.5168 Val Accuracy: 0.7371\n"
     ]
    },
    {
     "name": "stderr",
     "output_type": "stream",
     "text": [
      "100%|█████████████████████████████████████████████████████████████████████████████████████████████████████████████████████████████████████████████████████████████████████████████████████| 20000/20000 [00:14<00:00, 1406.67it/s]\n",
      "  0%|                                                                                                                                                                                           | 1/20000 [00:00<38:34,  8.64it/s]"
     ]
    },
    {
     "name": "stdout",
     "output_type": "stream",
     "text": [
      "Example target: [1. 0.]\n",
      "Example prediction: [0.2955, 0.7045]\n",
      "Epoch 160 Training Loss: 0.5052 Training Accuracy: 0.7457 Val Loss: 0.5169 Val Accuracy: 0.7369\n"
     ]
    },
    {
     "name": "stderr",
     "output_type": "stream",
     "text": [
      "100%|█████████████████████████████████████████████████████████████████████████████████████████████████████████████████████████████████████████████████████████████████████████████████████| 20000/20000 [00:14<00:00, 1409.41it/s]\n",
      "  0%|                                                                                                                                                                                           | 1/20000 [00:00<34:54,  9.55it/s]"
     ]
    },
    {
     "name": "stdout",
     "output_type": "stream",
     "text": [
      "Example target: [0. 1.]\n",
      "Example prediction: [0.1432, 0.8568]\n",
      "Epoch 161 Training Loss: 0.5052 Training Accuracy: 0.7456 Val Loss: 0.5169 Val Accuracy: 0.7368\n"
     ]
    },
    {
     "name": "stderr",
     "output_type": "stream",
     "text": [
      "100%|█████████████████████████████████████████████████████████████████████████████████████████████████████████████████████████████████████████████████████████████████████████████████████| 20000/20000 [00:14<00:00, 1408.74it/s]\n",
      "  0%|                                                                                                                                                                                           | 1/20000 [00:00<37:14,  8.95it/s]"
     ]
    },
    {
     "name": "stdout",
     "output_type": "stream",
     "text": [
      "Example target: [1. 0.]\n",
      "Example prediction: [0.7809, 0.2191]\n",
      "Epoch 162 Training Loss: 0.5052 Training Accuracy: 0.7457 Val Loss: 0.5169 Val Accuracy: 0.7369\n"
     ]
    },
    {
     "name": "stderr",
     "output_type": "stream",
     "text": [
      "100%|█████████████████████████████████████████████████████████████████████████████████████████████████████████████████████████████████████████████████████████████████████████████████████| 20000/20000 [00:14<00:00, 1410.42it/s]\n",
      "  0%|                                                                                                                                                                                           | 1/20000 [00:00<35:33,  9.37it/s]"
     ]
    },
    {
     "name": "stdout",
     "output_type": "stream",
     "text": [
      "Example target: [1. 0.]\n",
      "Example prediction: [0.7004, 0.2996]\n",
      "Epoch 163 Training Loss: 0.5052 Training Accuracy: 0.7457 Val Loss: 0.5169 Val Accuracy: 0.7371\n"
     ]
    },
    {
     "name": "stderr",
     "output_type": "stream",
     "text": [
      "100%|█████████████████████████████████████████████████████████████████████████████████████████████████████████████████████████████████████████████████████████████████████████████████████| 20000/20000 [00:14<00:00, 1396.48it/s]\n",
      "  0%|                                                                                                                                                                                           | 1/20000 [00:00<35:54,  9.28it/s]"
     ]
    },
    {
     "name": "stdout",
     "output_type": "stream",
     "text": [
      "Example target: [1. 0.]\n",
      "Example prediction: [0.2282, 0.7718]\n",
      "Epoch 164 Training Loss: 0.5052 Training Accuracy: 0.7458 Val Loss: 0.5169 Val Accuracy: 0.737\n"
     ]
    },
    {
     "name": "stderr",
     "output_type": "stream",
     "text": [
      "100%|█████████████████████████████████████████████████████████████████████████████████████████████████████████████████████████████████████████████████████████████████████████████████████| 20000/20000 [00:14<00:00, 1395.31it/s]\n",
      "  0%|                                                                                                                                                                                           | 1/20000 [00:00<37:33,  8.87it/s]"
     ]
    },
    {
     "name": "stdout",
     "output_type": "stream",
     "text": [
      "Example target: [0. 1.]\n",
      "Example prediction: [0.7813, 0.2187]\n",
      "Epoch 165 Training Loss: 0.5052 Training Accuracy: 0.7458 Val Loss: 0.5169 Val Accuracy: 0.7366\n"
     ]
    },
    {
     "name": "stderr",
     "output_type": "stream",
     "text": [
      "100%|█████████████████████████████████████████████████████████████████████████████████████████████████████████████████████████████████████████████████████████████████████████████████████| 20000/20000 [00:14<00:00, 1402.51it/s]\n",
      "  0%|                                                                                                                                                                                           | 1/20000 [00:00<36:34,  9.12it/s]"
     ]
    },
    {
     "name": "stdout",
     "output_type": "stream",
     "text": [
      "Example target: [0. 1.]\n",
      "Example prediction: [0.0818, 0.9182]\n",
      "Epoch 166 Training Loss: 0.5052 Training Accuracy: 0.7457 Val Loss: 0.5169 Val Accuracy: 0.7369\n"
     ]
    },
    {
     "name": "stderr",
     "output_type": "stream",
     "text": [
      "100%|█████████████████████████████████████████████████████████████████████████████████████████████████████████████████████████████████████████████████████████████████████████████████████| 20000/20000 [00:14<00:00, 1405.96it/s]\n",
      "  0%|                                                                                                                                                                                           | 1/20000 [00:00<36:14,  9.20it/s]"
     ]
    },
    {
     "name": "stdout",
     "output_type": "stream",
     "text": [
      "Example target: [0. 1.]\n",
      "Example prediction: [0.4409, 0.5591]\n",
      "Epoch 167 Training Loss: 0.5052 Training Accuracy: 0.7458 Val Loss: 0.5169 Val Accuracy: 0.737\n"
     ]
    },
    {
     "name": "stderr",
     "output_type": "stream",
     "text": [
      "100%|█████████████████████████████████████████████████████████████████████████████████████████████████████████████████████████████████████████████████████████████████████████████████████| 20000/20000 [00:14<00:00, 1408.44it/s]\n",
      "  0%|                                                                                                                                                                                           | 1/20000 [00:00<36:34,  9.11it/s]"
     ]
    },
    {
     "name": "stdout",
     "output_type": "stream",
     "text": [
      "Example target: [0. 1.]\n",
      "Example prediction: [0.3913, 0.6087]\n",
      "Epoch 168 Training Loss: 0.5052 Training Accuracy: 0.7458 Val Loss: 0.5169 Val Accuracy: 0.7369\n"
     ]
    },
    {
     "name": "stderr",
     "output_type": "stream",
     "text": [
      "100%|█████████████████████████████████████████████████████████████████████████████████████████████████████████████████████████████████████████████████████████████████████████████████████| 20000/20000 [00:14<00:00, 1405.29it/s]\n",
      "  0%|                                                                                                                                                                                           | 1/20000 [00:00<38:13,  8.72it/s]"
     ]
    },
    {
     "name": "stdout",
     "output_type": "stream",
     "text": [
      "Example target: [0. 1.]\n",
      "Example prediction: [0.2194, 0.7806]\n",
      "Epoch 169 Training Loss: 0.5052 Training Accuracy: 0.7458 Val Loss: 0.5168 Val Accuracy: 0.737\n"
     ]
    },
    {
     "name": "stderr",
     "output_type": "stream",
     "text": [
      "100%|█████████████████████████████████████████████████████████████████████████████████████████████████████████████████████████████████████████████████████████████████████████████████████| 20000/20000 [00:14<00:00, 1407.55it/s]\n",
      "  0%|                                                                                                                                                                                           | 1/20000 [00:00<38:14,  8.72it/s]"
     ]
    },
    {
     "name": "stdout",
     "output_type": "stream",
     "text": [
      "Example target: [1. 0.]\n",
      "Example prediction: [0.9032, 0.0968]\n",
      "Epoch 170 Training Loss: 0.5052 Training Accuracy: 0.7458 Val Loss: 0.5168 Val Accuracy: 0.7369\n"
     ]
    },
    {
     "name": "stderr",
     "output_type": "stream",
     "text": [
      "100%|█████████████████████████████████████████████████████████████████████████████████████████████████████████████████████████████████████████████████████████████████████████████████████| 20000/20000 [00:14<00:00, 1386.44it/s]\n",
      "  0%|                                                                                                                                                                                           | 1/20000 [00:00<36:14,  9.20it/s]"
     ]
    },
    {
     "name": "stdout",
     "output_type": "stream",
     "text": [
      "Example target: [1. 0.]\n",
      "Example prediction: [0.6749, 0.3251]\n",
      "Epoch 171 Training Loss: 0.5052 Training Accuracy: 0.7457 Val Loss: 0.5169 Val Accuracy: 0.737\n"
     ]
    },
    {
     "name": "stderr",
     "output_type": "stream",
     "text": [
      "100%|█████████████████████████████████████████████████████████████████████████████████████████████████████████████████████████████████████████████████████████████████████████████████████| 20000/20000 [00:14<00:00, 1403.12it/s]\n",
      "  0%|                                                                                                                                                                                           | 1/20000 [00:00<35:13,  9.46it/s]"
     ]
    },
    {
     "name": "stdout",
     "output_type": "stream",
     "text": [
      "Example target: [1. 0.]\n",
      "Example prediction: [0.7929, 0.2071]\n",
      "Epoch 172 Training Loss: 0.5052 Training Accuracy: 0.7457 Val Loss: 0.5168 Val Accuracy: 0.7369\n"
     ]
    },
    {
     "name": "stderr",
     "output_type": "stream",
     "text": [
      "100%|█████████████████████████████████████████████████████████████████████████████████████████████████████████████████████████████████████████████████████████████████████████████████████| 20000/20000 [00:14<00:00, 1409.34it/s]\n",
      "  0%|                                                                                                                                                                                           | 1/20000 [00:00<36:13,  9.20it/s]"
     ]
    },
    {
     "name": "stdout",
     "output_type": "stream",
     "text": [
      "Example target: [0. 1.]\n",
      "Example prediction: [0.4949, 0.5051]\n",
      "Epoch 173 Training Loss: 0.5052 Training Accuracy: 0.7458 Val Loss: 0.5169 Val Accuracy: 0.737\n"
     ]
    },
    {
     "name": "stderr",
     "output_type": "stream",
     "text": [
      "100%|█████████████████████████████████████████████████████████████████████████████████████████████████████████████████████████████████████████████████████████████████████████████████████| 20000/20000 [00:14<00:00, 1402.24it/s]\n",
      "  0%|                                                                                                                                                                                           | 1/20000 [00:00<36:53,  9.03it/s]"
     ]
    },
    {
     "name": "stdout",
     "output_type": "stream",
     "text": [
      "Example target: [0. 1.]\n",
      "Example prediction: [0.5107, 0.4893]\n",
      "Epoch 174 Training Loss: 0.5052 Training Accuracy: 0.7459 Val Loss: 0.5169 Val Accuracy: 0.7367\n"
     ]
    },
    {
     "name": "stderr",
     "output_type": "stream",
     "text": [
      "100%|█████████████████████████████████████████████████████████████████████████████████████████████████████████████████████████████████████████████████████████████████████████████████████| 20000/20000 [00:14<00:00, 1357.69it/s]\n",
      "  0%|                                                                                                                                                                                           | 1/20000 [00:00<39:14,  8.50it/s]"
     ]
    },
    {
     "name": "stdout",
     "output_type": "stream",
     "text": [
      "Example target: [0. 1.]\n",
      "Example prediction: [0.0538, 0.9462]\n",
      "Epoch 175 Training Loss: 0.5052 Training Accuracy: 0.7458 Val Loss: 0.5169 Val Accuracy: 0.7372\n"
     ]
    },
    {
     "name": "stderr",
     "output_type": "stream",
     "text": [
      "100%|█████████████████████████████████████████████████████████████████████████████████████████████████████████████████████████████████████████████████████████████████████████████████████| 20000/20000 [00:14<00:00, 1376.84it/s]\n",
      "  0%|                                                                                                                                                                                           | 1/20000 [00:00<40:12,  8.29it/s]"
     ]
    },
    {
     "name": "stdout",
     "output_type": "stream",
     "text": [
      "Example target: [0. 1.]\n",
      "Example prediction: [0.1012, 0.8988]\n",
      "Epoch 176 Training Loss: 0.5052 Training Accuracy: 0.7458 Val Loss: 0.5168 Val Accuracy: 0.7371\n"
     ]
    },
    {
     "name": "stderr",
     "output_type": "stream",
     "text": [
      "100%|█████████████████████████████████████████████████████████████████████████████████████████████████████████████████████████████████████████████████████████████████████████████████████| 20000/20000 [00:14<00:00, 1382.34it/s]\n",
      "  0%|                                                                                                                                                                                           | 1/20000 [00:00<37:24,  8.91it/s]"
     ]
    },
    {
     "name": "stdout",
     "output_type": "stream",
     "text": [
      "Example target: [0. 1.]\n",
      "Example prediction: [0.5883, 0.4117]\n",
      "Epoch 177 Training Loss: 0.5052 Training Accuracy: 0.7458 Val Loss: 0.5169 Val Accuracy: 0.7371\n"
     ]
    },
    {
     "name": "stderr",
     "output_type": "stream",
     "text": [
      "100%|█████████████████████████████████████████████████████████████████████████████████████████████████████████████████████████████████████████████████████████████████████████████████████| 20000/20000 [00:14<00:00, 1409.69it/s]\n",
      "  0%|                                                                                                                                                                                           | 1/20000 [00:00<36:34,  9.11it/s]"
     ]
    },
    {
     "name": "stdout",
     "output_type": "stream",
     "text": [
      "Example target: [0. 1.]\n",
      "Example prediction: [0.519, 0.481]\n",
      "Epoch 178 Training Loss: 0.5052 Training Accuracy: 0.7457 Val Loss: 0.5168 Val Accuracy: 0.7367\n"
     ]
    },
    {
     "name": "stderr",
     "output_type": "stream",
     "text": [
      "100%|█████████████████████████████████████████████████████████████████████████████████████████████████████████████████████████████████████████████████████████████████████████████████████| 20000/20000 [00:14<00:00, 1379.20it/s]\n",
      "  0%|                                                                                                                                                                                           | 1/20000 [00:00<37:20,  8.93it/s]"
     ]
    },
    {
     "name": "stdout",
     "output_type": "stream",
     "text": [
      "Example target: [1. 0.]\n",
      "Example prediction: [0.7693, 0.2307]\n",
      "Epoch 179 Training Loss: 0.5052 Training Accuracy: 0.7458 Val Loss: 0.5169 Val Accuracy: 0.7372\n"
     ]
    },
    {
     "name": "stderr",
     "output_type": "stream",
     "text": [
      "100%|█████████████████████████████████████████████████████████████████████████████████████████████████████████████████████████████████████████████████████████████████████████████████████| 20000/20000 [00:14<00:00, 1397.78it/s]\n",
      "  0%|                                                                                                                                                                                           | 1/20000 [00:00<36:14,  9.20it/s]"
     ]
    },
    {
     "name": "stdout",
     "output_type": "stream",
     "text": [
      "Example target: [0. 1.]\n",
      "Example prediction: [0.3122, 0.6878]\n",
      "Epoch 180 Training Loss: 0.5052 Training Accuracy: 0.7457 Val Loss: 0.5169 Val Accuracy: 0.7368\n"
     ]
    },
    {
     "name": "stderr",
     "output_type": "stream",
     "text": [
      "100%|█████████████████████████████████████████████████████████████████████████████████████████████████████████████████████████████████████████████████████████████████████████████████████| 20000/20000 [00:14<00:00, 1401.70it/s]\n",
      "  0%|                                                                                                                                                                                           | 1/20000 [00:00<37:33,  8.87it/s]"
     ]
    },
    {
     "name": "stdout",
     "output_type": "stream",
     "text": [
      "Example target: [0. 1.]\n",
      "Example prediction: [0.3229, 0.6771]\n",
      "Epoch 181 Training Loss: 0.5052 Training Accuracy: 0.7458 Val Loss: 0.5169 Val Accuracy: 0.737\n"
     ]
    },
    {
     "name": "stderr",
     "output_type": "stream",
     "text": [
      "100%|█████████████████████████████████████████████████████████████████████████████████████████████████████████████████████████████████████████████████████████████████████████████████████| 20000/20000 [00:14<00:00, 1392.80it/s]\n",
      "  0%|                                                                                                                                                                                           | 1/20000 [00:00<39:53,  8.35it/s]"
     ]
    },
    {
     "name": "stdout",
     "output_type": "stream",
     "text": [
      "Example target: [1. 0.]\n",
      "Example prediction: [0.6974, 0.3026]\n",
      "Epoch 182 Training Loss: 0.5052 Training Accuracy: 0.7457 Val Loss: 0.5169 Val Accuracy: 0.737\n"
     ]
    },
    {
     "name": "stderr",
     "output_type": "stream",
     "text": [
      "100%|█████████████████████████████████████████████████████████████████████████████████████████████████████████████████████████████████████████████████████████████████████████████████████| 20000/20000 [00:14<00:00, 1397.34it/s]\n",
      "  0%|                                                                                                                                                                                           | 1/20000 [00:00<35:54,  9.28it/s]"
     ]
    },
    {
     "name": "stdout",
     "output_type": "stream",
     "text": [
      "Example target: [0. 1.]\n",
      "Example prediction: [0.5296, 0.4704]\n",
      "Epoch 183 Training Loss: 0.5052 Training Accuracy: 0.7458 Val Loss: 0.5169 Val Accuracy: 0.737\n"
     ]
    },
    {
     "name": "stderr",
     "output_type": "stream",
     "text": [
      "100%|█████████████████████████████████████████████████████████████████████████████████████████████████████████████████████████████████████████████████████████████████████████████████████| 20000/20000 [00:14<00:00, 1388.31it/s]\n",
      "  0%|                                                                                                                                                                                           | 1/20000 [00:00<35:45,  9.32it/s]"
     ]
    },
    {
     "name": "stdout",
     "output_type": "stream",
     "text": [
      "Example target: [1. 0.]\n",
      "Example prediction: [0.9924, 0.0076]\n",
      "Epoch 184 Training Loss: 0.5052 Training Accuracy: 0.7458 Val Loss: 0.5169 Val Accuracy: 0.7369\n"
     ]
    },
    {
     "name": "stderr",
     "output_type": "stream",
     "text": [
      "100%|█████████████████████████████████████████████████████████████████████████████████████████████████████████████████████████████████████████████████████████████████████████████████████| 20000/20000 [00:14<00:00, 1400.82it/s]\n",
      "  0%|                                                                                                                                                                                           | 1/20000 [00:00<38:00,  8.77it/s]"
     ]
    },
    {
     "name": "stdout",
     "output_type": "stream",
     "text": [
      "Example target: [0. 1.]\n",
      "Example prediction: [0.2627, 0.7373]\n",
      "Epoch 185 Training Loss: 0.5052 Training Accuracy: 0.7459 Val Loss: 0.5169 Val Accuracy: 0.737\n"
     ]
    },
    {
     "name": "stderr",
     "output_type": "stream",
     "text": [
      "100%|█████████████████████████████████████████████████████████████████████████████████████████████████████████████████████████████████████████████████████████████████████████████████████| 20000/20000 [00:14<00:00, 1398.09it/s]\n",
      "  0%|                                                                                                                                                                                           | 1/20000 [00:00<37:45,  8.83it/s]"
     ]
    },
    {
     "name": "stdout",
     "output_type": "stream",
     "text": [
      "Example target: [1. 0.]\n",
      "Example prediction: [0.3986, 0.6014]\n",
      "Epoch 186 Training Loss: 0.5051 Training Accuracy: 0.7458 Val Loss: 0.5169 Val Accuracy: 0.7369\n"
     ]
    },
    {
     "name": "stderr",
     "output_type": "stream",
     "text": [
      "100%|█████████████████████████████████████████████████████████████████████████████████████████████████████████████████████████████████████████████████████████████████████████████████████| 20000/20000 [00:14<00:00, 1372.19it/s]\n",
      "  0%|                                                                                                                                                                                           | 1/20000 [00:00<39:44,  8.39it/s]"
     ]
    },
    {
     "name": "stdout",
     "output_type": "stream",
     "text": [
      "Example target: [1. 0.]\n",
      "Example prediction: [0.6577, 0.3423]\n",
      "Epoch 187 Training Loss: 0.5051 Training Accuracy: 0.7458 Val Loss: 0.5169 Val Accuracy: 0.737\n"
     ]
    },
    {
     "name": "stderr",
     "output_type": "stream",
     "text": [
      "100%|█████████████████████████████████████████████████████████████████████████████████████████████████████████████████████████████████████████████████████████████████████████████████████| 20000/20000 [00:14<00:00, 1396.65it/s]\n",
      "  0%|                                                                                                                                                                                           | 1/20000 [00:00<37:33,  8.87it/s]"
     ]
    },
    {
     "name": "stdout",
     "output_type": "stream",
     "text": [
      "Example target: [0. 1.]\n",
      "Example prediction: [0.712, 0.288]\n",
      "Epoch 188 Training Loss: 0.5051 Training Accuracy: 0.7457 Val Loss: 0.5169 Val Accuracy: 0.737\n"
     ]
    },
    {
     "name": "stderr",
     "output_type": "stream",
     "text": [
      "100%|█████████████████████████████████████████████████████████████████████████████████████████████████████████████████████████████████████████████████████████████████████████████████████| 20000/20000 [00:14<00:00, 1400.93it/s]\n",
      "  0%|                                                                                                                                                                                           | 1/20000 [00:00<36:14,  9.20it/s]"
     ]
    },
    {
     "name": "stdout",
     "output_type": "stream",
     "text": [
      "Example target: [0. 1.]\n",
      "Example prediction: [0.2674, 0.7326]\n",
      "Epoch 189 Training Loss: 0.5051 Training Accuracy: 0.7458 Val Loss: 0.5169 Val Accuracy: 0.7371\n"
     ]
    },
    {
     "name": "stderr",
     "output_type": "stream",
     "text": [
      "100%|█████████████████████████████████████████████████████████████████████████████████████████████████████████████████████████████████████████████████████████████████████████████████████| 20000/20000 [00:14<00:00, 1395.23it/s]\n",
      "  0%|                                                                                                                                                                                           | 1/20000 [00:00<37:33,  8.88it/s]"
     ]
    },
    {
     "name": "stdout",
     "output_type": "stream",
     "text": [
      "Example target: [1. 0.]\n",
      "Example prediction: [0.3815, 0.6185]\n",
      "Epoch 190 Training Loss: 0.5051 Training Accuracy: 0.7457 Val Loss: 0.5169 Val Accuracy: 0.737\n"
     ]
    },
    {
     "name": "stderr",
     "output_type": "stream",
     "text": [
      "100%|█████████████████████████████████████████████████████████████████████████████████████████████████████████████████████████████████████████████████████████████████████████████████████| 20000/20000 [00:14<00:00, 1400.62it/s]\n",
      "  0%|                                                                                                                                                                                           | 1/20000 [00:00<36:55,  9.03it/s]"
     ]
    },
    {
     "name": "stdout",
     "output_type": "stream",
     "text": [
      "Example target: [0. 1.]\n",
      "Example prediction: [0.1837, 0.8163]\n",
      "Epoch 191 Training Loss: 0.5051 Training Accuracy: 0.7459 Val Loss: 0.5169 Val Accuracy: 0.7371\n"
     ]
    },
    {
     "name": "stderr",
     "output_type": "stream",
     "text": [
      "100%|█████████████████████████████████████████████████████████████████████████████████████████████████████████████████████████████████████████████████████████████████████████████████████| 20000/20000 [00:14<00:00, 1401.34it/s]\n",
      "  0%|                                                                                                                                                                                           | 1/20000 [00:00<37:44,  8.83it/s]"
     ]
    },
    {
     "name": "stdout",
     "output_type": "stream",
     "text": [
      "Example target: [0. 1.]\n",
      "Example prediction: [0.2182, 0.7818]\n",
      "Epoch 192 Training Loss: 0.5051 Training Accuracy: 0.7459 Val Loss: 0.5169 Val Accuracy: 0.7369\n"
     ]
    },
    {
     "name": "stderr",
     "output_type": "stream",
     "text": [
      "100%|█████████████████████████████████████████████████████████████████████████████████████████████████████████████████████████████████████████████████████████████████████████████████████| 20000/20000 [00:14<00:00, 1385.88it/s]\n",
      "  0%|                                                                                                                                                                                           | 1/20000 [00:00<36:53,  9.03it/s]"
     ]
    },
    {
     "name": "stdout",
     "output_type": "stream",
     "text": [
      "Example target: [1. 0.]\n",
      "Example prediction: [0.829, 0.171]\n",
      "Epoch 193 Training Loss: 0.5051 Training Accuracy: 0.7458 Val Loss: 0.5168 Val Accuracy: 0.7369\n"
     ]
    },
    {
     "name": "stderr",
     "output_type": "stream",
     "text": [
      "100%|█████████████████████████████████████████████████████████████████████████████████████████████████████████████████████████████████████████████████████████████████████████████████████| 20000/20000 [00:14<00:00, 1399.84it/s]\n",
      "  0%|                                                                                                                                                                                           | 1/20000 [00:00<38:54,  8.57it/s]"
     ]
    },
    {
     "name": "stdout",
     "output_type": "stream",
     "text": [
      "Example target: [0. 1.]\n",
      "Example prediction: [0.6237, 0.3763]\n",
      "Epoch 194 Training Loss: 0.5051 Training Accuracy: 0.7458 Val Loss: 0.5169 Val Accuracy: 0.7369\n"
     ]
    },
    {
     "name": "stderr",
     "output_type": "stream",
     "text": [
      "100%|█████████████████████████████████████████████████████████████████████████████████████████████████████████████████████████████████████████████████████████████████████████████████████| 20000/20000 [00:14<00:00, 1402.93it/s]\n",
      "  0%|                                                                                                                                                                                           | 1/20000 [00:00<39:13,  8.50it/s]"
     ]
    },
    {
     "name": "stdout",
     "output_type": "stream",
     "text": [
      "Example target: [1. 0.]\n",
      "Example prediction: [0.5235, 0.4765]\n",
      "Epoch 195 Training Loss: 0.5051 Training Accuracy: 0.7458 Val Loss: 0.5169 Val Accuracy: 0.7369\n"
     ]
    },
    {
     "name": "stderr",
     "output_type": "stream",
     "text": [
      "100%|█████████████████████████████████████████████████████████████████████████████████████████████████████████████████████████████████████████████████████████████████████████████████████| 20000/20000 [00:14<00:00, 1382.30it/s]\n",
      "  0%|                                                                                                                                                                                           | 1/20000 [00:00<35:54,  9.28it/s]"
     ]
    },
    {
     "name": "stdout",
     "output_type": "stream",
     "text": [
      "Example target: [1. 0.]\n",
      "Example prediction: [0.2673, 0.7327]\n",
      "Epoch 196 Training Loss: 0.5051 Training Accuracy: 0.7459 Val Loss: 0.5169 Val Accuracy: 0.7369\n"
     ]
    },
    {
     "name": "stderr",
     "output_type": "stream",
     "text": [
      "100%|█████████████████████████████████████████████████████████████████████████████████████████████████████████████████████████████████████████████████████████████████████████████████████| 20000/20000 [00:14<00:00, 1401.96it/s]\n",
      "  0%|                                                                                                                                                                                           | 1/20000 [00:00<35:54,  9.28it/s]"
     ]
    },
    {
     "name": "stdout",
     "output_type": "stream",
     "text": [
      "Example target: [0. 1.]\n",
      "Example prediction: [0.158, 0.842]\n",
      "Epoch 197 Training Loss: 0.5051 Training Accuracy: 0.7458 Val Loss: 0.5169 Val Accuracy: 0.7368\n"
     ]
    },
    {
     "name": "stderr",
     "output_type": "stream",
     "text": [
      "100%|█████████████████████████████████████████████████████████████████████████████████████████████████████████████████████████████████████████████████████████████████████████████████████| 20000/20000 [00:14<00:00, 1409.93it/s]\n",
      "  0%|                                                                                                                                                                                           | 1/20000 [00:00<35:54,  9.28it/s]"
     ]
    },
    {
     "name": "stdout",
     "output_type": "stream",
     "text": [
      "Example target: [1. 0.]\n",
      "Example prediction: [0.1043, 0.8957]\n",
      "Epoch 198 Training Loss: 0.5051 Training Accuracy: 0.7458 Val Loss: 0.5169 Val Accuracy: 0.7368\n"
     ]
    },
    {
     "name": "stderr",
     "output_type": "stream",
     "text": [
      "100%|█████████████████████████████████████████████████████████████████████████████████████████████████████████████████████████████████████████████████████████████████████████████████████| 20000/20000 [00:14<00:00, 1395.87it/s]\n"
     ]
    },
    {
     "name": "stdout",
     "output_type": "stream",
     "text": [
      "Example target: [1. 0.]\n",
      "Example prediction: [0.2205, 0.7795]\n",
      "Epoch 199 Training Loss: 0.5051 Training Accuracy: 0.7458 Val Loss: 0.5169 Val Accuracy: 0.7369\n"
     ]
    }
   ],
   "source": [
    "\"\"\"\n",
    "Author: Sophia Sanborn\n",
    "Institution: UC Berkeley\n",
    "Date: Spring 2020\n",
    "Course: CS189/289A\n",
    "Website: github.com/sophiaas\n",
    "\"\"\"\n",
    "\n",
    "\"\"\"\n",
    "Step 1: Define layer arguments\n",
    "\n",
    "- Define the arguments for each layer in an attribute dictionary (AttrDict).\n",
    "- An attribute dictionary is exactly like a dictionary, except you can access the values as attributes rather than keys...for cleaner code :)\n",
    "- See layers.py for the arguments expected by each layer type.\n",
    "\"\"\"\n",
    "\n",
    "from neural_networks.utils.data_structures import AttrDict\n",
    "\n",
    "layer_1 = AttrDict(\n",
    "    {\n",
    "        \"name\": \"fully_connected\",\n",
    "        \"activation\": \"relu\",\n",
    "        \"weight_init\": \"xavier_uniform\",\n",
    "        \"n_out\": 50,\n",
    "    }\n",
    ")\n",
    "\n",
    "layer_2 = AttrDict(\n",
    "    {\n",
    "        \"name\": \"fully_connected\",\n",
    "        \"activation\": \"relu\",\n",
    "        \"weight_init\": \"xavier_uniform\",\n",
    "        \"n_out\": 30,\n",
    "    }\n",
    ")\n",
    "\n",
    "layer_3 = AttrDict(\n",
    "    {\n",
    "        \"name\": \"fully_connected\",\n",
    "        \"activation\": \"relu\",\n",
    "        \"weight_init\": \"xavier_uniform\",\n",
    "        \"n_out\": 15,\n",
    "    }\n",
    ")\n",
    "\n",
    "layer_4 = AttrDict(\n",
    "    {\n",
    "        \"name\": \"fully_connected\",\n",
    "        \"activation\": \"relu\",\n",
    "        \"weight_init\": \"xavier_uniform\",\n",
    "        \"n_out\": 10,\n",
    "    }\n",
    ")\n",
    "\n",
    "layer_out = AttrDict({\n",
    "    \"name\": \"fully_connected\",\n",
    "    \"activation\": \"softmax\",\n",
    "    \"weight_init\": \"xavier_uniform\",\n",
    "    \"n_out\": None\n",
    "    # n_out is not defined for last layer. This will be set by the dataset.\n",
    "}\n",
    ")\n",
    "\n",
    "\"\"\"\n",
    "Step 2: Collect layer argument dictionaries into a list.\n",
    "\n",
    "- This defines the order of layers in the network.\n",
    "\"\"\"\n",
    "\n",
    "layer_args = [layer_1, layer_2, layer_3, layer_4, layer_out]\n",
    "\n",
    "\"\"\"\n",
    "Step 3: Define model, data, and logger arguments\n",
    "\n",
    "- The list of layer_args is passed to the model initializer.\n",
    "\"\"\"\n",
    "\n",
    "optimizer_args = AttrDict(\n",
    "    {\n",
    "        \"name\": \"SGD\",\n",
    "        \"lr\": 0.05,\n",
    "        \"lr_scheduler\": \"exponential\",\n",
    "        \"lr_decay\": 0.8,\n",
    "        \"stage_length\": 5,\n",
    "        \"staircase\": 1,\n",
    "        \"clip_norm\": 1.0,\n",
    "        \"momentum\": 0.9,\n",
    "    }\n",
    ")\n",
    "\n",
    "model_args = AttrDict(\n",
    "    {\n",
    "        \"name\": \"higgs_model\",\n",
    "        \"loss\": 'cross_entropy',\n",
    "        \"layer_args\": layer_args,\n",
    "        \"optimizer_args\": optimizer_args,\n",
    "        \"seed\": 24\n",
    "    }\n",
    ")\n",
    "\n",
    "data_args = AttrDict(\n",
    "    {\n",
    "        \"name\": \"higgs\",  # YOUR CODE HERE, name of dataset, e.g. \"iris\"\n",
    "        \"batch_size\": 25\n",
    "    }\n",
    ")\n",
    "\n",
    "log_args = AttrDict(\n",
    "    {\"save\": True, \"plot\": True, \"save_dir\": \"experiments/\", }\n",
    ")\n",
    "\n",
    "\"\"\"\n",
    "Step 4: Set random seed\n",
    "\n",
    "Warning! Random seed must be set before importing other modules.\n",
    "\"\"\"\n",
    "\n",
    "import numpy as np\n",
    "\n",
    "np.random.seed(model_args.seed)\n",
    "\n",
    "\"\"\"\n",
    "Step 5: Define model name for saving\n",
    "\"\"\"\n",
    "\n",
    "model_name = model_args.name  # YOUR CODE HERE\n",
    "\n",
    "\"\"\"\n",
    "Step 6: Initialize logger, model, and dataset\n",
    "\n",
    "- model_name, model_args, and data_args are passed to the logger for saving\n",
    "- The logger is passed to the model.\n",
    "\"\"\"\n",
    "\n",
    "from neural_networks.models import initialize_model\n",
    "from neural_networks.datasets import initialize_dataset\n",
    "from neural_networks.logs import Logger\n",
    "\n",
    "logger = Logger(\n",
    "    model_name=model_name,\n",
    "    model_args=model_args,\n",
    "    data_args=data_args,\n",
    "    save=log_args.save,\n",
    "    plot=log_args.plot,\n",
    "    save_dir=log_args.save_dir,\n",
    ")\n",
    "\n",
    "model = initialize_model(\n",
    "    name=model_args.name,\n",
    "    loss=model_args.loss,\n",
    "    layer_args=model_args.layer_args,\n",
    "    optimizer_args=model_args.optimizer_args,\n",
    "    logger=logger,\n",
    ")\n",
    "\n",
    "dataset = initialize_dataset(\n",
    "    name=data_args.name,\n",
    "    batch_size=data_args.batch_size,\n",
    ")\n",
    "\n",
    "\"\"\"\n",
    "Step 7: Train model!\n",
    "\"\"\"\n",
    "\n",
    "epochs = 200\n",
    "\n",
    "print(\n",
    "    \"Training {} neural network on {} with {} for {} epochs...\".format(\n",
    "        model_args.name, data_args.name, optimizer_args.name, epochs\n",
    "    )\n",
    ")\n",
    "\n",
    "print(\"Optimizer:\")\n",
    "print(optimizer_args)\n",
    "\n",
    "final_results = model.train(dataset, epochs=epochs)"
   ]
  },
  {
   "cell_type": "code",
   "execution_count": 20,
   "metadata": {},
   "outputs": [
    {
     "data": {
      "text/html": [
       "<div>\n",
       "<style scoped>\n",
       "    .dataframe tbody tr th:only-of-type {\n",
       "        vertical-align: middle;\n",
       "    }\n",
       "\n",
       "    .dataframe tbody tr th {\n",
       "        vertical-align: top;\n",
       "    }\n",
       "\n",
       "    .dataframe thead th {\n",
       "        text-align: right;\n",
       "    }\n",
       "</style>\n",
       "<table border=\"1\" class=\"dataframe\">\n",
       "  <thead>\n",
       "    <tr style=\"text-align: right;\">\n",
       "      <th></th>\n",
       "      <th>Id</th>\n",
       "      <th>Category</th>\n",
       "    </tr>\n",
       "  </thead>\n",
       "  <tbody>\n",
       "    <tr>\n",
       "      <th>0</th>\n",
       "      <td>0</td>\n",
       "      <td>1</td>\n",
       "    </tr>\n",
       "    <tr>\n",
       "      <th>1</th>\n",
       "      <td>1</td>\n",
       "      <td>0</td>\n",
       "    </tr>\n",
       "    <tr>\n",
       "      <th>2</th>\n",
       "      <td>2</td>\n",
       "      <td>1</td>\n",
       "    </tr>\n",
       "    <tr>\n",
       "      <th>3</th>\n",
       "      <td>3</td>\n",
       "      <td>0</td>\n",
       "    </tr>\n",
       "    <tr>\n",
       "      <th>4</th>\n",
       "      <td>4</td>\n",
       "      <td>1</td>\n",
       "    </tr>\n",
       "    <tr>\n",
       "      <th>...</th>\n",
       "      <td>...</td>\n",
       "      <td>...</td>\n",
       "    </tr>\n",
       "    <tr>\n",
       "      <th>99995</th>\n",
       "      <td>99995</td>\n",
       "      <td>1</td>\n",
       "    </tr>\n",
       "    <tr>\n",
       "      <th>99996</th>\n",
       "      <td>99996</td>\n",
       "      <td>1</td>\n",
       "    </tr>\n",
       "    <tr>\n",
       "      <th>99997</th>\n",
       "      <td>99997</td>\n",
       "      <td>0</td>\n",
       "    </tr>\n",
       "    <tr>\n",
       "      <th>99998</th>\n",
       "      <td>99998</td>\n",
       "      <td>1</td>\n",
       "    </tr>\n",
       "    <tr>\n",
       "      <th>99999</th>\n",
       "      <td>99999</td>\n",
       "      <td>0</td>\n",
       "    </tr>\n",
       "  </tbody>\n",
       "</table>\n",
       "<p>100000 rows × 2 columns</p>\n",
       "</div>"
      ],
      "text/plain": [
       "          Id  Category\n",
       "0          0         1\n",
       "1          1         0\n",
       "2          2         1\n",
       "3          3         0\n",
       "4          4         1\n",
       "...      ...       ...\n",
       "99995  99995         1\n",
       "99996  99996         1\n",
       "99997  99997         0\n",
       "99998  99998         1\n",
       "99999  99999         0\n",
       "\n",
       "[100000 rows x 2 columns]"
      ]
     },
     "execution_count": 20,
     "metadata": {},
     "output_type": "execute_result"
    }
   ],
   "source": [
    "model.test_kaggle(dataset)  # For Higgs, call test_kaggle() to generate the Kaggle file."
   ]
  },
  {
   "cell_type": "markdown",
   "metadata": {},
   "source": [
    "Kaggle Display Name: Aryan Luthra\n",
    "\n",
    "Kaggle Username: aryanluthra\n",
    "\n",
    "Accuracy: 73.97"
   ]
  },
  {
   "cell_type": "markdown",
   "metadata": {},
   "source": [
    "# 4"
   ]
  },
  {
   "cell_type": "markdown",
   "metadata": {},
   "source": [
    "### Elman Layer Gradient Checker"
   ]
  },
  {
   "cell_type": "code",
   "execution_count": 8,
   "metadata": {},
   "outputs": [
    {
     "name": "stdout",
     "output_type": "stream",
     "text": [
      "Relative error for W: 1.1394367434655622e-10\n",
      "Relative error for U: 7.007989862223091e-11\n",
      "Relative error for b: 3.140889009120107e-10\n"
     ]
    }
   ],
   "source": [
    "%autoreload 2\n",
    "\n",
    "X = np.random.randn(2, 3, 4)\n",
    "dLdY = np.random.randn(2, 5)\n",
    "\n",
    "# initialize a recurrent layer\n",
    "# and perform a forward and backward pass\n",
    "elman_layer = Elman(n_out=5, activation=\"linear\")\n",
    "_ = elman_layer.forward(X)\n",
    "_ = elman_layer.backward(dLdY)\n",
    "\n",
    "# check the gradients w.r.t. each parameter\n",
    "for param in elman_layer.parameters:\n",
    "    # check the gradient\n",
    "    print(\n",
    "        f\"Relative error for {param}:\",\n",
    "        check_gradients(\n",
    "            fn=elman_layer.forward_with_param(param, X),  # the function we are checking\n",
    "            grad=elman_layer.gradients[param],  # the analytically computed gradient\n",
    "            x=elman_layer.parameters[param],  # the variable w.r.t. which we are taking the gradient\n",
    "            dLdf=dLdY,                     # gradient at previous layer\n",
    "        )\n",
    "    )"
   ]
  },
  {
   "cell_type": "code",
   "execution_count": 10,
   "metadata": {
    "scrolled": true
   },
   "outputs": [
    {
     "name": "stderr",
     "output_type": "stream",
     "text": [
      " 16%|███████████████████████████████▏                                                                                                                                                              | 46/280 [00:00<00:00, 456.66it/s]"
     ]
    },
    {
     "name": "stdout",
     "output_type": "stream",
     "text": [
      "Training sinewave_rnn neural network on sinewave with SGD for 100 epochs...\n",
      "Optimizer:\n",
      "{'name': 'SGD', 'lr': 0.01, 'lr_scheduler': 'exponential', 'lr_decay': 0.99, 'stage_length': 1000, 'staircase': True, 'clip_norm': 1.0, 'momentum': 0.9}\n",
      "X (25, 7) Weights:  (7, 1) biases (1, 1)\n"
     ]
    },
    {
     "name": "stderr",
     "output_type": "stream",
     "text": [
      "100%|█████████████████████████████████████████████████████████████████████████████████████████████████████████████████████████████████████████████████████████████████████████████████████████████| 280/280 [00:00<00:00, 457.24it/s]\n",
      " 34%|█████████████████████████████████████████████████████████████████▏                                                                                                                            | 96/280 [00:00<00:00, 470.00it/s]"
     ]
    },
    {
     "name": "stdout",
     "output_type": "stream",
     "text": [
      "Example target: [-0.11116298]\n",
      "Example prediction: [-0.1589]\n",
      "Epoch 0 Training Loss: 0.3186 Training Accuracy: 0.6814 Val Loss: 0.018 Val Accuracy: 0.982\n"
     ]
    },
    {
     "name": "stderr",
     "output_type": "stream",
     "text": [
      "100%|█████████████████████████████████████████████████████████████████████████████████████████████████████████████████████████████████████████████████████████████████████████████████████████████| 280/280 [00:00<00:00, 461.76it/s]\n",
      " 35%|█████████████████████████████████████████████████████████████████▊                                                                                                                            | 97/280 [00:00<00:00, 478.05it/s]"
     ]
    },
    {
     "name": "stdout",
     "output_type": "stream",
     "text": [
      "Example target: [-0.87374566]\n",
      "Example prediction: [-0.8485]\n",
      "Epoch 1 Training Loss: 0.1855 Training Accuracy: 0.8145 Val Loss: 0.317 Val Accuracy: 0.683\n"
     ]
    },
    {
     "name": "stderr",
     "output_type": "stream",
     "text": [
      "100%|█████████████████████████████████████████████████████████████████████████████████████████████████████████████████████████████████████████████████████████████████████████████████████████████| 280/280 [00:00<00:00, 475.04it/s]\n",
      " 18%|█████████████████████████████████▉                                                                                                                                                            | 50/280 [00:00<00:00, 496.37it/s]"
     ]
    },
    {
     "name": "stdout",
     "output_type": "stream",
     "text": [
      "Example target: [-0.60078811]\n",
      "Example prediction: [-0.7518]\n",
      "Epoch 2 Training Loss: 0.0816 Training Accuracy: 0.9184 Val Loss: 0.0524 Val Accuracy: 0.9476\n"
     ]
    },
    {
     "name": "stderr",
     "output_type": "stream",
     "text": [
      "100%|█████████████████████████████████████████████████████████████████████████████████████████████████████████████████████████████████████████████████████████████████████████████████████████████| 280/280 [00:00<00:00, 465.59it/s]\n",
      " 14%|██████████████████████████▍                                                                                                                                                                   | 39/280 [00:00<00:00, 383.38it/s]"
     ]
    },
    {
     "name": "stdout",
     "output_type": "stream",
     "text": [
      "Example target: [-0.79440137]\n",
      "Example prediction: [-0.7675]\n",
      "Epoch 3 Training Loss: 0.078 Training Accuracy: 0.922 Val Loss: 0.1233 Val Accuracy: 0.8767\n"
     ]
    },
    {
     "name": "stderr",
     "output_type": "stream",
     "text": [
      "100%|█████████████████████████████████████████████████████████████████████████████████████████████████████████████████████████████████████████████████████████████████████████████████████████████| 280/280 [00:00<00:00, 401.64it/s]\n",
      " 31%|██████████████████████████████████████████████████████████▎                                                                                                                                   | 86/280 [00:00<00:00, 413.27it/s]"
     ]
    },
    {
     "name": "stdout",
     "output_type": "stream",
     "text": [
      "Example target: [-0.85220596]\n",
      "Example prediction: [-0.5323]\n",
      "Epoch 4 Training Loss: 0.1346 Training Accuracy: 0.8654 Val Loss: 0.132 Val Accuracy: 0.868\n"
     ]
    },
    {
     "name": "stderr",
     "output_type": "stream",
     "text": [
      "100%|█████████████████████████████████████████████████████████████████████████████████████████████████████████████████████████████████████████████████████████████████████████████████████████████| 280/280 [00:00<00:00, 432.59it/s]\n",
      " 16%|██████████████████████████████▌                                                                                                                                                               | 45/280 [00:00<00:00, 442.36it/s]"
     ]
    },
    {
     "name": "stdout",
     "output_type": "stream",
     "text": [
      "Example target: [-0.70466583]\n",
      "Example prediction: [-0.7988]\n",
      "Epoch 5 Training Loss: 0.1209 Training Accuracy: 0.8791 Val Loss: 0.0442 Val Accuracy: 0.9558\n"
     ]
    },
    {
     "name": "stderr",
     "output_type": "stream",
     "text": [
      "100%|█████████████████████████████████████████████████████████████████████████████████████████████████████████████████████████████████████████████████████████████████████████████████████████████| 280/280 [00:00<00:00, 433.92it/s]\n",
      " 32%|█████████████████████████████████████████████████████████████▊                                                                                                                                | 91/280 [00:00<00:00, 458.98it/s]"
     ]
    },
    {
     "name": "stdout",
     "output_type": "stream",
     "text": [
      "Example target: [-0.56380034]\n",
      "Example prediction: [-0.2481]\n",
      "Epoch 6 Training Loss: 0.0717 Training Accuracy: 0.9283 Val Loss: 0.1486 Val Accuracy: 0.8514\n"
     ]
    },
    {
     "name": "stderr",
     "output_type": "stream",
     "text": [
      "100%|█████████████████████████████████████████████████████████████████████████████████████████████████████████████████████████████████████████████████████████████████████████████████████████████| 280/280 [00:00<00:00, 423.45it/s]\n",
      " 32%|████████████████████████████████████████████████████████████▍                                                                                                                                 | 89/280 [00:00<00:00, 447.30it/s]"
     ]
    },
    {
     "name": "stdout",
     "output_type": "stream",
     "text": [
      "Example target: [-0.99674847]\n",
      "Example prediction: [-0.8709]\n",
      "Epoch 7 Training Loss: 0.1474 Training Accuracy: 0.8526 Val Loss: 0.0417 Val Accuracy: 0.9583\n"
     ]
    },
    {
     "name": "stderr",
     "output_type": "stream",
     "text": [
      "100%|█████████████████████████████████████████████████████████████████████████████████████████████████████████████████████████████████████████████████████████████████████████████████████████████| 280/280 [00:00<00:00, 410.45it/s]\n",
      " 16%|███████████████████████████████▏                                                                                                                                                              | 46/280 [00:00<00:00, 456.66it/s]"
     ]
    },
    {
     "name": "stdout",
     "output_type": "stream",
     "text": [
      "Example target: [0.17183236]\n",
      "Example prediction: [-0.8557]\n",
      "Epoch 8 Training Loss: 0.05 Training Accuracy: 0.95 Val Loss: 0.2174 Val Accuracy: 0.7826\n"
     ]
    },
    {
     "name": "stderr",
     "output_type": "stream",
     "text": [
      "100%|█████████████████████████████████████████████████████████████████████████████████████████████████████████████████████████████████████████████████████████████████████████████████████████████| 280/280 [00:00<00:00, 404.54it/s]\n",
      " 32%|████████████████████████████████████████████████████████████▍                                                                                                                                 | 89/280 [00:00<00:00, 441.05it/s]"
     ]
    },
    {
     "name": "stdout",
     "output_type": "stream",
     "text": [
      "Example target: [-0.80960897]\n",
      "Example prediction: [-0.8203]\n",
      "Epoch 9 Training Loss: 0.1158 Training Accuracy: 0.8842 Val Loss: 0.048 Val Accuracy: 0.952\n"
     ]
    },
    {
     "name": "stderr",
     "output_type": "stream",
     "text": [
      "100%|█████████████████████████████████████████████████████████████████████████████████████████████████████████████████████████████████████████████████████████████████████████████████████████████| 280/280 [00:00<00:00, 430.60it/s]\n",
      " 31%|███████████████████████████████████████████████████████████                                                                                                                                   | 87/280 [00:00<00:00, 424.52it/s]"
     ]
    },
    {
     "name": "stdout",
     "output_type": "stream",
     "text": [
      "Example target: [-0.88517271]\n",
      "Example prediction: [-0.9802]\n",
      "Epoch 10 Training Loss: 0.0712 Training Accuracy: 0.9288 Val Loss: 0.0461 Val Accuracy: 0.9539\n"
     ]
    },
    {
     "name": "stderr",
     "output_type": "stream",
     "text": [
      "100%|█████████████████████████████████████████████████████████████████████████████████████████████████████████████████████████████████████████████████████████████████████████████████████████████| 280/280 [00:00<00:00, 419.03it/s]\n",
      " 14%|█████████████████████████▊                                                                                                                                                                    | 38/280 [00:00<00:00, 377.24it/s]"
     ]
    },
    {
     "name": "stdout",
     "output_type": "stream",
     "text": [
      "Example target: [-0.91735831]\n",
      "Example prediction: [-0.8694]\n",
      "Epoch 11 Training Loss: 0.0418 Training Accuracy: 0.9582 Val Loss: 0.0335 Val Accuracy: 0.9665\n"
     ]
    },
    {
     "name": "stderr",
     "output_type": "stream",
     "text": [
      "100%|█████████████████████████████████████████████████████████████████████████████████████████████████████████████████████████████████████████████████████████████████████████████████████████████| 280/280 [00:00<00:00, 417.78it/s]\n",
      " 33%|██████████████████████████████████████████████████████████████▍                                                                                                                               | 92/280 [00:00<00:00, 455.31it/s]"
     ]
    },
    {
     "name": "stdout",
     "output_type": "stream",
     "text": [
      "Example target: [0.3398223]\n",
      "Example prediction: [-0.1799]\n",
      "Epoch 12 Training Loss: 0.0523 Training Accuracy: 0.9477 Val Loss: 0.0671 Val Accuracy: 0.9329\n"
     ]
    },
    {
     "name": "stderr",
     "output_type": "stream",
     "text": [
      "100%|█████████████████████████████████████████████████████████████████████████████████████████████████████████████████████████████████████████████████████████████████████████████████████████████| 280/280 [00:00<00:00, 440.04it/s]\n",
      " 33%|██████████████████████████████████████████████████████████████▍                                                                                                                               | 92/280 [00:00<00:00, 460.96it/s]"
     ]
    },
    {
     "name": "stdout",
     "output_type": "stream",
     "text": [
      "Example target: [0.17050001]\n",
      "Example prediction: [-0.107]\n",
      "Epoch 13 Training Loss: 0.0293 Training Accuracy: 0.9707 Val Loss: 0.0162 Val Accuracy: 0.9838\n"
     ]
    },
    {
     "name": "stderr",
     "output_type": "stream",
     "text": [
      "100%|█████████████████████████████████████████████████████████████████████████████████████████████████████████████████████████████████████████████████████████████████████████████████████████████| 280/280 [00:00<00:00, 436.62it/s]\n",
      " 17%|████████████████████████████████▌                                                                                                                                                             | 48/280 [00:00<00:00, 471.85it/s]"
     ]
    },
    {
     "name": "stdout",
     "output_type": "stream",
     "text": [
      "Example target: [-0.26150749]\n",
      "Example prediction: [-0.418]\n",
      "Epoch 14 Training Loss: 0.0119 Training Accuracy: 0.9881 Val Loss: 0.0098 Val Accuracy: 0.9902\n"
     ]
    },
    {
     "name": "stderr",
     "output_type": "stream",
     "text": [
      "100%|█████████████████████████████████████████████████████████████████████████████████████████████████████████████████████████████████████████████████████████████████████████████████████████████| 280/280 [00:00<00:00, 422.18it/s]\n",
      " 34%|█████████████████████████████████████████████████████████████████▏                                                                                                                            | 96/280 [00:00<00:00, 479.01it/s]"
     ]
    },
    {
     "name": "stdout",
     "output_type": "stream",
     "text": [
      "Example target: [-0.87297077]\n",
      "Example prediction: [-0.918]\n",
      "Epoch 15 Training Loss: 0.0101 Training Accuracy: 0.9899 Val Loss: 0.0107 Val Accuracy: 0.9893\n"
     ]
    },
    {
     "name": "stderr",
     "output_type": "stream",
     "text": [
      "100%|█████████████████████████████████████████████████████████████████████████████████████████████████████████████████████████████████████████████████████████████████████████████████████████████| 280/280 [00:00<00:00, 451.36it/s]\n",
      " 34%|███████████████████████████████████████████████████████████████▊                                                                                                                              | 94/280 [00:00<00:00, 464.37it/s]"
     ]
    },
    {
     "name": "stdout",
     "output_type": "stream",
     "text": [
      "Example target: [-0.70666096]\n",
      "Example prediction: [-0.7223]\n",
      "Epoch 16 Training Loss: 0.0106 Training Accuracy: 0.9894 Val Loss: 0.0101 Val Accuracy: 0.9899\n"
     ]
    },
    {
     "name": "stderr",
     "output_type": "stream",
     "text": [
      "100%|█████████████████████████████████████████████████████████████████████████████████████████████████████████████████████████████████████████████████████████████████████████████████████████████| 280/280 [00:00<00:00, 447.05it/s]\n",
      " 17%|████████████████████████████████▌                                                                                                                                                             | 48/280 [00:00<00:00, 471.85it/s]"
     ]
    },
    {
     "name": "stdout",
     "output_type": "stream",
     "text": [
      "Example target: [0.32183458]\n",
      "Example prediction: [0.2599]\n",
      "Epoch 17 Training Loss: 0.0108 Training Accuracy: 0.9892 Val Loss: 0.0114 Val Accuracy: 0.9886\n"
     ]
    },
    {
     "name": "stderr",
     "output_type": "stream",
     "text": [
      "100%|█████████████████████████████████████████████████████████████████████████████████████████████████████████████████████████████████████████████████████████████████████████████████████████████| 280/280 [00:00<00:00, 482.39it/s]\n",
      " 35%|███████████████████████████████████████████████████████████████████▏                                                                                                                          | 99/280 [00:00<00:00, 495.45it/s]"
     ]
    },
    {
     "name": "stdout",
     "output_type": "stream",
     "text": [
      "Example target: [-0.13802496]\n",
      "Example prediction: [-0.2861]\n",
      "Epoch 18 Training Loss: 0.0108 Training Accuracy: 0.9892 Val Loss: 0.0106 Val Accuracy: 0.9894\n"
     ]
    },
    {
     "name": "stderr",
     "output_type": "stream",
     "text": [
      "100%|█████████████████████████████████████████████████████████████████████████████████████████████████████████████████████████████████████████████████████████████████████████████████████████████| 280/280 [00:00<00:00, 483.22it/s]\n",
      " 18%|██████████████████████████████████▌                                                                                                                                                           | 51/280 [00:00<00:00, 506.30it/s]"
     ]
    },
    {
     "name": "stdout",
     "output_type": "stream",
     "text": [
      "Example target: [-0.01937911]\n",
      "Example prediction: [0.1857]\n",
      "Epoch 19 Training Loss: 0.0113 Training Accuracy: 0.9887 Val Loss: 0.0115 Val Accuracy: 0.9885\n"
     ]
    },
    {
     "name": "stderr",
     "output_type": "stream",
     "text": [
      "100%|█████████████████████████████████████████████████████████████████████████████████████████████████████████████████████████████████████████████████████████████████████████████████████████████| 280/280 [00:00<00:00, 478.28it/s]\n",
      " 18%|█████████████████████████████████▉                                                                                                                                                            | 50/280 [00:00<00:00, 496.38it/s]"
     ]
    },
    {
     "name": "stdout",
     "output_type": "stream",
     "text": [
      "Example target: [-0.60720058]\n",
      "Example prediction: [-0.4174]\n",
      "Epoch 20 Training Loss: 0.0116 Training Accuracy: 0.9884 Val Loss: 0.0119 Val Accuracy: 0.9881\n"
     ]
    },
    {
     "name": "stderr",
     "output_type": "stream",
     "text": [
      "100%|█████████████████████████████████████████████████████████████████████████████████████████████████████████████████████████████████████████████████████████████████████████████████████████████| 280/280 [00:00<00:00, 480.73it/s]\n",
      " 18%|██████████████████████████████████▌                                                                                                                                                           | 51/280 [00:00<00:00, 506.30it/s]"
     ]
    },
    {
     "name": "stdout",
     "output_type": "stream",
     "text": [
      "Example target: [-0.09467458]\n",
      "Example prediction: [0.0929]\n",
      "Epoch 21 Training Loss: 0.0114 Training Accuracy: 0.9886 Val Loss: 0.0114 Val Accuracy: 0.9886\n"
     ]
    },
    {
     "name": "stderr",
     "output_type": "stream",
     "text": [
      "100%|█████████████████████████████████████████████████████████████████████████████████████████████████████████████████████████████████████████████████████████████████████████████████████████████| 280/280 [00:00<00:00, 496.02it/s]\n",
      " 17%|████████████████████████████████▌                                                                                                                                                             | 48/280 [00:00<00:00, 476.52it/s]"
     ]
    },
    {
     "name": "stdout",
     "output_type": "stream",
     "text": [
      "Example target: [-0.39279993]\n",
      "Example prediction: [-0.4524]\n",
      "Epoch 22 Training Loss: 0.0118 Training Accuracy: 0.9882 Val Loss: 0.0117 Val Accuracy: 0.9883\n"
     ]
    },
    {
     "name": "stderr",
     "output_type": "stream",
     "text": [
      "100%|█████████████████████████████████████████████████████████████████████████████████████████████████████████████████████████████████████████████████████████████████████████████████████████████| 280/280 [00:00<00:00, 466.36it/s]\n",
      " 35%|█████████████████████████████████████████████████████████████████▊                                                                                                                            | 97/280 [00:00<00:00, 485.54it/s]"
     ]
    },
    {
     "name": "stdout",
     "output_type": "stream",
     "text": [
      "Example target: [-0.70882924]\n",
      "Example prediction: [-0.742]\n",
      "Epoch 23 Training Loss: 0.0116 Training Accuracy: 0.9884 Val Loss: 0.0122 Val Accuracy: 0.9878\n"
     ]
    },
    {
     "name": "stderr",
     "output_type": "stream",
     "text": [
      "100%|█████████████████████████████████████████████████████████████████████████████████████████████████████████████████████████████████████████████████████████████████████████████████████████████| 280/280 [00:00<00:00, 469.48it/s]\n",
      " 16%|███████████████████████████████▏                                                                                                                                                              | 46/280 [00:00<00:00, 452.19it/s]"
     ]
    },
    {
     "name": "stdout",
     "output_type": "stream",
     "text": [
      "Example target: [0.10804502]\n",
      "Example prediction: [0.1251]\n",
      "Epoch 24 Training Loss: 0.0115 Training Accuracy: 0.9885 Val Loss: 0.0115 Val Accuracy: 0.9885\n"
     ]
    },
    {
     "name": "stderr",
     "output_type": "stream",
     "text": [
      "100%|█████████████████████████████████████████████████████████████████████████████████████████████████████████████████████████████████████████████████████████████████████████████████████████████| 280/280 [00:00<00:00, 465.59it/s]\n",
      " 18%|█████████████████████████████████▉                                                                                                                                                            | 50/280 [00:00<00:00, 491.50it/s]"
     ]
    },
    {
     "name": "stdout",
     "output_type": "stream",
     "text": [
      "Example target: [-0.98836399]\n",
      "Example prediction: [-0.9574]\n",
      "Epoch 25 Training Loss: 0.0117 Training Accuracy: 0.9883 Val Loss: 0.0118 Val Accuracy: 0.9882\n"
     ]
    },
    {
     "name": "stderr",
     "output_type": "stream",
     "text": [
      "100%|█████████████████████████████████████████████████████████████████████████████████████████████████████████████████████████████████████████████████████████████████████████████████████████████| 280/280 [00:00<00:00, 459.49it/s]\n",
      " 18%|██████████████████████████████████▌                                                                                                                                                           | 51/280 [00:00<00:00, 506.30it/s]"
     ]
    },
    {
     "name": "stdout",
     "output_type": "stream",
     "text": [
      "Example target: [-0.25700032]\n",
      "Example prediction: [-0.4842]\n",
      "Epoch 26 Training Loss: 0.0115 Training Accuracy: 0.9885 Val Loss: 0.0138 Val Accuracy: 0.9862\n"
     ]
    },
    {
     "name": "stderr",
     "output_type": "stream",
     "text": [
      "100%|█████████████████████████████████████████████████████████████████████████████████████████████████████████████████████████████████████████████████████████████████████████████████████████████| 280/280 [00:00<00:00, 493.41it/s]\n",
      " 35%|█████████████████████████████████████████████████████████████████▊                                                                                                                            | 97/280 [00:00<00:00, 478.06it/s]"
     ]
    },
    {
     "name": "stdout",
     "output_type": "stream",
     "text": [
      "Example target: [-0.56813052]\n",
      "Example prediction: [-0.4488]\n",
      "Epoch 27 Training Loss: 0.0117 Training Accuracy: 0.9883 Val Loss: 0.0119 Val Accuracy: 0.9881\n"
     ]
    },
    {
     "name": "stderr",
     "output_type": "stream",
     "text": [
      "100%|█████████████████████████████████████████████████████████████████████████████████████████████████████████████████████████████████████████████████████████████████████████████████████████████| 280/280 [00:00<00:00, 476.65it/s]\n",
      " 18%|█████████████████████████████████▉                                                                                                                                                            | 50/280 [00:00<00:00, 496.37it/s]"
     ]
    },
    {
     "name": "stdout",
     "output_type": "stream",
     "text": [
      "Example target: [-0.99674847]\n",
      "Example prediction: [-0.9625]\n",
      "Epoch 28 Training Loss: 0.0118 Training Accuracy: 0.9882 Val Loss: 0.0116 Val Accuracy: 0.9884\n"
     ]
    },
    {
     "name": "stderr",
     "output_type": "stream",
     "text": [
      "100%|█████████████████████████████████████████████████████████████████████████████████████████████████████████████████████████████████████████████████████████████████████████████████████████████| 280/280 [00:00<00:00, 483.22it/s]\n",
      " 16%|█████████████████████████████▊                                                                                                                                                                | 44/280 [00:00<00:00, 432.53it/s]"
     ]
    },
    {
     "name": "stdout",
     "output_type": "stream",
     "text": [
      "Example target: [0.11495479]\n",
      "Example prediction: [0.2228]\n",
      "Epoch 29 Training Loss: 0.0118 Training Accuracy: 0.9882 Val Loss: 0.0118 Val Accuracy: 0.9882\n"
     ]
    },
    {
     "name": "stderr",
     "output_type": "stream",
     "text": [
      "100%|█████████████████████████████████████████████████████████████████████████████████████████████████████████████████████████████████████████████████████████████████████████████████████████████| 280/280 [00:00<00:00, 392.65it/s]\n",
      " 14%|███████████████████████████▏                                                                                                                                                                  | 40/280 [00:00<00:00, 392.99it/s]"
     ]
    },
    {
     "name": "stdout",
     "output_type": "stream",
     "text": [
      "Example target: [-0.948801]\n",
      "Example prediction: [-0.8774]\n",
      "Epoch 30 Training Loss: 0.012 Training Accuracy: 0.988 Val Loss: 0.0116 Val Accuracy: 0.9884\n"
     ]
    },
    {
     "name": "stderr",
     "output_type": "stream",
     "text": [
      "100%|█████████████████████████████████████████████████████████████████████████████████████████████████████████████████████████████████████████████████████████████████████████████████████████████| 280/280 [00:00<00:00, 419.03it/s]\n",
      " 16%|███████████████████████████████▏                                                                                                                                                              | 46/280 [00:00<00:00, 452.19it/s]"
     ]
    },
    {
     "name": "stdout",
     "output_type": "stream",
     "text": [
      "Example target: [0.10804502]\n",
      "Example prediction: [0.1504]\n",
      "Epoch 31 Training Loss: 0.0122 Training Accuracy: 0.9878 Val Loss: 0.0117 Val Accuracy: 0.9883\n"
     ]
    },
    {
     "name": "stderr",
     "output_type": "stream",
     "text": [
      "100%|█████████████████████████████████████████████████████████████████████████████████████████████████████████████████████████████████████████████████████████████████████████████████████████████| 280/280 [00:00<00:00, 442.82it/s]\n",
      " 30%|█████████████████████████████████████████████████████████▋                                                                                                                                    | 85/280 [00:00<00:00, 410.79it/s]"
     ]
    },
    {
     "name": "stdout",
     "output_type": "stream",
     "text": [
      "Example target: [-0.97758952]\n",
      "Example prediction: [-0.9676]\n",
      "Epoch 32 Training Loss: 0.0123 Training Accuracy: 0.9877 Val Loss: 0.012 Val Accuracy: 0.988\n"
     ]
    },
    {
     "name": "stderr",
     "output_type": "stream",
     "text": [
      "100%|█████████████████████████████████████████████████████████████████████████████████████████████████████████████████████████████████████████████████████████████████████████████████████████████| 280/280 [00:00<00:00, 440.74it/s]\n",
      " 15%|█████████████████████████████▏                                                                                                                                                                | 43/280 [00:00<00:00, 426.88it/s]"
     ]
    },
    {
     "name": "stdout",
     "output_type": "stream",
     "text": [
      "Example target: [-0.65104308]\n",
      "Example prediction: [-0.4881]\n",
      "Epoch 33 Training Loss: 0.0119 Training Accuracy: 0.9881 Val Loss: 0.0129 Val Accuracy: 0.9871\n"
     ]
    },
    {
     "name": "stderr",
     "output_type": "stream",
     "text": [
      "100%|█████████████████████████████████████████████████████████████████████████████████████████████████████████████████████████████████████████████████████████████████████████████████████████████| 280/280 [00:00<00:00, 405.12it/s]\n",
      " 14%|██████████████████████████▍                                                                                                                                                                   | 39/280 [00:00<00:00, 383.37it/s]"
     ]
    },
    {
     "name": "stdout",
     "output_type": "stream",
     "text": [
      "Example target: [-0.82115734]\n",
      "Example prediction: [-0.8674]\n",
      "Epoch 34 Training Loss: 0.0122 Training Accuracy: 0.9878 Val Loss: 0.0117 Val Accuracy: 0.9883\n"
     ]
    },
    {
     "name": "stderr",
     "output_type": "stream",
     "text": [
      "100%|█████████████████████████████████████████████████████████████████████████████████████████████████████████████████████████████████████████████████████████████████████████████████████████████| 280/280 [00:00<00:00, 422.81it/s]\n",
      " 30%|████████████████████████████████████████████████████████▎                                                                                                                                     | 83/280 [00:00<00:00, 389.03it/s]"
     ]
    },
    {
     "name": "stdout",
     "output_type": "stream",
     "text": [
      "Example target: [-0.97405943]\n",
      "Example prediction: [-0.8776]\n",
      "Epoch 35 Training Loss: 0.0119 Training Accuracy: 0.9881 Val Loss: 0.0123 Val Accuracy: 0.9877\n"
     ]
    },
    {
     "name": "stderr",
     "output_type": "stream",
     "text": [
      "100%|█████████████████████████████████████████████████████████████████████████████████████████████████████████████████████████████████████████████████████████████████████████████████████████████| 280/280 [00:00<00:00, 417.78it/s]\n",
      " 15%|█████████████████████████████▏                                                                                                                                                                | 43/280 [00:00<00:00, 422.70it/s]"
     ]
    },
    {
     "name": "stdout",
     "output_type": "stream",
     "text": [
      "Example target: [-0.87612097]\n",
      "Example prediction: [-0.8727]\n",
      "Epoch 36 Training Loss: 0.0121 Training Accuracy: 0.9879 Val Loss: 0.0129 Val Accuracy: 0.9871\n"
     ]
    },
    {
     "name": "stderr",
     "output_type": "stream",
     "text": [
      "100%|█████████████████████████████████████████████████████████████████████████████████████████████████████████████████████████████████████████████████████████████████████████████████████████████| 280/280 [00:00<00:00, 417.16it/s]\n",
      " 18%|█████████████████████████████████▎                                                                                                                                                            | 49/280 [00:00<00:00, 481.68it/s]"
     ]
    },
    {
     "name": "stdout",
     "output_type": "stream",
     "text": [
      "Example target: [-0.63150779]\n",
      "Example prediction: [-0.468]\n",
      "Epoch 37 Training Loss: 0.0124 Training Accuracy: 0.9876 Val Loss: 0.0118 Val Accuracy: 0.9882\n"
     ]
    },
    {
     "name": "stderr",
     "output_type": "stream",
     "text": [
      "100%|█████████████████████████████████████████████████████████████████████████████████████████████████████████████████████████████████████████████████████████████████████████████████████████████| 280/280 [00:00<00:00, 465.59it/s]\n",
      " 19%|███████████████████████████████████▎                                                                                                                                                          | 52/280 [00:00<00:00, 516.58it/s]"
     ]
    },
    {
     "name": "stdout",
     "output_type": "stream",
     "text": [
      "Example target: [-0.44986556]\n",
      "Example prediction: [-0.4495]\n",
      "Epoch 38 Training Loss: 0.0122 Training Accuracy: 0.9878 Val Loss: 0.012 Val Accuracy: 0.988\n"
     ]
    },
    {
     "name": "stderr",
     "output_type": "stream",
     "text": [
      "100%|█████████████████████████████████████████████████████████████████████████████████████████████████████████████████████████████████████████████████████████████████████████████████████████████| 280/280 [00:00<00:00, 470.32it/s]\n",
      " 30%|█████████████████████████████████████████████████████████▋                                                                                                                                    | 85/280 [00:00<00:00, 437.50it/s]"
     ]
    },
    {
     "name": "stdout",
     "output_type": "stream",
     "text": [
      "Example target: [-0.27073562]\n",
      "Example prediction: [-0.4071]\n",
      "Epoch 39 Training Loss: 0.0178 Training Accuracy: 0.9822 Val Loss: 0.0258 Val Accuracy: 0.9742\n"
     ]
    },
    {
     "name": "stderr",
     "output_type": "stream",
     "text": [
      "100%|█████████████████████████████████████████████████████████████████████████████████████████████████████████████████████████████████████████████████████████████████████████████████████████████| 280/280 [00:00<00:00, 449.92it/s]\n",
      " 18%|█████████████████████████████████▉                                                                                                                                                            | 50/280 [00:00<00:00, 491.59it/s]"
     ]
    },
    {
     "name": "stdout",
     "output_type": "stream",
     "text": [
      "Example target: [-0.42617777]\n",
      "Example prediction: [-0.5487]\n",
      "Epoch 40 Training Loss: 0.0225 Training Accuracy: 0.9775 Val Loss: 0.0181 Val Accuracy: 0.9819\n"
     ]
    },
    {
     "name": "stderr",
     "output_type": "stream",
     "text": [
      "100%|█████████████████████████████████████████████████████████████████████████████████████████████████████████████████████████████████████████████████████████████████████████████████████████████| 280/280 [00:00<00:00, 481.57it/s]\n",
      " 35%|█████████████████████████████████████████████████████████████████▊                                                                                                                            | 97/280 [00:00<00:00, 481.97it/s]"
     ]
    },
    {
     "name": "stdout",
     "output_type": "stream",
     "text": [
      "Example target: [-0.09350934]\n",
      "Example prediction: [-0.0571]\n",
      "Epoch 41 Training Loss: 0.0169 Training Accuracy: 0.9831 Val Loss: 0.0341 Val Accuracy: 0.9659\n"
     ]
    },
    {
     "name": "stderr",
     "output_type": "stream",
     "text": [
      "100%|█████████████████████████████████████████████████████████████████████████████████████████████████████████████████████████████████████████████████████████████████████████████████████████████| 280/280 [00:00<00:00, 481.56it/s]\n",
      " 18%|█████████████████████████████████▉                                                                                                                                                            | 50/280 [00:00<00:00, 491.51it/s]"
     ]
    },
    {
     "name": "stdout",
     "output_type": "stream",
     "text": [
      "Example target: [0.14809066]\n",
      "Example prediction: [0.051]\n",
      "Epoch 42 Training Loss: 0.0179 Training Accuracy: 0.9821 Val Loss: 0.0411 Val Accuracy: 0.9589\n"
     ]
    },
    {
     "name": "stderr",
     "output_type": "stream",
     "text": [
      "100%|█████████████████████████████████████████████████████████████████████████████████████████████████████████████████████████████████████████████████████████████████████████████████████████████| 280/280 [00:00<00:00, 470.26it/s]\n",
      " 18%|█████████████████████████████████▉                                                                                                                                                            | 50/280 [00:00<00:00, 491.51it/s]"
     ]
    },
    {
     "name": "stdout",
     "output_type": "stream",
     "text": [
      "Example target: [0.15147733]\n",
      "Example prediction: [0.2775]\n",
      "Epoch 43 Training Loss: 0.0241 Training Accuracy: 0.9759 Val Loss: 0.0326 Val Accuracy: 0.9674\n"
     ]
    },
    {
     "name": "stderr",
     "output_type": "stream",
     "text": [
      "100%|█████████████████████████████████████████████████████████████████████████████████████████████████████████████████████████████████████████████████████████████████████████████████████████████| 280/280 [00:00<00:00, 461.00it/s]\n",
      " 17%|████████████████████████████████▌                                                                                                                                                             | 48/280 [00:00<00:00, 471.84it/s]"
     ]
    },
    {
     "name": "stdout",
     "output_type": "stream",
     "text": [
      "Example target: [-0.98920874]\n",
      "Example prediction: [-0.7242]\n",
      "Epoch 44 Training Loss: 0.0275 Training Accuracy: 0.9725 Val Loss: 0.0266 Val Accuracy: 0.9734\n"
     ]
    },
    {
     "name": "stderr",
     "output_type": "stream",
     "text": [
      "100%|█████████████████████████████████████████████████████████████████████████████████████████████████████████████████████████████████████████████████████████████████████████████████████████████| 280/280 [00:00<00:00, 455.76it/s]\n",
      " 16%|██████████████████████████████▌                                                                                                                                                               | 45/280 [00:00<00:00, 442.35it/s]"
     ]
    },
    {
     "name": "stdout",
     "output_type": "stream",
     "text": [
      "Example target: [0.38553519]\n",
      "Example prediction: [0.2139]\n",
      "Epoch 45 Training Loss: 0.0218 Training Accuracy: 0.9782 Val Loss: 0.0172 Val Accuracy: 0.9828\n"
     ]
    },
    {
     "name": "stderr",
     "output_type": "stream",
     "text": [
      "100%|█████████████████████████████████████████████████████████████████████████████████████████████████████████████████████████████████████████████████████████████████████████████████████████████| 280/280 [00:00<00:00, 457.99it/s]\n",
      " 17%|███████████████████████████████▉                                                                                                                                                              | 47/280 [00:00<00:00, 462.02it/s]"
     ]
    },
    {
     "name": "stdout",
     "output_type": "stream",
     "text": [
      "Example target: [-0.85220596]\n",
      "Example prediction: [-0.9357]\n",
      "Epoch 46 Training Loss: 0.0243 Training Accuracy: 0.9757 Val Loss: 0.0174 Val Accuracy: 0.9826\n"
     ]
    },
    {
     "name": "stderr",
     "output_type": "stream",
     "text": [
      "100%|█████████████████████████████████████████████████████████████████████████████████████████████████████████████████████████████████████████████████████████████████████████████████████████████| 280/280 [00:00<00:00, 461.76it/s]\n",
      " 34%|███████████████████████████████████████████████████████████████▊                                                                                                                              | 94/280 [00:00<00:00, 470.38it/s]"
     ]
    },
    {
     "name": "stdout",
     "output_type": "stream",
     "text": [
      "Example target: [-0.91303615]\n",
      "Example prediction: [-0.867]\n",
      "Epoch 47 Training Loss: 0.018 Training Accuracy: 0.982 Val Loss: 0.0177 Val Accuracy: 0.9823\n"
     ]
    },
    {
     "name": "stderr",
     "output_type": "stream",
     "text": [
      "100%|█████████████████████████████████████████████████████████████████████████████████████████████████████████████████████████████████████████████████████████████████████████████████████████████| 280/280 [00:00<00:00, 470.27it/s]\n",
      " 17%|████████████████████████████████▌                                                                                                                                                             | 48/280 [00:00<00:00, 476.52it/s]"
     ]
    },
    {
     "name": "stdout",
     "output_type": "stream",
     "text": [
      "Example target: [-0.44986556]\n",
      "Example prediction: [-0.3917]\n",
      "Epoch 48 Training Loss: 0.0169 Training Accuracy: 0.9831 Val Loss: 0.0179 Val Accuracy: 0.9821\n"
     ]
    },
    {
     "name": "stderr",
     "output_type": "stream",
     "text": [
      "100%|█████████████████████████████████████████████████████████████████████████████████████████████████████████████████████████████████████████████████████████████████████████████████████████████| 280/280 [00:00<00:00, 471.85it/s]\n",
      " 15%|████████████████████████████▌                                                                                                                                                                 | 42/280 [00:00<00:00, 412.87it/s]"
     ]
    },
    {
     "name": "stdout",
     "output_type": "stream",
     "text": [
      "Example target: [0.3146856]\n",
      "Example prediction: [0.0729]\n",
      "Epoch 49 Training Loss: 0.0187 Training Accuracy: 0.9813 Val Loss: 0.0191 Val Accuracy: 0.9809\n"
     ]
    },
    {
     "name": "stderr",
     "output_type": "stream",
     "text": [
      "100%|█████████████████████████████████████████████████████████████████████████████████████████████████████████████████████████████████████████████████████████████████████████████████████████████| 280/280 [00:00<00:00, 395.98it/s]\n",
      " 32%|████████████████████████████████████████████████████████████▍                                                                                                                                 | 89/280 [00:00<00:00, 449.06it/s]"
     ]
    },
    {
     "name": "stdout",
     "output_type": "stream",
     "text": [
      "Example target: [0.09602045]\n",
      "Example prediction: [-0.0006]\n",
      "Epoch 50 Training Loss: 0.0206 Training Accuracy: 0.9794 Val Loss: 0.0229 Val Accuracy: 0.9771\n"
     ]
    },
    {
     "name": "stderr",
     "output_type": "stream",
     "text": [
      "100%|█████████████████████████████████████████████████████████████████████████████████████████████████████████████████████████████████████████████████████████████████████████████████████████████| 280/280 [00:00<00:00, 437.99it/s]\n",
      " 17%|███████████████████████████████▉                                                                                                                                                              | 47/280 [00:00<00:00, 466.59it/s]"
     ]
    },
    {
     "name": "stdout",
     "output_type": "stream",
     "text": [
      "Example target: [-0.86808945]\n",
      "Example prediction: [-0.9249]\n",
      "Epoch 51 Training Loss: 0.0222 Training Accuracy: 0.9778 Val Loss: 0.023 Val Accuracy: 0.977\n"
     ]
    },
    {
     "name": "stderr",
     "output_type": "stream",
     "text": [
      "100%|█████████████████████████████████████████████████████████████████████████████████████████████████████████████████████████████████████████████████████████████████████████████████████████████| 280/280 [00:00<00:00, 440.74it/s]\n",
      " 15%|████████████████████████████▌                                                                                                                                                                 | 42/280 [00:00<00:00, 412.86it/s]"
     ]
    },
    {
     "name": "stdout",
     "output_type": "stream",
     "text": [
      "Example target: [0.17318974]\n",
      "Example prediction: [0.0535]\n",
      "Epoch 52 Training Loss: 0.022 Training Accuracy: 0.978 Val Loss: 0.0226 Val Accuracy: 0.9774\n"
     ]
    },
    {
     "name": "stderr",
     "output_type": "stream",
     "text": [
      "100%|█████████████████████████████████████████████████████████████████████████████████████████████████████████████████████████████████████████████████████████████████████████████████████████████| 280/280 [00:00<00:00, 391.01it/s]\n",
      " 30%|█████████████████████████████████████████████████████████                                                                                                                                     | 84/280 [00:00<00:00, 428.85it/s]"
     ]
    },
    {
     "name": "stdout",
     "output_type": "stream",
     "text": [
      "Example target: [-0.50936379]\n",
      "Example prediction: [-0.5378]\n",
      "Epoch 53 Training Loss: 0.0223 Training Accuracy: 0.9777 Val Loss: 0.0237 Val Accuracy: 0.9763\n"
     ]
    },
    {
     "name": "stderr",
     "output_type": "stream",
     "text": [
      "100%|█████████████████████████████████████████████████████████████████████████████████████████████████████████████████████████████████████████████████████████████████████████████████████████████| 280/280 [00:00<00:00, 412.87it/s]\n",
      " 32%|█████████████████████████████████████████████████████████████▊                                                                                                                                | 91/280 [00:00<00:00, 449.19it/s]"
     ]
    },
    {
     "name": "stdout",
     "output_type": "stream",
     "text": [
      "Example target: [-0.95076311]\n",
      "Example prediction: [-0.9317]\n",
      "Epoch 54 Training Loss: 0.0239 Training Accuracy: 0.9761 Val Loss: 0.0235 Val Accuracy: 0.9765\n"
     ]
    },
    {
     "name": "stderr",
     "output_type": "stream",
     "text": [
      "100%|█████████████████████████████████████████████████████████████████████████████████████████████████████████████████████████████████████████████████████████████████████████████████████████████| 280/280 [00:00<00:00, 422.81it/s]\n",
      " 18%|█████████████████████████████████▎                                                                                                                                                            | 49/280 [00:00<00:00, 481.68it/s]"
     ]
    },
    {
     "name": "stdout",
     "output_type": "stream",
     "text": [
      "Example target: [0.17050001]\n",
      "Example prediction: [0.062]\n",
      "Epoch 55 Training Loss: 0.0238 Training Accuracy: 0.9762 Val Loss: 0.0248 Val Accuracy: 0.9752\n"
     ]
    },
    {
     "name": "stderr",
     "output_type": "stream",
     "text": [
      "100%|█████████████████████████████████████████████████████████████████████████████████████████████████████████████████████████████████████████████████████████████████████████████████████████████| 280/280 [00:00<00:00, 430.60it/s]\n",
      " 17%|████████████████████████████████▌                                                                                                                                                             | 48/280 [00:00<00:00, 471.25it/s]"
     ]
    },
    {
     "name": "stdout",
     "output_type": "stream",
     "text": [
      "Example target: [-0.94884185]\n",
      "Example prediction: [-0.9195]\n",
      "Epoch 56 Training Loss: 0.0234 Training Accuracy: 0.9766 Val Loss: 0.0241 Val Accuracy: 0.9759\n"
     ]
    },
    {
     "name": "stderr",
     "output_type": "stream",
     "text": [
      "100%|█████████████████████████████████████████████████████████████████████████████████████████████████████████████████████████████████████████████████████████████████████████████████████████████| 280/280 [00:00<00:00, 469.48it/s]\n",
      " 18%|██████████████████████████████████▌                                                                                                                                                           | 51/280 [00:00<00:00, 501.34it/s]"
     ]
    },
    {
     "name": "stdout",
     "output_type": "stream",
     "text": [
      "Example target: [-0.95696242]\n",
      "Example prediction: [-0.9256]\n",
      "Epoch 57 Training Loss: 0.0237 Training Accuracy: 0.9763 Val Loss: 0.0243 Val Accuracy: 0.9757\n"
     ]
    },
    {
     "name": "stderr",
     "output_type": "stream",
     "text": [
      "100%|█████████████████████████████████████████████████████████████████████████████████████████████████████████████████████████████████████████████████████████████████████████████████████████████| 280/280 [00:00<00:00, 478.28it/s]\n",
      " 34%|█████████████████████████████████████████████████████████████████▏                                                                                                                            | 96/280 [00:00<00:00, 466.59it/s]"
     ]
    },
    {
     "name": "stdout",
     "output_type": "stream",
     "text": [
      "Example target: [0.26096142]\n",
      "Example prediction: [0.0116]\n",
      "Epoch 58 Training Loss: 0.0244 Training Accuracy: 0.9756 Val Loss: 0.0239 Val Accuracy: 0.9761\n"
     ]
    },
    {
     "name": "stderr",
     "output_type": "stream",
     "text": [
      "100%|█████████████████████████████████████████████████████████████████████████████████████████████████████████████████████████████████████████████████████████████████████████████████████████████| 280/280 [00:00<00:00, 472.64it/s]\n",
      " 34%|█████████████████████████████████████████████████████████████████▏                                                                                                                            | 96/280 [00:00<00:00, 475.60it/s]"
     ]
    },
    {
     "name": "stdout",
     "output_type": "stream",
     "text": [
      "Example target: [-0.9129588]\n",
      "Example prediction: [-0.9013]\n",
      "Epoch 59 Training Loss: 0.0248 Training Accuracy: 0.9752 Val Loss: 0.0249 Val Accuracy: 0.9751\n"
     ]
    },
    {
     "name": "stderr",
     "output_type": "stream",
     "text": [
      "100%|█████████████████████████████████████████████████████████████████████████████████████████████████████████████████████████████████████████████████████████████████████████████████████████████| 280/280 [00:00<00:00, 469.48it/s]\n",
      " 36%|████████████████████████████████████████████████████████████████████▏                                                                                                                        | 101/280 [00:00<00:00, 503.49it/s]"
     ]
    },
    {
     "name": "stdout",
     "output_type": "stream",
     "text": [
      "Example target: [-0.49098162]\n",
      "Example prediction: [-0.5316]\n",
      "Epoch 60 Training Loss: 0.0252 Training Accuracy: 0.9748 Val Loss: 0.0255 Val Accuracy: 0.9745\n"
     ]
    },
    {
     "name": "stderr",
     "output_type": "stream",
     "text": [
      "100%|█████████████████████████████████████████████████████████████████████████████████████████████████████████████████████████████████████████████████████████████████████████████████████████████| 280/280 [00:00<00:00, 482.39it/s]\n",
      " 19%|███████████████████████████████████▎                                                                                                                                                          | 52/280 [00:00<00:00, 516.22it/s]"
     ]
    },
    {
     "name": "stdout",
     "output_type": "stream",
     "text": [
      "Example target: [-0.94343883]\n",
      "Example prediction: [-0.9229]\n",
      "Epoch 61 Training Loss: 0.0246 Training Accuracy: 0.9754 Val Loss: 0.0247 Val Accuracy: 0.9753\n"
     ]
    },
    {
     "name": "stderr",
     "output_type": "stream",
     "text": [
      "100%|█████████████████████████████████████████████████████████████████████████████████████████████████████████████████████████████████████████████████████████████████████████████████████████████| 280/280 [00:00<00:00, 491.83it/s]\n",
      " 16%|███████████████████████████████▏                                                                                                                                                              | 46/280 [00:00<00:00, 456.66it/s]"
     ]
    },
    {
     "name": "stdout",
     "output_type": "stream",
     "text": [
      "Example target: [-0.68119289]\n",
      "Example prediction: [-0.842]\n",
      "Epoch 62 Training Loss: 0.0247 Training Accuracy: 0.9753 Val Loss: 0.0216 Val Accuracy: 0.9784\n"
     ]
    },
    {
     "name": "stderr",
     "output_type": "stream",
     "text": [
      "100%|█████████████████████████████████████████████████████████████████████████████████████████████████████████████████████████████████████████████████████████████████████████████████████████████| 280/280 [00:00<00:00, 474.24it/s]\n",
      " 18%|██████████████████████████████████▌                                                                                                                                                           | 51/280 [00:00<00:00, 501.33it/s]"
     ]
    },
    {
     "name": "stdout",
     "output_type": "stream",
     "text": [
      "Example target: [-0.98873343]\n",
      "Example prediction: [-0.8764]\n",
      "Epoch 63 Training Loss: 0.0212 Training Accuracy: 0.9788 Val Loss: 0.0207 Val Accuracy: 0.9793\n"
     ]
    },
    {
     "name": "stderr",
     "output_type": "stream",
     "text": [
      "100%|█████████████████████████████████████████████████████████████████████████████████████████████████████████████████████████████████████████████████████████████████████████████████████████████| 280/280 [00:00<00:00, 489.96it/s]\n",
      " 18%|█████████████████████████████████▉                                                                                                                                                            | 50/280 [00:00<00:00, 491.51it/s]"
     ]
    },
    {
     "name": "stdout",
     "output_type": "stream",
     "text": [
      "Example target: [-0.12808455]\n",
      "Example prediction: [-0.0236]\n",
      "Epoch 64 Training Loss: 0.0222 Training Accuracy: 0.9778 Val Loss: 0.0206 Val Accuracy: 0.9794\n"
     ]
    },
    {
     "name": "stderr",
     "output_type": "stream",
     "text": [
      "100%|█████████████████████████████████████████████████████████████████████████████████████████████████████████████████████████████████████████████████████████████████████████████████████████████| 280/280 [00:00<00:00, 474.24it/s]\n",
      " 18%|██████████████████████████████████▌                                                                                                                                                           | 51/280 [00:00<00:00, 501.34it/s]"
     ]
    },
    {
     "name": "stdout",
     "output_type": "stream",
     "text": [
      "Example target: [0.3146856]\n",
      "Example prediction: [0.1657]\n",
      "Epoch 65 Training Loss: 0.0197 Training Accuracy: 0.9803 Val Loss: 0.0191 Val Accuracy: 0.9809\n"
     ]
    },
    {
     "name": "stderr",
     "output_type": "stream",
     "text": [
      "100%|█████████████████████████████████████████████████████████████████████████████████████████████████████████████████████████████████████████████████████████████████████████████████████████████| 280/280 [00:00<00:00, 475.84it/s]\n",
      " 35%|██████████████████████████████████████████████████████████████████▌                                                                                                                           | 98/280 [00:00<00:00, 488.86it/s]"
     ]
    },
    {
     "name": "stdout",
     "output_type": "stream",
     "text": [
      "Example target: [-0.92831697]\n",
      "Example prediction: [-0.7874]\n",
      "Epoch 66 Training Loss: 0.0193 Training Accuracy: 0.9807 Val Loss: 0.0191 Val Accuracy: 0.9809\n"
     ]
    },
    {
     "name": "stderr",
     "output_type": "stream",
     "text": [
      "100%|█████████████████████████████████████████████████████████████████████████████████████████████████████████████████████████████████████████████████████████████████████████████████████████████| 280/280 [00:00<00:00, 479.09it/s]\n",
      " 36%|███████████████████████████████████████████████████████████████████▌                                                                                                                         | 100/280 [00:00<00:00, 502.17it/s]"
     ]
    },
    {
     "name": "stdout",
     "output_type": "stream",
     "text": [
      "Example target: [0.14944508]\n",
      "Example prediction: [0.1722]\n",
      "Epoch 67 Training Loss: 0.0192 Training Accuracy: 0.9808 Val Loss: 0.0196 Val Accuracy: 0.9804\n"
     ]
    },
    {
     "name": "stderr",
     "output_type": "stream",
     "text": [
      "100%|█████████████████████████████████████████████████████████████████████████████████████████████████████████████████████████████████████████████████████████████████████████████████████████████| 280/280 [00:00<00:00, 480.01it/s]\n",
      " 16%|███████████████████████████████▏                                                                                                                                                              | 46/280 [00:00<00:00, 452.18it/s]"
     ]
    },
    {
     "name": "stdout",
     "output_type": "stream",
     "text": [
      "Example target: [-0.23009115]\n",
      "Example prediction: [-0.3355]\n",
      "Epoch 68 Training Loss: 0.0193 Training Accuracy: 0.9807 Val Loss: 0.0188 Val Accuracy: 0.9812\n"
     ]
    },
    {
     "name": "stderr",
     "output_type": "stream",
     "text": [
      "100%|█████████████████████████████████████████████████████████████████████████████████████████████████████████████████████████████████████████████████████████████████████████████████████████████| 280/280 [00:00<00:00, 455.76it/s]\n",
      " 17%|███████████████████████████████▉                                                                                                                                                              | 47/280 [00:00<00:00, 466.59it/s]"
     ]
    },
    {
     "name": "stdout",
     "output_type": "stream",
     "text": [
      "Example target: [-0.99450692]\n",
      "Example prediction: [-0.8394]\n",
      "Epoch 69 Training Loss: 0.0194 Training Accuracy: 0.9806 Val Loss: 0.0189 Val Accuracy: 0.9811\n"
     ]
    },
    {
     "name": "stderr",
     "output_type": "stream",
     "text": [
      "100%|█████████████████████████████████████████████████████████████████████████████████████████████████████████████████████████████████████████████████████████████████████████████████████████████| 280/280 [00:00<00:00, 448.48it/s]\n",
      " 33%|███████████████████████████████████████████████████████████████                                                                                                                               | 93/280 [00:00<00:00, 467.18it/s]"
     ]
    },
    {
     "name": "stdout",
     "output_type": "stream",
     "text": [
      "Example target: [-0.99979144]\n",
      "Example prediction: [-0.8384]\n",
      "Epoch 70 Training Loss: 0.0193 Training Accuracy: 0.9807 Val Loss: 0.0193 Val Accuracy: 0.9807\n"
     ]
    },
    {
     "name": "stderr",
     "output_type": "stream",
     "text": [
      "100%|█████████████████████████████████████████████████████████████████████████████████████████████████████████████████████████████████████████████████████████████████████████████████████████████| 280/280 [00:00<00:00, 434.59it/s]\n",
      " 33%|███████████████████████████████████████████████████████████████                                                                                                                               | 93/280 [00:00<00:00, 463.44it/s]"
     ]
    },
    {
     "name": "stdout",
     "output_type": "stream",
     "text": [
      "Example target: [-0.28336515]\n",
      "Example prediction: [-0.3584]\n",
      "Epoch 71 Training Loss: 0.0194 Training Accuracy: 0.9806 Val Loss: 0.0186 Val Accuracy: 0.9814\n"
     ]
    },
    {
     "name": "stderr",
     "output_type": "stream",
     "text": [
      "100%|█████████████████████████████████████████████████████████████████████████████████████████████████████████████████████████████████████████████████████████████████████████████████████████████| 280/280 [00:00<00:00, 443.52it/s]\n",
      " 33%|███████████████████████████████████████████████████████████████                                                                                                                               | 93/280 [00:00<00:00, 468.91it/s]"
     ]
    },
    {
     "name": "stdout",
     "output_type": "stream",
     "text": [
      "Example target: [-0.99930083]\n",
      "Example prediction: [-0.845]\n",
      "Epoch 72 Training Loss: 0.0192 Training Accuracy: 0.9808 Val Loss: 0.0189 Val Accuracy: 0.9811\n"
     ]
    },
    {
     "name": "stderr",
     "output_type": "stream",
     "text": [
      "100%|█████████████████████████████████████████████████████████████████████████████████████████████████████████████████████████████████████████████████████████████████████████████████████████████| 280/280 [00:00<00:00, 447.76it/s]\n",
      " 16%|█████████████████████████████▊                                                                                                                                                                | 44/280 [00:00<00:00, 436.81it/s]"
     ]
    },
    {
     "name": "stdout",
     "output_type": "stream",
     "text": [
      "Example target: [-0.60061385]\n",
      "Example prediction: [-0.3344]\n",
      "Epoch 73 Training Loss: 0.0236 Training Accuracy: 0.9764 Val Loss: 0.0232 Val Accuracy: 0.9768\n"
     ]
    },
    {
     "name": "stderr",
     "output_type": "stream",
     "text": [
      "100%|█████████████████████████████████████████████████████████████████████████████████████████████████████████████████████████████████████████████████████████████████████████████████████████████| 280/280 [00:00<00:00, 446.34it/s]\n",
      " 33%|██████████████████████████████████████████████████████████████▍                                                                                                                               | 92/280 [00:00<00:00, 463.82it/s]"
     ]
    },
    {
     "name": "stdout",
     "output_type": "stream",
     "text": [
      "Example target: [-0.72485444]\n",
      "Example prediction: [-0.889]\n",
      "Epoch 74 Training Loss: 0.0118 Training Accuracy: 0.9882 Val Loss: 0.015 Val Accuracy: 0.985\n"
     ]
    },
    {
     "name": "stderr",
     "output_type": "stream",
     "text": [
      "100%|█████████████████████████████████████████████████████████████████████████████████████████████████████████████████████████████████████████████████████████████████████████████████████████████| 280/280 [00:00<00:00, 437.99it/s]\n",
      " 17%|████████████████████████████████▌                                                                                                                                                             | 48/280 [00:00<00:00, 471.85it/s]"
     ]
    },
    {
     "name": "stdout",
     "output_type": "stream",
     "text": [
      "Example target: [-0.95720511]\n",
      "Example prediction: [-0.6864]\n",
      "Epoch 75 Training Loss: 0.046 Training Accuracy: 0.954 Val Loss: 0.0544 Val Accuracy: 0.9456\n"
     ]
    },
    {
     "name": "stderr",
     "output_type": "stream",
     "text": [
      "100%|█████████████████████████████████████████████████████████████████████████████████████████████████████████████████████████████████████████████████████████████████████████████████████████████| 280/280 [00:00<00:00, 449.92it/s]\n",
      " 17%|███████████████████████████████▉                                                                                                                                                              | 47/280 [00:00<00:00, 462.39it/s]"
     ]
    },
    {
     "name": "stdout",
     "output_type": "stream",
     "text": [
      "Example target: [-0.90308121]\n",
      "Example prediction: [-0.7758]\n",
      "Epoch 76 Training Loss: 0.0504 Training Accuracy: 0.9496 Val Loss: 0.0544 Val Accuracy: 0.9456\n"
     ]
    },
    {
     "name": "stderr",
     "output_type": "stream",
     "text": [
      "100%|█████████████████████████████████████████████████████████████████████████████████████████████████████████████████████████████████████████████████████████████████████████████████████████████| 280/280 [00:00<00:00, 485.78it/s]\n",
      " 17%|████████████████████████████████▌                                                                                                                                                             | 48/280 [00:00<00:00, 467.18it/s]"
     ]
    },
    {
     "name": "stdout",
     "output_type": "stream",
     "text": [
      "Example target: [0.04685896]\n",
      "Example prediction: [-0.1589]\n",
      "Epoch 77 Training Loss: 0.0408 Training Accuracy: 0.9592 Val Loss: 0.0358 Val Accuracy: 0.9642\n"
     ]
    },
    {
     "name": "stderr",
     "output_type": "stream",
     "text": [
      "100%|█████████████████████████████████████████████████████████████████████████████████████████████████████████████████████████████████████████████████████████████████████████████████████████████| 280/280 [00:00<00:00, 475.85it/s]\n",
      " 36%|███████████████████████████████████████████████████████████████████▌                                                                                                                         | 100/280 [00:00<00:00, 494.91it/s]"
     ]
    },
    {
     "name": "stdout",
     "output_type": "stream",
     "text": [
      "Example target: [0.28376823]\n",
      "Example prediction: [-0.1257]\n",
      "Epoch 78 Training Loss: 0.0441 Training Accuracy: 0.9559 Val Loss: 0.0575 Val Accuracy: 0.9425\n"
     ]
    },
    {
     "name": "stderr",
     "output_type": "stream",
     "text": [
      "100%|█████████████████████████████████████████████████████████████████████████████████████████████████████████████████████████████████████████████████████████████████████████████████████████████| 280/280 [00:00<00:00, 480.73it/s]\n",
      " 19%|███████████████████████████████████▎                                                                                                                                                          | 52/280 [00:00<00:00, 515.51it/s]"
     ]
    },
    {
     "name": "stdout",
     "output_type": "stream",
     "text": [
      "Example target: [-0.96732608]\n",
      "Example prediction: [-0.8837]\n",
      "Epoch 79 Training Loss: 0.0373 Training Accuracy: 0.9627 Val Loss: 0.0245 Val Accuracy: 0.9755\n"
     ]
    },
    {
     "name": "stderr",
     "output_type": "stream",
     "text": [
      "100%|█████████████████████████████████████████████████████████████████████████████████████████████████████████████████████████████████████████████████████████████████████████████████████████████| 280/280 [00:00<00:00, 495.15it/s]\n",
      " 18%|█████████████████████████████████▉                                                                                                                                                            | 50/280 [00:00<00:00, 491.51it/s]"
     ]
    },
    {
     "name": "stdout",
     "output_type": "stream",
     "text": [
      "Example target: [-0.87195579]\n",
      "Example prediction: [-0.8782]\n",
      "Epoch 80 Training Loss: 0.0263 Training Accuracy: 0.9737 Val Loss: 0.0104 Val Accuracy: 0.9896\n"
     ]
    },
    {
     "name": "stderr",
     "output_type": "stream",
     "text": [
      "100%|█████████████████████████████████████████████████████████████████████████████████████████████████████████████████████████████████████████████████████████████████████████████████████████████| 280/280 [00:00<00:00, 477.46it/s]\n",
      " 18%|██████████████████████████████████▌                                                                                                                                                           | 51/280 [00:00<00:00, 501.34it/s]"
     ]
    },
    {
     "name": "stdout",
     "output_type": "stream",
     "text": [
      "Example target: [-0.02323119]\n",
      "Example prediction: [0.1994]\n",
      "Epoch 81 Training Loss: 0.0158 Training Accuracy: 0.9842 Val Loss: 0.0151 Val Accuracy: 0.9849\n"
     ]
    },
    {
     "name": "stderr",
     "output_type": "stream",
     "text": [
      "100%|█████████████████████████████████████████████████████████████████████████████████████████████████████████████████████████████████████████████████████████████████████████████████████████████| 280/280 [00:00<00:00, 471.05it/s]\n",
      " 17%|███████████████████████████████▉                                                                                                                                                              | 47/280 [00:00<00:00, 462.02it/s]"
     ]
    },
    {
     "name": "stdout",
     "output_type": "stream",
     "text": [
      "Example target: [0.04685896]\n",
      "Example prediction: [0.0178]\n",
      "Epoch 82 Training Loss: 0.0269 Training Accuracy: 0.9731 Val Loss: 0.0263 Val Accuracy: 0.9737\n"
     ]
    },
    {
     "name": "stderr",
     "output_type": "stream",
     "text": [
      "100%|█████████████████████████████████████████████████████████████████████████████████████████████████████████████████████████████████████████████████████████████████████████████████████████████| 280/280 [00:00<00:00, 487.41it/s]\n",
      " 34%|█████████████████████████████████████████████████████████████████▏                                                                                                                            | 96/280 [00:00<00:00, 472.40it/s]"
     ]
    },
    {
     "name": "stdout",
     "output_type": "stream",
     "text": [
      "Example target: [-0.58256809]\n",
      "Example prediction: [-0.5536]\n",
      "Epoch 83 Training Loss: 0.0229 Training Accuracy: 0.9771 Val Loss: 0.0108 Val Accuracy: 0.9892\n"
     ]
    },
    {
     "name": "stderr",
     "output_type": "stream",
     "text": [
      "100%|█████████████████████████████████████████████████████████████████████████████████████████████████████████████████████████████████████████████████████████████████████████████████████████████| 280/280 [00:00<00:00, 482.39it/s]\n",
      " 19%|███████████████████████████████████▎                                                                                                                                                          | 52/280 [00:00<00:00, 511.16it/s]"
     ]
    },
    {
     "name": "stdout",
     "output_type": "stream",
     "text": [
      "Example target: [-0.69088683]\n",
      "Example prediction: [-0.479]\n",
      "Epoch 84 Training Loss: 0.0232 Training Accuracy: 0.9768 Val Loss: 0.0133 Val Accuracy: 0.9867\n"
     ]
    },
    {
     "name": "stderr",
     "output_type": "stream",
     "text": [
      "100%|█████████████████████████████████████████████████████████████████████████████████████████████████████████████████████████████████████████████████████████████████████████████████████████████| 280/280 [00:00<00:00, 479.91it/s]\n",
      " 36%|███████████████████████████████████████████████████████████████████▌                                                                                                                         | 100/280 [00:00<00:00, 500.25it/s]"
     ]
    },
    {
     "name": "stdout",
     "output_type": "stream",
     "text": [
      "Example target: [-0.9971039]\n",
      "Example prediction: [-0.9757]\n",
      "Epoch 85 Training Loss: 0.0225 Training Accuracy: 0.9775 Val Loss: 0.0302 Val Accuracy: 0.9698\n"
     ]
    },
    {
     "name": "stderr",
     "output_type": "stream",
     "text": [
      "100%|█████████████████████████████████████████████████████████████████████████████████████████████████████████████████████████████████████████████████████████████████████████████████████████████| 280/280 [00:00<00:00, 485.72it/s]\n",
      " 36%|███████████████████████████████████████████████████████████████████▌                                                                                                                         | 100/280 [00:00<00:00, 491.50it/s]"
     ]
    },
    {
     "name": "stdout",
     "output_type": "stream",
     "text": [
      "Example target: [0.19353041]\n",
      "Example prediction: [0.1596]\n",
      "Epoch 86 Training Loss: 0.0255 Training Accuracy: 0.9745 Val Loss: 0.0139 Val Accuracy: 0.9861\n"
     ]
    },
    {
     "name": "stderr",
     "output_type": "stream",
     "text": [
      "100%|█████████████████████████████████████████████████████████████████████████████████████████████████████████████████████████████████████████████████████████████████████████████████████████████| 280/280 [00:00<00:00, 478.28it/s]\n",
      " 34%|███████████████████████████████████████████████████████████████▊                                                                                                                              | 94/280 [00:00<00:00, 465.21it/s]"
     ]
    },
    {
     "name": "stdout",
     "output_type": "stream",
     "text": [
      "Example target: [-0.2747559]\n",
      "Example prediction: [0.036]\n",
      "Epoch 87 Training Loss: 0.0233 Training Accuracy: 0.9767 Val Loss: 0.014 Val Accuracy: 0.986\n"
     ]
    },
    {
     "name": "stderr",
     "output_type": "stream",
     "text": [
      "100%|█████████████████████████████████████████████████████████████████████████████████████████████████████████████████████████████████████████████████████████████████████████████████████████████| 280/280 [00:00<00:00, 469.48it/s]\n",
      " 35%|██████████████████████████████████████████████████████████████████▌                                                                                                                           | 98/280 [00:00<00:00, 492.15it/s]"
     ]
    },
    {
     "name": "stdout",
     "output_type": "stream",
     "text": [
      "Example target: [0.34899795]\n",
      "Example prediction: [0.2058]\n",
      "Epoch 88 Training Loss: 0.0231 Training Accuracy: 0.9769 Val Loss: 0.0261 Val Accuracy: 0.9739\n"
     ]
    },
    {
     "name": "stderr",
     "output_type": "stream",
     "text": [
      "100%|█████████████████████████████████████████████████████████████████████████████████████████████████████████████████████████████████████████████████████████████████████████████████████████████| 280/280 [00:00<00:00, 457.25it/s]\n",
      " 16%|███████████████████████████████▏                                                                                                                                                              | 46/280 [00:00<00:00, 456.66it/s]"
     ]
    },
    {
     "name": "stdout",
     "output_type": "stream",
     "text": [
      "Example target: [-0.94431506]\n",
      "Example prediction: [-0.8773]\n",
      "Epoch 89 Training Loss: 0.0254 Training Accuracy: 0.9746 Val Loss: 0.0178 Val Accuracy: 0.9822\n"
     ]
    },
    {
     "name": "stderr",
     "output_type": "stream",
     "text": [
      "100%|█████████████████████████████████████████████████████████████████████████████████████████████████████████████████████████████████████████████████████████████████████████████████████████████| 280/280 [00:00<00:00, 458.74it/s]\n",
      " 17%|████████████████████████████████▌                                                                                                                                                             | 48/280 [00:00<00:00, 467.27it/s]"
     ]
    },
    {
     "name": "stdout",
     "output_type": "stream",
     "text": [
      "Example target: [-0.23710291]\n",
      "Example prediction: [-0.3252]\n",
      "Epoch 90 Training Loss: 0.0243 Training Accuracy: 0.9757 Val Loss: 0.016 Val Accuracy: 0.984\n"
     ]
    },
    {
     "name": "stderr",
     "output_type": "stream",
     "text": [
      "100%|█████████████████████████████████████████████████████████████████████████████████████████████████████████████████████████████████████████████████████████████████████████████████████████████| 280/280 [00:00<00:00, 454.29it/s]\n",
      " 17%|███████████████████████████████▉                                                                                                                                                              | 47/280 [00:00<00:00, 466.59it/s]"
     ]
    },
    {
     "name": "stdout",
     "output_type": "stream",
     "text": [
      "Example target: [-0.51875669]\n",
      "Example prediction: [-0.8716]\n",
      "Epoch 91 Training Loss: 0.024 Training Accuracy: 0.976 Val Loss: 0.0357 Val Accuracy: 0.9643\n"
     ]
    },
    {
     "name": "stderr",
     "output_type": "stream",
     "text": [
      "100%|█████████████████████████████████████████████████████████████████████████████████████████████████████████████████████████████████████████████████████████████████████████████████████████████| 280/280 [00:00<00:00, 451.36it/s]\n",
      " 32%|█████████████████████████████████████████████████████████████▊                                                                                                                                | 91/280 [00:00<00:00, 448.36it/s]"
     ]
    },
    {
     "name": "stdout",
     "output_type": "stream",
     "text": [
      "Example target: [-0.74343638]\n",
      "Example prediction: [-0.8697]\n",
      "Epoch 92 Training Loss: 0.0262 Training Accuracy: 0.9738 Val Loss: 0.0396 Val Accuracy: 0.9604\n"
     ]
    },
    {
     "name": "stderr",
     "output_type": "stream",
     "text": [
      "100%|█████████████████████████████████████████████████████████████████████████████████████████████████████████████████████████████████████████████████████████████████████████████████████████████| 280/280 [00:00<00:00, 446.34it/s]\n",
      " 15%|████████████████████████████▌                                                                                                                                                                 | 42/280 [00:00<00:00, 416.95it/s]"
     ]
    },
    {
     "name": "stdout",
     "output_type": "stream",
     "text": [
      "Example target: [-0.8794235]\n",
      "Example prediction: [-0.8892]\n",
      "Epoch 93 Training Loss: 0.0247 Training Accuracy: 0.9753 Val Loss: 0.0145 Val Accuracy: 0.9855\n"
     ]
    },
    {
     "name": "stderr",
     "output_type": "stream",
     "text": [
      "100%|█████████████████████████████████████████████████████████████████████████████████████████████████████████████████████████████████████████████████████████████████████████████████████████████| 280/280 [00:00<00:00, 436.62it/s]\n",
      " 17%|███████████████████████████████▉                                                                                                                                                              | 47/280 [00:00<00:00, 466.59it/s]"
     ]
    },
    {
     "name": "stdout",
     "output_type": "stream",
     "text": [
      "Example target: [0.15898632]\n",
      "Example prediction: [0.1252]\n",
      "Epoch 94 Training Loss: 0.0248 Training Accuracy: 0.9752 Val Loss: 0.0256 Val Accuracy: 0.9744\n"
     ]
    },
    {
     "name": "stderr",
     "output_type": "stream",
     "text": [
      "100%|█████████████████████████████████████████████████████████████████████████████████████████████████████████████████████████████████████████████████████████████████████████████████████████████| 280/280 [00:00<00:00, 457.25it/s]\n",
      " 34%|████████████████████████████████████████████████████████████████▍                                                                                                                             | 95/280 [00:00<00:00, 472.07it/s]"
     ]
    },
    {
     "name": "stdout",
     "output_type": "stream",
     "text": [
      "Example target: [0.20497968]\n",
      "Example prediction: [-0.0664]\n",
      "Epoch 95 Training Loss: 0.0269 Training Accuracy: 0.9731 Val Loss: 0.0445 Val Accuracy: 0.9555\n"
     ]
    },
    {
     "name": "stderr",
     "output_type": "stream",
     "text": [
      "100%|█████████████████████████████████████████████████████████████████████████████████████████████████████████████████████████████████████████████████████████████████████████████████████████████| 280/280 [00:00<00:00, 457.24it/s]\n",
      " 17%|████████████████████████████████▌                                                                                                                                                             | 48/280 [00:00<00:00, 476.52it/s]"
     ]
    },
    {
     "name": "stdout",
     "output_type": "stream",
     "text": [
      "Example target: [-0.85424734]\n",
      "Example prediction: [-0.8649]\n",
      "Epoch 96 Training Loss: 0.0267 Training Accuracy: 0.9733 Val Loss: 0.016 Val Accuracy: 0.984\n"
     ]
    },
    {
     "name": "stderr",
     "output_type": "stream",
     "text": [
      "100%|█████████████████████████████████████████████████████████████████████████████████████████████████████████████████████████████████████████████████████████████████████████████████████████████| 280/280 [00:00<00:00, 488.26it/s]\n",
      " 35%|██████████████████████████████████████████████████████████████████▌                                                                                                                           | 98/280 [00:00<00:00, 486.44it/s]"
     ]
    },
    {
     "name": "stdout",
     "output_type": "stream",
     "text": [
      "Example target: [-0.21688686]\n",
      "Example prediction: [-0.7551]\n",
      "Epoch 97 Training Loss: 0.0308 Training Accuracy: 0.9692 Val Loss: 0.0366 Val Accuracy: 0.9634\n"
     ]
    },
    {
     "name": "stderr",
     "output_type": "stream",
     "text": [
      "100%|█████████████████████████████████████████████████████████████████████████████████████████████████████████████████████████████████████████████████████████████████████████████████████████████| 280/280 [00:00<00:00, 479.91it/s]\n",
      " 18%|██████████████████████████████████▌                                                                                                                                                           | 51/280 [00:00<00:00, 506.30it/s]"
     ]
    },
    {
     "name": "stdout",
     "output_type": "stream",
     "text": [
      "Example target: [-0.38752535]\n",
      "Example prediction: [-0.4738]\n",
      "Epoch 98 Training Loss: 0.0307 Training Accuracy: 0.9693 Val Loss: 0.0157 Val Accuracy: 0.9843\n"
     ]
    },
    {
     "name": "stderr",
     "output_type": "stream",
     "text": [
      "100%|█████████████████████████████████████████████████████████████████████████████████████████████████████████████████████████████████████████████████████████████████████████████████████████████| 280/280 [00:00<00:00, 465.59it/s]\n"
     ]
    },
    {
     "name": "stdout",
     "output_type": "stream",
     "text": [
      "Example target: [0.30093078]\n",
      "Example prediction: [0.1544]\n",
      "Epoch 99 Training Loss: 0.0298 Training Accuracy: 0.9702 Val Loss: 0.0175 Val Accuracy: 0.9825\n"
     ]
    }
   ],
   "source": [
    "\"\"\"\n",
    "Author: Sophia Sanborn\n",
    "Institution: UC Berkeley\n",
    "Date: Spring 2020\n",
    "Course: CS189/289A\n",
    "Website: github.com/sophiaas\n",
    "\"\"\"\n",
    "\n",
    "\"\"\"\n",
    "Step 1: Define layer arguments\n",
    "\n",
    "- Define the arguments for each layer in an attribute dictionary (AttrDict).\n",
    "- An attribute dictionary is exactly like a dictionary, except you can access the values as attributes rather than keys...for cleaner code :)\n",
    "- See layers.py for the arguments expected by each layer type.\n",
    "\"\"\"\n",
    "\n",
    "from neural_networks.utils.data_structures import AttrDict\n",
    "\n",
    "layer_1 = AttrDict(\n",
    "    {\n",
    "        \"name\": \"elman\",\n",
    "        \"activation\": 'tanh',\n",
    "        \"weight_init\": \"xavier_uniform\",\n",
    "        \"n_out\": 7,\n",
    "    }\n",
    ")\n",
    "\n",
    "layer_out = AttrDict(\n",
    "    {\n",
    "        \"name\": \"fully_connected\",\n",
    "        \"activation\": 'tanh',\n",
    "        \"weight_init\": \"xavier_uniform\",\n",
    "        \"n_out\": None\n",
    "        # n_out is not defined for last layer. This will be set by the dataset.\n",
    "    }\n",
    ")\n",
    "\n",
    "\"\"\"\n",
    "Step 2: Collect layer argument dictionaries into a list.\n",
    "\n",
    "- This defines the order of layers in the network.\n",
    "\"\"\"\n",
    "\n",
    "layer_args = [layer_1, layer_out]\n",
    "\n",
    "\"\"\"\n",
    "Step 3: Define model, data, and logger arguments\n",
    "\n",
    "- The list of layer_args is passed to the model initializer.\n",
    "\"\"\"\n",
    "\n",
    "optimizer_args = AttrDict(\n",
    "    {\n",
    "        \"name\": \"SGD\",\n",
    "        \"lr\": 0.01,\n",
    "        \"lr_scheduler\": \"exponential\",\n",
    "        \"lr_decay\": 0.99,\n",
    "        \"stage_length\": 1000,\n",
    "        \"staircase\": True,\n",
    "        \"clip_norm\": 1.0,\n",
    "        \"momentum\": 0.9,\n",
    "    }\n",
    ")\n",
    "\n",
    "model_args = AttrDict(\n",
    "    {\n",
    "        'name': 'sinewave_rnn',\n",
    "        \"loss\": 'l2',\n",
    "        \"layer_args\": layer_args,\n",
    "        \"optimizer_args\": optimizer_args,\n",
    "        \"seed\": 22\n",
    "    }\n",
    ")\n",
    "\n",
    "data_args = AttrDict(\n",
    "    {\n",
    "        \"name\": \"sinewave\",\n",
    "        \"batch_size\": 25\n",
    "    }\n",
    ")\n",
    "\n",
    "log_args = AttrDict(\n",
    "    {\"save\": True, \"plot\": True, \"save_dir\": \"experiments/\",}\n",
    ")\n",
    "\n",
    "\"\"\"\n",
    "Step 4: Set random seed\n",
    "\n",
    "Warning! Random seed must be set before importing other modules.\n",
    "\"\"\"\n",
    "\n",
    "import numpy as np\n",
    "\n",
    "np.random.seed(model_args.seed)\n",
    "\n",
    "\"\"\"\n",
    "Step 5: Define model name for saving\n",
    "\"\"\"\n",
    "\n",
    "model_name = model_args.name\n",
    "\n",
    "\n",
    "\"\"\"\n",
    "Step 6: Initialize logger, model, and dataset\n",
    "\n",
    "- model_name, model_args, and data_args are passed to the logger for saving\n",
    "- The logger is passed to the model.\n",
    "\"\"\"\n",
    "\n",
    "from neural_networks.models import initialize_model\n",
    "from neural_networks.datasets import initialize_dataset\n",
    "from neural_networks.logs import Logger\n",
    "\n",
    "\n",
    "logger = Logger(\n",
    "    model_name=model_name,\n",
    "    model_args=model_args,\n",
    "    data_args=data_args,\n",
    "    save=log_args.save,\n",
    "    plot=log_args.plot,\n",
    "    save_dir=log_args.save_dir,\n",
    ")\n",
    "\n",
    "\n",
    "model = initialize_model(\n",
    "    name=model_args.name,\n",
    "    loss=model_args.loss,\n",
    "    layer_args=model_args.layer_args,\n",
    "    optimizer_args=model_args.optimizer_args,\n",
    "    logger=logger,\n",
    ")\n",
    "\n",
    "\n",
    "dataset = initialize_dataset(\n",
    "    name=data_args.name,\n",
    "    batch_size=data_args.batch_size,\n",
    ")\n",
    "\n",
    "\n",
    "\"\"\"\n",
    "Step 7: Train model!\n",
    "\"\"\"\n",
    "\n",
    "epochs = 100\n",
    "\n",
    "print(\n",
    "    \"Training {} neural network on {} with {} for {} epochs...\".format(\n",
    "        model_args.name, data_args.name, optimizer_args.name, epochs\n",
    "    )\n",
    ")\n",
    "\n",
    "print(\"Optimizer:\")\n",
    "print(optimizer_args)\n",
    "\n",
    "model.train(dataset, epochs=epochs)"
   ]
  },
  {
   "cell_type": "code",
   "execution_count": 11,
   "metadata": {},
   "outputs": [
    {
     "name": "stdout",
     "output_type": "stream",
     "text": [
      "Test Loss: 0.0162 Test Accuracy: 0.9838\n"
     ]
    },
    {
     "data": {
      "text/plain": [
       "{'loss': [array([0.0223084]),\n",
       "  array([0.01206321]),\n",
       "  array([0.01506659]),\n",
       "  array([0.01414687]),\n",
       "  array([0.01461098]),\n",
       "  array([0.02120598]),\n",
       "  array([0.01013413]),\n",
       "  array([0.01186613]),\n",
       "  array([0.00905799]),\n",
       "  array([0.01763918]),\n",
       "  array([0.01615709]),\n",
       "  array([0.01461943]),\n",
       "  array([0.02429735]),\n",
       "  array([0.01557787]),\n",
       "  array([0.0173322]),\n",
       "  array([0.01584261]),\n",
       "  array([0.01931496]),\n",
       "  array([0.01809409]),\n",
       "  array([0.01775883]),\n",
       "  array([0.01757793]),\n",
       "  array([0.01421028]),\n",
       "  array([0.01858624]),\n",
       "  array([0.01008516]),\n",
       "  array([0.01401722]),\n",
       "  array([0.01831869]),\n",
       "  array([0.01655262]),\n",
       "  array([0.02250655]),\n",
       "  array([0.0209668]),\n",
       "  array([0.02101463]),\n",
       "  array([0.01193267]),\n",
       "  array([0.01676676]),\n",
       "  array([0.01739221]),\n",
       "  array([0.01421736]),\n",
       "  array([0.01407951]),\n",
       "  array([0.01258144]),\n",
       "  array([0.01440641]),\n",
       "  array([0.01786336]),\n",
       "  array([0.01574584]),\n",
       "  array([0.01098504]),\n",
       "  array([0.01439115]),\n",
       "  array([0.0112913]),\n",
       "  array([0.01773798]),\n",
       "  array([0.01732954]),\n",
       "  array([0.01257833]),\n",
       "  array([0.01403304]),\n",
       "  array([0.01835799]),\n",
       "  array([0.01792721]),\n",
       "  array([0.01270884]),\n",
       "  array([0.02069708]),\n",
       "  array([0.02016002]),\n",
       "  array([0.01328903]),\n",
       "  array([0.01978951]),\n",
       "  array([0.0201618]),\n",
       "  array([0.0105115]),\n",
       "  array([0.01907828]),\n",
       "  array([0.01399136]),\n",
       "  array([0.01993206]),\n",
       "  array([0.01495765]),\n",
       "  array([0.01782032]),\n",
       "  array([0.01275118]),\n",
       "  array([0.01326748]),\n",
       "  array([0.0135172]),\n",
       "  array([0.01258862]),\n",
       "  array([0.02183939]),\n",
       "  array([0.01451659]),\n",
       "  array([0.01551476]),\n",
       "  array([0.01273421]),\n",
       "  array([0.01672177]),\n",
       "  array([0.01388916]),\n",
       "  array([0.01340211]),\n",
       "  array([0.01442161]),\n",
       "  array([0.01635749]),\n",
       "  array([0.0263232]),\n",
       "  array([0.01743653]),\n",
       "  array([0.01465748]),\n",
       "  array([0.01786659]),\n",
       "  array([0.01889169]),\n",
       "  array([0.0114865]),\n",
       "  array([0.02079827]),\n",
       "  array([0.02426918])],\n",
       " 'error': [0.02230839828337745,\n",
       "  0.012063209564356074,\n",
       "  0.015066587218508821,\n",
       "  0.014146869251879097,\n",
       "  0.014610979793035278,\n",
       "  0.021205981000892535,\n",
       "  0.010134132732541242,\n",
       "  0.011866127460388447,\n",
       "  0.009057987135134457,\n",
       "  0.01763918367505357,\n",
       "  0.016157086423781067,\n",
       "  0.01461943417452386,\n",
       "  0.024297346614831218,\n",
       "  0.01557786691199297,\n",
       "  0.01733220467241256,\n",
       "  0.015842607338502155,\n",
       "  0.019314962360738198,\n",
       "  0.01809408862057247,\n",
       "  0.017758834399997377,\n",
       "  0.01757792691018409,\n",
       "  0.014210278469521569,\n",
       "  0.018586237314835004,\n",
       "  0.010085161770132856,\n",
       "  0.014017217439443482,\n",
       "  0.018318687401843278,\n",
       "  0.01655261602356963,\n",
       "  0.022506554042459395,\n",
       "  0.020966798984223725,\n",
       "  0.021014630885895058,\n",
       "  0.011932669823677973,\n",
       "  0.016766764775889797,\n",
       "  0.017392209022161174,\n",
       "  0.01421736139163111,\n",
       "  0.014079514609044254,\n",
       "  0.01258143979081586,\n",
       "  0.01440641240773558,\n",
       "  0.017863362320104433,\n",
       "  0.015745839269840495,\n",
       "  0.010985040751060837,\n",
       "  0.014391145830633698,\n",
       "  0.011291297479092834,\n",
       "  0.017737983762385407,\n",
       "  0.017329539085486845,\n",
       "  0.01257833267581102,\n",
       "  0.014033038179719097,\n",
       "  0.018357994109538655,\n",
       "  0.0179272061776082,\n",
       "  0.012708839713828525,\n",
       "  0.020697079503478526,\n",
       "  0.020160021333577707,\n",
       "  0.013289027727549729,\n",
       "  0.019789506902261944,\n",
       "  0.020161801235184865,\n",
       "  0.010511497763935045,\n",
       "  0.01907828043338247,\n",
       "  0.013991361065206973,\n",
       "  0.01993206489819614,\n",
       "  0.014957645470897363,\n",
       "  0.01782032111667134,\n",
       "  0.012751177109587399,\n",
       "  0.01326747702812954,\n",
       "  0.01351720106493877,\n",
       "  0.012588619019299706,\n",
       "  0.021839387626619352,\n",
       "  0.01451658816152621,\n",
       "  0.015514757559579888,\n",
       "  0.012734206256293528,\n",
       "  0.01672176915806162,\n",
       "  0.013889159571851536,\n",
       "  0.013402112655350691,\n",
       "  0.014421612924206748,\n",
       "  0.016357494700526654,\n",
       "  0.026323200994890023,\n",
       "  0.017436533836080844,\n",
       "  0.014657476124581365,\n",
       "  0.017866591086010023,\n",
       "  0.018891690186111452,\n",
       "  0.011486501280993062,\n",
       "  0.020798272260751486,\n",
       "  0.024269182962443642]}"
      ]
     },
     "execution_count": 11,
     "metadata": {},
     "output_type": "execute_result"
    }
   ],
   "source": [
    "model.test(dataset)"
   ]
  },
  {
   "cell_type": "code",
   "execution_count": 12,
   "metadata": {},
   "outputs": [
    {
     "data": {
      "image/png": "[encoded data removed]",
      "text/plain": [
       "<IPython.core.display.Image object>"
      ]
     },
     "execution_count": 12,
     "metadata": {},
     "output_type": "execute_result"
    }
   ],
   "source": [
    "Image(\"experiments/sinewave_rnn/loss.png\")"
   ]
  },
  {
   "cell_type": "code",
   "execution_count": 13,
   "metadata": {},
   "outputs": [
    {
     "data": {
      "image/png": "[encoded data removed]",
      "text/plain": [
       "<IPython.core.display.Image object>"
      ]
     },
     "execution_count": 13,
     "metadata": {},
     "output_type": "execute_result"
    }
   ],
   "source": [
    "Image(\"experiments/sinewave_rnn/error.png\")"
   ]
  },
  {
   "cell_type": "markdown",
   "metadata": {},
   "source": [
    "# 5"
   ]
  },
  {
   "cell_type": "markdown",
   "metadata": {},
   "source": [
    "## Conv Forward/Backward Checker"
   ]
  },
  {
   "cell_type": "code",
   "execution_count": 9,
   "metadata": {},
   "outputs": [
    {
     "name": "stdout",
     "output_type": "stream",
     "text": [
      "It is True that `Conv2D.forward` is correct.\n",
      "It is True that `Conv2D.backward` is correct.\n"
     ]
    }
   ],
   "source": [
    "%autoreload\n",
    "X = np.random.randn(2, 5, 6, 7)\n",
    "dLdY = np.random.randn(2, 5, 6, 4)\n",
    "\n",
    "# initialize a fully connected layer\n",
    "# and perform a forward and backward pass\n",
    "conv_layer = Conv2D(\n",
    "    n_out=4,\n",
    "    kernel_shape=(3, 3),\n",
    "    activation=\"tanh\",\n",
    "    weight_init=\"uniform\",\n",
    "    pad=\"same\",\n",
    ")\n",
    "\n",
    "student_forward = conv_layer.forward(X)\n",
    "student_backward = conv_layer.backward(dLdY)\n",
    "\n",
    "staff_forward = conv_layer.forward_faster(X)\n",
    "staff_backward = conv_layer.backward_faster(dLdY)\n",
    "\n",
    "\n",
    "print(f\"It is {np.allclose(student_forward, staff_forward)} that `Conv2D.forward` is correct.\")\n",
    "print(f\"It is {np.allclose(student_backward, staff_backward)} that `Conv2D.backward` is correct.\")\n"
   ]
  },
  {
   "cell_type": "code",
   "execution_count": 4,
   "metadata": {},
   "outputs": [
    {
     "name": "stdout",
     "output_type": "stream",
     "text": [
      "Relative error for W: 1.1620319076183368e-10\n",
      "Relative error for b: 5.863115399347377e-11\n"
     ]
    }
   ],
   "source": [
    "%autoreload 2\n",
    "\n",
    "X = np.random.randn(2, 5, 6, 7)\n",
    "dLdY = np.random.randn(2, 5, 6, 4)\n",
    "\n",
    "# initialize a fully connected layer\n",
    "# and perform a forward and backward pass\n",
    "conv_layer = Conv2D(\n",
    "    n_out=4,\n",
    "    kernel_shape=(3, 3),\n",
    "    activation=\"linear\",\n",
    "    weight_init=\"uniform\",\n",
    "    pad=\"same\",\n",
    ")\n",
    "_ = conv_layer.forward(X)\n",
    "_ = conv_layer.backward(dLdY)\n",
    "\n",
    "# check the gradients w.r.t. each parameter\n",
    "for param in conv_layer.parameters:\n",
    "    print(\n",
    "        f\"Relative error for {param}:\",\n",
    "        check_gradients(\n",
    "            fn=conv_layer.forward_with_param(param, X),  # the function we are checking\n",
    "            grad=conv_layer.gradients[param],  # the analytically computed gradient\n",
    "            x=conv_layer.parameters[param],  # the variable w.r.t. which we are taking the gradient\n",
    "            dLdf=dLdY,                     # gradient at previous layer\n",
    "        )\n",
    "    )"
   ]
  },
  {
   "cell_type": "code",
   "execution_count": null,
   "metadata": {},
   "outputs": [],
   "source": []
  }
 ],
 "metadata": {
  "kernelspec": {
   "display_name": "Python 3",
   "language": "python",
   "name": "python3"
  },
  "language_info": {
   "codemirror_mode": {
    "name": "ipython",
    "version": 3
   },
   "file_extension": ".py",
   "mimetype": "text/x-python",
   "name": "python",
   "nbconvert_exporter": "python",
   "pygments_lexer": "ipython3",
   "version": "3.7.6"
  }
 },
 "nbformat": 4,
 "nbformat_minor": 4
}
